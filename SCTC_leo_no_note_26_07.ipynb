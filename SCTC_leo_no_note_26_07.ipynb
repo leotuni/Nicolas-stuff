{
  "nbformat": 4,
  "nbformat_minor": 0,
  "metadata": {
    "accelerator": "GPU",
    "colab": {
      "name": "SCTC_leo_no_note_26_07.ipynb",
      "provenance": [],
      "collapsed_sections": [],
      "include_colab_link": true
    },
    "kernelspec": {
      "display_name": "Python 3",
      "language": "python",
      "name": "python3"
    },
    "language_info": {
      "codemirror_mode": {
        "name": "ipython",
        "version": 3
      },
      "file_extension": ".py",
      "mimetype": "text/x-python",
      "name": "python",
      "nbconvert_exporter": "python",
      "pygments_lexer": "ipython3",
      "version": "3.8.3"
    }
  },
  "cells": [
    {
      "cell_type": "markdown",
      "metadata": {
        "id": "view-in-github",
        "colab_type": "text"
      },
      "source": [
        "<a href=\"https://colab.research.google.com/github/leotuni/Nicolas-stuff/blob/master/SCTC_leo_no_note_26_07.ipynb\" target=\"_parent\"><img src=\"https://colab.research.google.com/assets/colab-badge.svg\" alt=\"Open In Colab\"/></a>"
      ]
    },
    {
      "cell_type": "code",
      "metadata": {
        "cellView": "form",
        "colab_type": "code",
        "id": "NAty8NCOwLR3",
        "colab": {
          "base_uri": "https://localhost:8080/",
          "height": 74
        },
        "outputId": "9f616385-ce83-4d8b-fa57-fa5335533d32"
      },
      "source": [
        "#@title imports\n",
        "import datetime as dt\n",
        "import pandas as pd\n",
        "import pandas_datareader.data as web\n",
        "import numpy as np \n",
        "from itertools import product \n",
        "\n",
        "\n",
        "#display tools \n",
        "from IPython.display import display\n",
        "pd.options.display.max_columns = None\n",
        "# style.use('ggplot') #this is a cool style\n",
        "\n",
        "#Plots\n",
        "import seaborn as sns; sns.set()\n",
        "import matplotlib.pyplot as plt\n",
        "import plotly.graph_objects as go\n"
      ],
      "execution_count": 2,
      "outputs": [
        {
          "output_type": "stream",
          "text": [
            "/usr/local/lib/python3.6/dist-packages/pandas_datareader/compat/__init__.py:7: FutureWarning: pandas.util.testing is deprecated. Use the functions in the public API at pandas.testing instead.\n",
            "  from pandas.util.testing import assert_frame_equal\n"
          ],
          "name": "stderr"
        }
      ]
    },
    {
      "cell_type": "code",
      "metadata": {
        "cellView": "form",
        "colab_type": "code",
        "id": "1eNJK4r2wcXU",
        "colab": {}
      },
      "source": [
        "#@title Dataframe setup  { form-width: \"30px\" }\n",
        "#the date in a nice date format\n",
        "start_date_data = '2018-02-14' #@param {type:\"date\"} \n",
        "start = dt.datetime.strptime(start_date_data, '%Y-%m-%d') \n",
        "stop = dt.datetime.now()\n",
        "\n",
        "#the symbols you gave me \n",
        "symbols = ['BTC-EUR','ETH-EUR', 'LTC-EUR' , 'XRP-EUR', 'BCH-EUR','MIOTA-EUR' ]\n",
        "\n",
        "\n",
        "#create a dictionary with all the stocks Q: do you prefer to work with lists of dictionaries ? \n",
        "dict_of_stock = { s: web.DataReader(s, \"yahoo\", start, stop) for s in (symbols) }\n"
      ],
      "execution_count": 3,
      "outputs": []
    },
    {
      "cell_type": "code",
      "metadata": {
        "cellView": "form",
        "colab_type": "code",
        "id": "WeBhRlrbwwSF",
        "colab": {}
      },
      "source": [
        "#@title Functions SMA part (set BUY as + and Sell as - In dataframe)  { form-width: \"30px\" }\n",
        "\n",
        "def conditions_fun (df, col1, col2, choices= '''[df['Close'], -df['Close']]''', defa = 0): \n",
        "    ''' \n",
        "      dataframe, col2, col2, choice after condition, defa = 0\n",
        "      returns pandas series, index taken from df. \n",
        "      Choices decide if we assing a postive or a negative number when buy or sell condition is met\n",
        "    \n",
        "    '''\n",
        "    conditions = [\n",
        "                    ((df[col1] > df[col2]) & (df[col1].shift(1) < df[col2].shift(1))), #buy condition\n",
        "                    ((df[col1] < df[col2]) & (df[col1].shift(1) > df[col2].shift(1))), #sell condition\n",
        "                    ]\n",
        "    return  (pd.Series(np.select(conditions, choices, default=defa), index=df.index)) #default value we do nothing\n",
        "\n"
      ],
      "execution_count": 4,
      "outputs": []
    },
    {
      "cell_type": "code",
      "metadata": {
        "cellView": "both",
        "colab_type": "code",
        "id": "dc5w7pzFwnd1",
        "colab": {}
      },
      "source": [
        "#@title SMA main: different rolling window sizes { form-width: \"30px\" }\n",
        "\n",
        "#Only getting close since it is all we are using \n",
        "Close=dict_of_stock['BTC-EUR']['Close']\n",
        "Close=Close.groupby(Close.index).first() #removes the duplicate indexes\n",
        "\n",
        "# made them from 2-6 , 7-11 just cause it is easier to see. made into strings cause im using them as col_names\n",
        "SMA1 = list(map(str, range(2, 30))) #\n",
        "SMA2 = list(map(str, range(31, 60)))\n",
        "\n",
        "# # table = [ Close.rolling(s,min_periods=1).mean() for s in (np.arange(1,10))]\n",
        "data = pd.DataFrame.from_dict({ s: Close.rolling(int(s),min_periods=1).mean() for s in SMA1 + SMA2 }) \n",
        "data.insert(0, 'Close', Close)\n",
        "\n",
        "\n",
        "#This creates a df for the buy and sell values based on the conditions\n",
        "buy_sell_df = pd.DataFrame.from_dict({  sma1 + '_' + sma2: conditions_fun (data, sma1, sma2 , choices= [data['Close'], -data['Close']])  for sma1, sma2  in product(SMA1, SMA2) })\n",
        "buy_sell_df.insert(0, 'Close', Close)\n",
        "\n",
        "# other solution, currently not using it. \n",
        "# buy_sell_df.where(buy_sell_df.gt(0).cummax(), 0, inplace=True) #https://stackoverflow.com/questions/62533032/pandas-replace-col-values-before-first-postive-with-0/62533267#62533267\n",
        " \n",
        "\n",
        "#if last non-zero element is negative(buying), replace with 0\n",
        "s = buy_sell_df.iloc[::-1] #inverts the dataframe \n",
        "buy_sell_df[s.lt(0).cumsum().eq(1) & (~s.gt(0).cummax())] = 0\n",
        "\n",
        "#if first non-zero elemnt is positive (selling), replace with 0\n",
        "s= buy_sell_df.iloc[::] #normal dataframe \n",
        "buy_sell_df[s.gt(0).cumsum().eq(1) & (~s.lt(0).cummax())] = 0\n",
        "\n",
        "\n",
        "# #look at these two \n",
        "# data\n",
        "# pd.set_option('display.max_rows', None)\n",
        "\n",
        "# buy_sell_df[:]\n",
        "\n"
      ],
      "execution_count": 5,
      "outputs": []
    },
    {
      "cell_type": "code",
      "metadata": {
        "id": "SBKV8Gh6CK7f",
        "colab_type": "code",
        "colab": {
          "base_uri": "https://localhost:8080/",
          "height": 35
        },
        "outputId": "2f53acd9-1e49-484f-ee44-24e7690c2c7e"
      },
      "source": [
        "#26/07/2020:\n",
        "#DQ-check if all trades are closed\n",
        "buy_sell_df_drop_close = buy_sell_df.drop(['Close'], axis=1)\n",
        "NumTradeStrat = buy_sell_df_drop_close.ne(0).cumsum().max()\n",
        "TradeClosed = NumTradeStrat%2\n",
        "sum(TradeClosed.eq(1).cumsum()) #should be zero"
      ],
      "execution_count": 6,
      "outputs": [
        {
          "output_type": "execute_result",
          "data": {
            "text/plain": [
              "0"
            ]
          },
          "metadata": {
            "tags": []
          },
          "execution_count": 6
        }
      ]
    },
    {
      "cell_type": "code",
      "metadata": {
        "cellView": "form",
        "colab_type": "code",
        "id": "dsbN7rH4v9__",
        "colab": {}
      },
      "source": [
        "#@title PLOT: Frequency of buy sell events for SMA pairs\n",
        "\n",
        "mask_gt=buy_sell_df.gt(0)\n",
        "mask_lt=buy_sell_df.lt(0)\n",
        "Data=buy_sell_df.drop(['Close'], axis=1)\n",
        "Data[mask_gt]=1\n",
        "Data[mask_lt]=-1\n",
        "\n",
        "fig = go.Figure(data=go.Heatmap(\n",
        "        z=Data.to_numpy().transpose(),\n",
        "        x=Data.index,\n",
        "        y=Data.columns,\n",
        "        colorscale='Viridis'))\n",
        "\n",
        "fig.update_layout(\n",
        "    title='Buy (B) sell(Y) shown over time',\n",
        "    xaxis_nticks=36)\n",
        "\n",
        "fig.show()"
      ],
      "execution_count": null,
      "outputs": []
    },
    {
      "cell_type": "code",
      "metadata": {
        "cellView": "form",
        "colab_type": "code",
        "id": "Rb7NHEAccEbf",
        "colab": {}
      },
      "source": [
        "#@title PLOT:  Heatmap #of times a buy/sell is triggered \n",
        "#since they area all odd this makes no sense. \n",
        "\n",
        "# Counts= buy_sell_df.astype(bool).sum(axis=0).drop('Close', inplace=True)\n",
        "Counts = pd.DataFrame( { 'Position': buy_sell_df.astype(bool).sum(axis=0)[1:].index, 'Value': buy_sell_df.astype(bool).sum(axis=0)[1:]  } ) \n",
        "Counts.index=pd.MultiIndex.from_tuples(Counts.Position.str.split('_').apply(tuple))\n",
        "\n",
        "c=Counts.Value.unstack(0)\n",
        "#make the colums into integers\n",
        "c.columns = pd.to_numeric(c.columns, errors = 'coerce')\n",
        "c.sort_index(axis=1, inplace= True)\n",
        "\n",
        "#make the index ordered \n",
        "c.index= pd.to_numeric(c.index, errors = 'coerce')\n",
        "c.sort_index(axis=0, inplace=True)\n",
        "\n",
        "\n",
        "ax = sns.heatmap(c)\n",
        "plt.ylabel('SMA1')\n",
        "plt.xlabel('SMA2')\n",
        "plt.title('Heatmap #of conditions met')\n",
        "\n"
      ],
      "execution_count": null,
      "outputs": []
    },
    {
      "cell_type": "code",
      "metadata": {
        "id": "X1Ct1vRVCK8S",
        "colab_type": "code",
        "colab": {}
      },
      "source": [
        "c"
      ],
      "execution_count": null,
      "outputs": []
    },
    {
      "cell_type": "markdown",
      "metadata": {
        "colab_type": "text",
        "id": "QwzVGioXV6jR"
      },
      "source": [
        "The best SMA: evaluations are - : \n",
        "\n"
      ]
    },
    {
      "cell_type": "code",
      "metadata": {
        "cellView": "form",
        "colab_type": "code",
        "id": "kEJrd3BobHB-",
        "colab": {
          "base_uri": "https://localhost:8080/"
        },
        "outputId": "7dafad37-042d-47e3-feb2-2d01003572a0"
      },
      "source": [
        "#@title PLOT Heatmap of profit for SMA: https://stackoverflow.com/questions/62640043/python-create-heatmap-using-string-in-col1-x-y-as-coordinates { form-width: \"30px\" }\n",
        "Profit = pd.DataFrame( { 'Position': buy_sell_df.sum()[1:].index, 'Value': buy_sell_df.sum()[1:]  } ) \n",
        "\n",
        "\n",
        "Profit.index=pd.MultiIndex.from_tuples(Profit.Position.str.split('_').apply(tuple))\n",
        "p=Profit.Value.unstack(0)\n",
        "\n",
        "p.columns = pd.to_numeric(p.columns, errors = 'coerce')\n",
        "p.sort_index(axis=1, inplace= True)\n",
        "p.index= pd.to_numeric(p.index, errors = 'coerce')\n",
        "p.sort_index(axis=0, inplace=True)\n",
        "\n",
        "\n",
        "ax = sns.heatmap(p)\n",
        "plt.ylabel('SMA1')\n",
        "plt.xlabel('SMA2')\n",
        "plt.title('Heatmap Profit (-buy + sell)')\n",
        "\n",
        "\n",
        "# Profit.max()['Value']\n",
        "\n"
      ],
      "execution_count": 10,
      "outputs": [
        {
          "output_type": "execute_result",
          "data": {
            "text/plain": [
              "Text(0.5, 1.0, 'Heatmap Profit (-buy + sell)')"
            ]
          },
          "metadata": {
            "tags": []
          },
          "execution_count": 10
        },
        {
          "output_type": "display_data",
          "data": {
            "image/png": "[encoded data removed]",
            "text/plain": [
              "<Figure size 432x288 with 2 Axes>"
            ]
          },
          "metadata": {
            "tags": []
          }
        }
      ]
    },
    {
      "cell_type": "markdown",
      "metadata": {
        "colab_type": "text",
        "id": "U2DT3SnMgDfr"
      },
      "source": [
        "#19-07 Nicolas Update"
      ]
    },
    {
      "cell_type": "code",
      "metadata": {
        "cellView": "form",
        "colab_type": "code",
        "id": "0WrnvACKnqCj",
        "colab": {
          "base_uri": "https://localhost:8080/",
          "height": 54
        },
        "outputId": "6af47fd4-437f-401c-ab62-0df0b07fd208"
      },
      "source": [
        "#@title Leo's version of \"#19/07/2020: Find maximum values & position\" and \"#19/07/2020:\" (the 2 cells above) { form-width: \"30px\" }\n",
        "\n",
        "best_sma1, best_sma2 = list(map(int, Profit['Value'].idxmax(axis=1))) \n",
        "\n",
        "print(\"Maximum Return was \", Profit['Value'].max() )\n",
        "print(\"best short SMA pair is: \",best_sma1, ' ', best_sma2)\n",
        "\n"
      ],
      "execution_count": 11,
      "outputs": [
        {
          "output_type": "stream",
          "text": [
            "Maximum Return was  2472.257568359375\n",
            "best short SMA pair is:  23   32\n"
          ],
          "name": "stdout"
        }
      ]
    },
    {
      "cell_type": "code",
      "metadata": {
        "id": "dD3zWpnnCK9A",
        "colab_type": "code",
        "colab": {
          "base_uri": "https://localhost:8080/",
          "height": 198
        },
        "outputId": "3c937b2a-5e3f-41b0-b74d-0f2181919a97"
      },
      "source": [
        "Profit.sort_values(by='Value', ascending=False).head()"
      ],
      "execution_count": 12,
      "outputs": [
        {
          "output_type": "execute_result",
          "data": {
            "text/html": [
              "<div>\n",
              "<style scoped>\n",
              "    .dataframe tbody tr th:only-of-type {\n",
              "        vertical-align: middle;\n",
              "    }\n",
              "\n",
              "    .dataframe tbody tr th {\n",
              "        vertical-align: top;\n",
              "    }\n",
              "\n",
              "    .dataframe thead th {\n",
              "        text-align: right;\n",
              "    }\n",
              "</style>\n",
              "<table border=\"1\" class=\"dataframe\">\n",
              "  <thead>\n",
              "    <tr style=\"text-align: right;\">\n",
              "      <th></th>\n",
              "      <th></th>\n",
              "      <th>Position</th>\n",
              "      <th>Value</th>\n",
              "    </tr>\n",
              "  </thead>\n",
              "  <tbody>\n",
              "    <tr>\n",
              "      <th>23</th>\n",
              "      <th>32</th>\n",
              "      <td>23_32</td>\n",
              "      <td>2472.257568</td>\n",
              "    </tr>\n",
              "    <tr>\n",
              "      <th>25</th>\n",
              "      <th>31</th>\n",
              "      <td>25_31</td>\n",
              "      <td>2345.055176</td>\n",
              "    </tr>\n",
              "    <tr>\n",
              "      <th rowspan=\"2\" valign=\"top\">24</th>\n",
              "      <th>31</th>\n",
              "      <td>24_31</td>\n",
              "      <td>2285.109619</td>\n",
              "    </tr>\n",
              "    <tr>\n",
              "      <th>32</th>\n",
              "      <td>24_32</td>\n",
              "      <td>2167.719238</td>\n",
              "    </tr>\n",
              "    <tr>\n",
              "      <th>21</th>\n",
              "      <th>33</th>\n",
              "      <td>21_33</td>\n",
              "      <td>2154.839600</td>\n",
              "    </tr>\n",
              "  </tbody>\n",
              "</table>\n",
              "</div>"
            ],
            "text/plain": [
              "      Position        Value\n",
              "23 32    23_32  2472.257568\n",
              "25 31    25_31  2345.055176\n",
              "24 31    24_31  2285.109619\n",
              "   32    24_32  2167.719238\n",
              "21 33    21_33  2154.839600"
            ]
          },
          "metadata": {
            "tags": []
          },
          "execution_count": 12
        }
      ]
    },
    {
      "cell_type": "code",
      "metadata": {
        "id": "3X2wTmJ3CK9L",
        "colab_type": "code",
        "colab": {}
      },
      "source": [
        "#26/07/2020: Getting Trades\n",
        "Trades = buy_sell_df['23_32'][buy_sell_df['23_32'].ne(0)]\n",
        "Trades\n",
        "\n",
        "\n",
        "\n"
      ],
      "execution_count": null,
      "outputs": []
    },
    {
      "cell_type": "code",
      "metadata": {
        "id": "oyoPrZypCK9U",
        "colab_type": "code",
        "colab": {}
      },
      "source": [
        "#Trades\n",
        "#for idx, val enumerate(Trades):\n",
        "#    print(idx)\n",
        "def Get_Returns(Trades):\n",
        "    AbsReturn = []\n",
        "    PrcntReturn = []\n",
        "    for i in range(1, len((Trades)), 2):\n",
        "        print (i, i-1)\n",
        "        Abs = Trades[i] + Trades[i-1]\n",
        "        print (Abs)\n",
        "        AbsReturn.append(Abs)\n",
        "        Prcnt = ((Trades[i] + Trades[i-1])/(Trades[i-1]*-1))\n",
        "        PrcntReturn.append(Prcnt)\n",
        "    AbsReturn.sort(), PrcntReturn.sort()\n",
        "    \n",
        "    return AbsReturn, PrcntReturn\n"
      ],
      "execution_count": 47,
      "outputs": []
    },
    {
      "cell_type": "code",
      "metadata": {
        "id": "YataTrwbCK9d",
        "colab_type": "code",
        "colab": {}
      },
      "source": [
        "AbsReturn, PrcntReturn =  Get_Returns(Trades)\n",
        "\n",
        "AbsReturn, PrcntReturn \n"
      ],
      "execution_count": null,
      "outputs": []
    },
    {
      "cell_type": "code",
      "metadata": {
        "id": "uwUgmYDICK9p",
        "colab_type": "code",
        "colab": {}
      },
      "source": [
        "np.mean(AbsReturn), np.mean(PrcntReturn)\n",
        "\n"
      ],
      "execution_count": null,
      "outputs": []
    },
    {
      "cell_type": "markdown",
      "metadata": {
        "id": "tAeeYHH6EfFj",
        "colab_type": "text"
      },
      "source": [
        "# My attempt at what you did above 26/07\n"
      ]
    },
    {
      "cell_type": "code",
      "metadata": {
        "id": "SQCFbA_NEowy",
        "colab_type": "code",
        "colab": {},
        "cellView": "form"
      },
      "source": [
        "#@title Making a dataframe with ABSreturn, PCRreturn and other values\n",
        "def Returns_frame (df_ =buy_sell_df, pair='23_32'):\n",
        "  s = df_[pair] #s for series just to cut back on writing buy_sell_df[pair] on every line. \n",
        "  df_= pd.DataFrame({\n",
        "      'Buy_date'   : s.index[s < 0],\n",
        "      'Sell_date'  : s.index[s > 0],\n",
        "      'AbsReturn'  : s[s>0] + s[s<0].to_numpy(),    \n",
        "      'PrcntReturn': (s[s>0] + s[s<0].to_numpy())/ (s[s<0].to_numpy()*-1),                 \n",
        "                     })\n",
        "  df_['Open_time'] = df_['Sell_date']-df_['Buy_date']\n",
        "  df_['AbsReturn_perday'] = df_['AbsReturn']/df_['Open_time'].dt.days\n",
        "  df_[\"C\"] = np.sign(df_['AbsReturn'])\n",
        "  return(df_)\n",
        "  \n",
        "\n",
        "Returns_frame()\n"
      ],
      "execution_count": null,
      "outputs": []
    },
    {
      "cell_type": "markdown",
      "metadata": {
        "id": "50qoX6_fq5XG",
        "colab_type": "text"
      },
      "source": [
        "From the graph below you can tell that when we are losing money we have long open positions, and they tend to lose a lot of money. "
      ]
    },
    {
      "cell_type": "code",
      "metadata": {
        "id": "OEEgjr1CpraM",
        "colab_type": "code",
        "colab": {
          "base_uri": "https://localhost:8080/",
          "height": 542
        },
        "outputId": "a776808c-674e-4118-df0d-a90a24484398"
      },
      "source": [
        "df_=Returns_frame()\n",
        "df_['Open_time']=df_['Open_time'].dt.days\n",
        "fig = px.scatter_matrix(df_,\n",
        "    dimensions=[\"Open_time\", \"PrcntReturn\", \"AbsReturn_perday\", \"AbsReturn\"],\n",
        "    color=\"C\")\n",
        "fig.show()"
      ],
      "execution_count": 113,
      "outputs": [
        {
          "output_type": "display_data",
          "data": {
            "text/html": [
              "<html>\n",
              "<head><meta charset=\"utf-8\" /></head>\n",
              "<body>\n",
              "    <div>\n",
              "            <script src=\"https://cdnjs.cloudflare.com/ajax/libs/mathjax/2.7.5/MathJax.js?config=TeX-AMS-MML_SVG\"></script><script type=\"text/javascript\">if (window.MathJax) {MathJax.Hub.Config({SVG: {font: \"STIX-Web\"}});}</script>\n",
              "                <script type=\"text/javascript\">window.PlotlyConfig = {MathJaxConfig: 'local'};</script>\n",
              "        <script src=\"https://cdn.plot.ly/plotly-latest.min.js\"></script>    \n",
              "            <div id=\"de2a4680-7e59-4425-97fd-eec56e2441be\" class=\"plotly-graph-div\" style=\"height:525px; width:100%;\"></div>\n",
              "            <script type=\"text/javascript\">\n",
              "                \n",
              "                    window.PLOTLYENV=window.PLOTLYENV || {};\n",
              "                    \n",
              "                if (document.getElementById(\"de2a4680-7e59-4425-97fd-eec56e2441be\")) {\n",
              "                    Plotly.newPlot(\n",
              "                        'de2a4680-7e59-4425-97fd-eec56e2441be',\n",
              "                        [{\"dimensions\": [{\"axis\": {\"matches\": true}, \"label\": \"Open_time\", \"values\": [40, 57, 19, 16, 16, 49, 35, 1, 20, 21, 33, 46, 35, 2, 8, 32]}, {\"axis\": {\"matches\": true}, \"label\": \"PrcntReturn\", \"values\": [0.18586414497666912, -0.07233943052797794, 0.14054407266969166, 0.032337546068011896, -0.0004428637532426729, -0.31323898119326704, 0.099309297363758, 0.004673462718088839, 0.11392540063702408, 0.05981424971217353, 0.12480870003556992, 0.08320776411327956, -0.14978861688427567, 0.011061830909320811, -0.032961814186296824, 0.038071005059254454]}, {\"axis\": {\"matches\": true}, \"label\": \"AbsReturn_perday\", \"values\": [31.054248046875, -8.660832990679825, 41.21227384868421, 11.189453125, -0.156494140625, -32.42523816167092, 9.099086216517858, 16.555419921875, 52.576171875, 24.831519717261905, 28.523763020833332, 12.141590947690217, -33.64275948660714, 47.28662109375, -35.779296875, 9.824462890625]}, {\"axis\": {\"matches\": true}, \"label\": \"AbsReturn\", \"values\": [1242.169921875, -493.66748046875, 783.033203125, 179.03125, -2.50390625, -1588.836669921875, 318.468017578125, 16.555419921875, 1051.5234375, 521.4619140625, 941.2841796875, 558.51318359375, -1177.49658203125, 94.5732421875, -286.234375, 314.3828125]}], \"hoverlabel\": {\"namelength\": 0}, \"hovertemplate\": \"%{xaxis.title.text}=%{x}<br>%{yaxis.title.text}=%{y}<br>C=%{marker.color}\", \"legendgroup\": \"\", \"marker\": {\"color\": [1.0, -1.0, 1.0, 1.0, -1.0, -1.0, 1.0, 1.0, 1.0, 1.0, 1.0, 1.0, -1.0, 1.0, -1.0, 1.0], \"coloraxis\": \"coloraxis\", \"symbol\": \"circle\"}, \"name\": \"\", \"showlegend\": false, \"type\": \"splom\"}],\n",
              "                        {\"coloraxis\": {\"colorbar\": {\"title\": {\"text\": \"C\"}}, \"colorscale\": [[0.0, \"#0d0887\"], [0.1111111111111111, \"#46039f\"], [0.2222222222222222, \"#7201a8\"], [0.3333333333333333, \"#9c179e\"], [0.4444444444444444, \"#bd3786\"], [0.5555555555555556, \"#d8576b\"], [0.6666666666666666, \"#ed7953\"], [0.7777777777777778, \"#fb9f3a\"], [0.8888888888888888, \"#fdca26\"], [1.0, \"#f0f921\"]]}, \"dragmode\": \"select\", \"legend\": {\"tracegroupgap\": 0}, \"margin\": {\"t\": 60}, \"template\": {\"data\": {\"bar\": [{\"error_x\": {\"color\": \"#2a3f5f\"}, \"error_y\": {\"color\": \"#2a3f5f\"}, \"marker\": {\"line\": {\"color\": \"#E5ECF6\", \"width\": 0.5}}, \"type\": \"bar\"}], \"barpolar\": [{\"marker\": {\"line\": {\"color\": \"#E5ECF6\", \"width\": 0.5}}, \"type\": \"barpolar\"}], \"carpet\": [{\"aaxis\": {\"endlinecolor\": \"#2a3f5f\", \"gridcolor\": \"white\", \"linecolor\": \"white\", \"minorgridcolor\": \"white\", \"startlinecolor\": \"#2a3f5f\"}, \"baxis\": {\"endlinecolor\": \"#2a3f5f\", \"gridcolor\": \"white\", \"linecolor\": \"white\", \"minorgridcolor\": \"white\", \"startlinecolor\": \"#2a3f5f\"}, \"type\": \"carpet\"}], \"choropleth\": [{\"colorbar\": {\"outlinewidth\": 0, \"ticks\": \"\"}, \"type\": \"choropleth\"}], \"contour\": [{\"colorbar\": {\"outlinewidth\": 0, \"ticks\": \"\"}, \"colorscale\": [[0.0, \"#0d0887\"], [0.1111111111111111, \"#46039f\"], [0.2222222222222222, \"#7201a8\"], [0.3333333333333333, \"#9c179e\"], [0.4444444444444444, \"#bd3786\"], [0.5555555555555556, \"#d8576b\"], [0.6666666666666666, \"#ed7953\"], [0.7777777777777778, \"#fb9f3a\"], [0.8888888888888888, \"#fdca26\"], [1.0, \"#f0f921\"]], \"type\": \"contour\"}], \"contourcarpet\": [{\"colorbar\": {\"outlinewidth\": 0, \"ticks\": \"\"}, \"type\": \"contourcarpet\"}], \"heatmap\": [{\"colorbar\": {\"outlinewidth\": 0, \"ticks\": \"\"}, \"colorscale\": [[0.0, \"#0d0887\"], [0.1111111111111111, \"#46039f\"], [0.2222222222222222, \"#7201a8\"], [0.3333333333333333, \"#9c179e\"], [0.4444444444444444, \"#bd3786\"], [0.5555555555555556, \"#d8576b\"], [0.6666666666666666, \"#ed7953\"], [0.7777777777777778, \"#fb9f3a\"], [0.8888888888888888, \"#fdca26\"], [1.0, \"#f0f921\"]], \"type\": \"heatmap\"}], \"heatmapgl\": [{\"colorbar\": {\"outlinewidth\": 0, \"ticks\": \"\"}, \"colorscale\": [[0.0, \"#0d0887\"], [0.1111111111111111, \"#46039f\"], [0.2222222222222222, \"#7201a8\"], [0.3333333333333333, \"#9c179e\"], [0.4444444444444444, \"#bd3786\"], [0.5555555555555556, \"#d8576b\"], [0.6666666666666666, \"#ed7953\"], [0.7777777777777778, \"#fb9f3a\"], [0.8888888888888888, \"#fdca26\"], [1.0, \"#f0f921\"]], \"type\": \"heatmapgl\"}], \"histogram\": [{\"marker\": {\"colorbar\": {\"outlinewidth\": 0, \"ticks\": \"\"}}, \"type\": \"histogram\"}], \"histogram2d\": [{\"colorbar\": {\"outlinewidth\": 0, \"ticks\": \"\"}, \"colorscale\": [[0.0, \"#0d0887\"], [0.1111111111111111, \"#46039f\"], [0.2222222222222222, \"#7201a8\"], [0.3333333333333333, \"#9c179e\"], [0.4444444444444444, \"#bd3786\"], [0.5555555555555556, \"#d8576b\"], [0.6666666666666666, \"#ed7953\"], [0.7777777777777778, \"#fb9f3a\"], [0.8888888888888888, \"#fdca26\"], [1.0, \"#f0f921\"]], \"type\": \"histogram2d\"}], \"histogram2dcontour\": [{\"colorbar\": {\"outlinewidth\": 0, \"ticks\": \"\"}, \"colorscale\": [[0.0, \"#0d0887\"], [0.1111111111111111, \"#46039f\"], [0.2222222222222222, \"#7201a8\"], [0.3333333333333333, \"#9c179e\"], [0.4444444444444444, \"#bd3786\"], [0.5555555555555556, \"#d8576b\"], [0.6666666666666666, \"#ed7953\"], [0.7777777777777778, \"#fb9f3a\"], [0.8888888888888888, \"#fdca26\"], [1.0, \"#f0f921\"]], \"type\": \"histogram2dcontour\"}], \"mesh3d\": [{\"colorbar\": {\"outlinewidth\": 0, \"ticks\": \"\"}, \"type\": \"mesh3d\"}], \"parcoords\": [{\"line\": {\"colorbar\": {\"outlinewidth\": 0, \"ticks\": \"\"}}, \"type\": \"parcoords\"}], \"pie\": [{\"automargin\": true, \"type\": \"pie\"}], \"scatter\": [{\"marker\": {\"colorbar\": {\"outlinewidth\": 0, \"ticks\": \"\"}}, \"type\": \"scatter\"}], \"scatter3d\": [{\"line\": {\"colorbar\": {\"outlinewidth\": 0, \"ticks\": \"\"}}, \"marker\": {\"colorbar\": {\"outlinewidth\": 0, \"ticks\": \"\"}}, \"type\": \"scatter3d\"}], \"scattercarpet\": [{\"marker\": {\"colorbar\": {\"outlinewidth\": 0, \"ticks\": \"\"}}, \"type\": \"scattercarpet\"}], \"scattergeo\": [{\"marker\": {\"colorbar\": {\"outlinewidth\": 0, \"ticks\": \"\"}}, \"type\": \"scattergeo\"}], \"scattergl\": [{\"marker\": {\"colorbar\": {\"outlinewidth\": 0, \"ticks\": \"\"}}, \"type\": \"scattergl\"}], \"scattermapbox\": [{\"marker\": {\"colorbar\": {\"outlinewidth\": 0, \"ticks\": \"\"}}, \"type\": \"scattermapbox\"}], \"scatterpolar\": [{\"marker\": {\"colorbar\": {\"outlinewidth\": 0, \"ticks\": \"\"}}, \"type\": \"scatterpolar\"}], \"scatterpolargl\": [{\"marker\": {\"colorbar\": {\"outlinewidth\": 0, \"ticks\": \"\"}}, \"type\": \"scatterpolargl\"}], \"scatterternary\": [{\"marker\": {\"colorbar\": {\"outlinewidth\": 0, \"ticks\": \"\"}}, \"type\": \"scatterternary\"}], \"surface\": [{\"colorbar\": {\"outlinewidth\": 0, \"ticks\": \"\"}, \"colorscale\": [[0.0, \"#0d0887\"], [0.1111111111111111, \"#46039f\"], [0.2222222222222222, \"#7201a8\"], [0.3333333333333333, \"#9c179e\"], [0.4444444444444444, \"#bd3786\"], [0.5555555555555556, \"#d8576b\"], [0.6666666666666666, \"#ed7953\"], [0.7777777777777778, \"#fb9f3a\"], [0.8888888888888888, \"#fdca26\"], [1.0, \"#f0f921\"]], \"type\": \"surface\"}], \"table\": [{\"cells\": {\"fill\": {\"color\": \"#EBF0F8\"}, \"line\": {\"color\": \"white\"}}, \"header\": {\"fill\": {\"color\": \"#C8D4E3\"}, \"line\": {\"color\": \"white\"}}, \"type\": \"table\"}]}, \"layout\": {\"annotationdefaults\": {\"arrowcolor\": \"#2a3f5f\", \"arrowhead\": 0, \"arrowwidth\": 1}, \"coloraxis\": {\"colorbar\": {\"outlinewidth\": 0, \"ticks\": \"\"}}, \"colorscale\": {\"diverging\": [[0, \"#8e0152\"], [0.1, \"#c51b7d\"], [0.2, \"#de77ae\"], [0.3, \"#f1b6da\"], [0.4, \"#fde0ef\"], [0.5, \"#f7f7f7\"], [0.6, \"#e6f5d0\"], [0.7, \"#b8e186\"], [0.8, \"#7fbc41\"], [0.9, \"#4d9221\"], [1, \"#276419\"]], \"sequential\": [[0.0, \"#0d0887\"], [0.1111111111111111, \"#46039f\"], [0.2222222222222222, \"#7201a8\"], [0.3333333333333333, \"#9c179e\"], [0.4444444444444444, \"#bd3786\"], [0.5555555555555556, \"#d8576b\"], [0.6666666666666666, \"#ed7953\"], [0.7777777777777778, \"#fb9f3a\"], [0.8888888888888888, \"#fdca26\"], [1.0, \"#f0f921\"]], \"sequentialminus\": [[0.0, \"#0d0887\"], [0.1111111111111111, \"#46039f\"], [0.2222222222222222, \"#7201a8\"], [0.3333333333333333, \"#9c179e\"], [0.4444444444444444, \"#bd3786\"], [0.5555555555555556, \"#d8576b\"], [0.6666666666666666, \"#ed7953\"], [0.7777777777777778, \"#fb9f3a\"], [0.8888888888888888, \"#fdca26\"], [1.0, \"#f0f921\"]]}, \"colorway\": [\"#636efa\", \"#EF553B\", \"#00cc96\", \"#ab63fa\", \"#FFA15A\", \"#19d3f3\", \"#FF6692\", \"#B6E880\", \"#FF97FF\", \"#FECB52\"], \"font\": {\"color\": \"#2a3f5f\"}, \"geo\": {\"bgcolor\": \"white\", \"lakecolor\": \"white\", \"landcolor\": \"#E5ECF6\", \"showlakes\": true, \"showland\": true, \"subunitcolor\": \"white\"}, \"hoverlabel\": {\"align\": \"left\"}, \"hovermode\": \"closest\", \"mapbox\": {\"style\": \"light\"}, \"paper_bgcolor\": \"white\", \"plot_bgcolor\": \"#E5ECF6\", \"polar\": {\"angularaxis\": {\"gridcolor\": \"white\", \"linecolor\": \"white\", \"ticks\": \"\"}, \"bgcolor\": \"#E5ECF6\", \"radialaxis\": {\"gridcolor\": \"white\", \"linecolor\": \"white\", \"ticks\": \"\"}}, \"scene\": {\"xaxis\": {\"backgroundcolor\": \"#E5ECF6\", \"gridcolor\": \"white\", \"gridwidth\": 2, \"linecolor\": \"white\", \"showbackground\": true, \"ticks\": \"\", \"zerolinecolor\": \"white\"}, \"yaxis\": {\"backgroundcolor\": \"#E5ECF6\", \"gridcolor\": \"white\", \"gridwidth\": 2, \"linecolor\": \"white\", \"showbackground\": true, \"ticks\": \"\", \"zerolinecolor\": \"white\"}, \"zaxis\": {\"backgroundcolor\": \"#E5ECF6\", \"gridcolor\": \"white\", \"gridwidth\": 2, \"linecolor\": \"white\", \"showbackground\": true, \"ticks\": \"\", \"zerolinecolor\": \"white\"}}, \"shapedefaults\": {\"line\": {\"color\": \"#2a3f5f\"}}, \"ternary\": {\"aaxis\": {\"gridcolor\": \"white\", \"linecolor\": \"white\", \"ticks\": \"\"}, \"baxis\": {\"gridcolor\": \"white\", \"linecolor\": \"white\", \"ticks\": \"\"}, \"bgcolor\": \"#E5ECF6\", \"caxis\": {\"gridcolor\": \"white\", \"linecolor\": \"white\", \"ticks\": \"\"}}, \"title\": {\"x\": 0.05}, \"xaxis\": {\"automargin\": true, \"gridcolor\": \"white\", \"linecolor\": \"white\", \"ticks\": \"\", \"title\": {\"standoff\": 15}, \"zerolinecolor\": \"white\", \"zerolinewidth\": 2}, \"yaxis\": {\"automargin\": true, \"gridcolor\": \"white\", \"linecolor\": \"white\", \"ticks\": \"\", \"title\": {\"standoff\": 15}, \"zerolinecolor\": \"white\", \"zerolinewidth\": 2}}}},\n",
              "                        {\"responsive\": true}\n",
              "                    ).then(function(){\n",
              "                            \n",
              "var gd = document.getElementById('de2a4680-7e59-4425-97fd-eec56e2441be');\n",
              "var x = new MutationObserver(function (mutations, observer) {{\n",
              "        var display = window.getComputedStyle(gd).display;\n",
              "        if (!display || display === 'none') {{\n",
              "            console.log([gd, 'removed!']);\n",
              "            Plotly.purge(gd);\n",
              "            observer.disconnect();\n",
              "        }}\n",
              "}});\n",
              "\n",
              "// Listen for the removal of the full notebook cells\n",
              "var notebookContainer = gd.closest('#notebook-container');\n",
              "if (notebookContainer) {{\n",
              "    x.observe(notebookContainer, {childList: true});\n",
              "}}\n",
              "\n",
              "// Listen for the clearing of the current output cell\n",
              "var outputEl = gd.closest('.output');\n",
              "if (outputEl) {{\n",
              "    x.observe(outputEl, {childList: true});\n",
              "}}\n",
              "\n",
              "                        })\n",
              "                };\n",
              "                \n",
              "            </script>\n",
              "        </div>\n",
              "</body>\n",
              "</html>"
            ]
          },
          "metadata": {
            "tags": []
          }
        }
      ]
    },
    {
      "cell_type": "code",
      "metadata": {
        "id": "U7HDrfcAcR8L",
        "colab_type": "code",
        "colab": {
          "base_uri": "https://localhost:8080/",
          "height": 542
        },
        "outputId": "351ad6dc-73f9-44c3-e2bd-c65e7104cfb5"
      },
      "source": [
        "df_=Returns_frame()\n",
        "\n",
        "fig = go.Figure()\n",
        "fig.add_trace(\n",
        "        go.Scatter(x=df_[\"AbsReturn\"], y=df_[\"Open_time\"].dt.days,  mode='markers',\n",
        "                #    hovertext=df_['iteration'] ,\n",
        "                #    hovertemplate =\n",
        "                #    '<b>Vth_sat<b>: %{y:.2f} [V]'   +\n",
        "                #    '<br><b>time</b>: %{x: .1f} [s]<br>'+\n",
        "                #    '<b>Iter<b>: %{hovertext}'),\n",
        "                #  secondary_y=False \n",
        "                ))\n"
      ],
      "execution_count": 112,
      "outputs": [
        {
          "output_type": "display_data",
          "data": {
            "text/html": [
              "<html>\n",
              "<head><meta charset=\"utf-8\" /></head>\n",
              "<body>\n",
              "    <div>\n",
              "            <script src=\"https://cdnjs.cloudflare.com/ajax/libs/mathjax/2.7.5/MathJax.js?config=TeX-AMS-MML_SVG\"></script><script type=\"text/javascript\">if (window.MathJax) {MathJax.Hub.Config({SVG: {font: \"STIX-Web\"}});}</script>\n",
              "                <script type=\"text/javascript\">window.PlotlyConfig = {MathJaxConfig: 'local'};</script>\n",
              "        <script src=\"https://cdn.plot.ly/plotly-latest.min.js\"></script>    \n",
              "            <div id=\"45a482c8-2727-48ed-a50f-3c1860c0dd53\" class=\"plotly-graph-div\" style=\"height:525px; width:100%;\"></div>\n",
              "            <script type=\"text/javascript\">\n",
              "                \n",
              "                    window.PLOTLYENV=window.PLOTLYENV || {};\n",
              "                    \n",
              "                if (document.getElementById(\"45a482c8-2727-48ed-a50f-3c1860c0dd53\")) {\n",
              "                    Plotly.newPlot(\n",
              "                        '45a482c8-2727-48ed-a50f-3c1860c0dd53',\n",
              "                        [{\"mode\": \"markers\", \"type\": \"scatter\", \"x\": [1242.169921875, -493.66748046875, 783.033203125, 179.03125, -2.50390625, -1588.836669921875, 318.468017578125, 16.555419921875, 1051.5234375, 521.4619140625, 941.2841796875, 558.51318359375, -1177.49658203125, 94.5732421875, -286.234375, 314.3828125], \"y\": [40, 57, 19, 16, 16, 49, 35, 1, 20, 21, 33, 46, 35, 2, 8, 32]}],\n",
              "                        {\"template\": {\"data\": {\"bar\": [{\"error_x\": {\"color\": \"#2a3f5f\"}, \"error_y\": {\"color\": \"#2a3f5f\"}, \"marker\": {\"line\": {\"color\": \"#E5ECF6\", \"width\": 0.5}}, \"type\": \"bar\"}], \"barpolar\": [{\"marker\": {\"line\": {\"color\": \"#E5ECF6\", \"width\": 0.5}}, \"type\": \"barpolar\"}], \"carpet\": [{\"aaxis\": {\"endlinecolor\": \"#2a3f5f\", \"gridcolor\": \"white\", \"linecolor\": \"white\", \"minorgridcolor\": \"white\", \"startlinecolor\": \"#2a3f5f\"}, \"baxis\": {\"endlinecolor\": \"#2a3f5f\", \"gridcolor\": \"white\", \"linecolor\": \"white\", \"minorgridcolor\": \"white\", \"startlinecolor\": \"#2a3f5f\"}, \"type\": \"carpet\"}], \"choropleth\": [{\"colorbar\": {\"outlinewidth\": 0, \"ticks\": \"\"}, \"type\": \"choropleth\"}], \"contour\": [{\"colorbar\": {\"outlinewidth\": 0, \"ticks\": \"\"}, \"colorscale\": [[0.0, \"#0d0887\"], [0.1111111111111111, \"#46039f\"], [0.2222222222222222, \"#7201a8\"], [0.3333333333333333, \"#9c179e\"], [0.4444444444444444, \"#bd3786\"], [0.5555555555555556, \"#d8576b\"], [0.6666666666666666, \"#ed7953\"], [0.7777777777777778, \"#fb9f3a\"], [0.8888888888888888, \"#fdca26\"], [1.0, \"#f0f921\"]], \"type\": \"contour\"}], \"contourcarpet\": [{\"colorbar\": {\"outlinewidth\": 0, \"ticks\": \"\"}, \"type\": \"contourcarpet\"}], \"heatmap\": [{\"colorbar\": {\"outlinewidth\": 0, \"ticks\": \"\"}, \"colorscale\": [[0.0, \"#0d0887\"], [0.1111111111111111, \"#46039f\"], [0.2222222222222222, \"#7201a8\"], [0.3333333333333333, \"#9c179e\"], [0.4444444444444444, \"#bd3786\"], [0.5555555555555556, \"#d8576b\"], [0.6666666666666666, \"#ed7953\"], [0.7777777777777778, \"#fb9f3a\"], [0.8888888888888888, \"#fdca26\"], [1.0, \"#f0f921\"]], \"type\": \"heatmap\"}], \"heatmapgl\": [{\"colorbar\": {\"outlinewidth\": 0, \"ticks\": \"\"}, \"colorscale\": [[0.0, \"#0d0887\"], [0.1111111111111111, \"#46039f\"], [0.2222222222222222, \"#7201a8\"], [0.3333333333333333, \"#9c179e\"], [0.4444444444444444, \"#bd3786\"], [0.5555555555555556, \"#d8576b\"], [0.6666666666666666, \"#ed7953\"], [0.7777777777777778, \"#fb9f3a\"], [0.8888888888888888, \"#fdca26\"], [1.0, \"#f0f921\"]], \"type\": \"heatmapgl\"}], \"histogram\": [{\"marker\": {\"colorbar\": {\"outlinewidth\": 0, \"ticks\": \"\"}}, \"type\": \"histogram\"}], \"histogram2d\": [{\"colorbar\": {\"outlinewidth\": 0, \"ticks\": \"\"}, \"colorscale\": [[0.0, \"#0d0887\"], [0.1111111111111111, \"#46039f\"], [0.2222222222222222, \"#7201a8\"], [0.3333333333333333, \"#9c179e\"], [0.4444444444444444, \"#bd3786\"], [0.5555555555555556, \"#d8576b\"], [0.6666666666666666, \"#ed7953\"], [0.7777777777777778, \"#fb9f3a\"], [0.8888888888888888, \"#fdca26\"], [1.0, \"#f0f921\"]], \"type\": \"histogram2d\"}], \"histogram2dcontour\": [{\"colorbar\": {\"outlinewidth\": 0, \"ticks\": \"\"}, \"colorscale\": [[0.0, \"#0d0887\"], [0.1111111111111111, \"#46039f\"], [0.2222222222222222, \"#7201a8\"], [0.3333333333333333, \"#9c179e\"], [0.4444444444444444, \"#bd3786\"], [0.5555555555555556, \"#d8576b\"], [0.6666666666666666, \"#ed7953\"], [0.7777777777777778, \"#fb9f3a\"], [0.8888888888888888, \"#fdca26\"], [1.0, \"#f0f921\"]], \"type\": \"histogram2dcontour\"}], \"mesh3d\": [{\"colorbar\": {\"outlinewidth\": 0, \"ticks\": \"\"}, \"type\": \"mesh3d\"}], \"parcoords\": [{\"line\": {\"colorbar\": {\"outlinewidth\": 0, \"ticks\": \"\"}}, \"type\": \"parcoords\"}], \"pie\": [{\"automargin\": true, \"type\": \"pie\"}], \"scatter\": [{\"marker\": {\"colorbar\": {\"outlinewidth\": 0, \"ticks\": \"\"}}, \"type\": \"scatter\"}], \"scatter3d\": [{\"line\": {\"colorbar\": {\"outlinewidth\": 0, \"ticks\": \"\"}}, \"marker\": {\"colorbar\": {\"outlinewidth\": 0, \"ticks\": \"\"}}, \"type\": \"scatter3d\"}], \"scattercarpet\": [{\"marker\": {\"colorbar\": {\"outlinewidth\": 0, \"ticks\": \"\"}}, \"type\": \"scattercarpet\"}], \"scattergeo\": [{\"marker\": {\"colorbar\": {\"outlinewidth\": 0, \"ticks\": \"\"}}, \"type\": \"scattergeo\"}], \"scattergl\": [{\"marker\": {\"colorbar\": {\"outlinewidth\": 0, \"ticks\": \"\"}}, \"type\": \"scattergl\"}], \"scattermapbox\": [{\"marker\": {\"colorbar\": {\"outlinewidth\": 0, \"ticks\": \"\"}}, \"type\": \"scattermapbox\"}], \"scatterpolar\": [{\"marker\": {\"colorbar\": {\"outlinewidth\": 0, \"ticks\": \"\"}}, \"type\": \"scatterpolar\"}], \"scatterpolargl\": [{\"marker\": {\"colorbar\": {\"outlinewidth\": 0, \"ticks\": \"\"}}, \"type\": \"scatterpolargl\"}], \"scatterternary\": [{\"marker\": {\"colorbar\": {\"outlinewidth\": 0, \"ticks\": \"\"}}, \"type\": \"scatterternary\"}], \"surface\": [{\"colorbar\": {\"outlinewidth\": 0, \"ticks\": \"\"}, \"colorscale\": [[0.0, \"#0d0887\"], [0.1111111111111111, \"#46039f\"], [0.2222222222222222, \"#7201a8\"], [0.3333333333333333, \"#9c179e\"], [0.4444444444444444, \"#bd3786\"], [0.5555555555555556, \"#d8576b\"], [0.6666666666666666, \"#ed7953\"], [0.7777777777777778, \"#fb9f3a\"], [0.8888888888888888, \"#fdca26\"], [1.0, \"#f0f921\"]], \"type\": \"surface\"}], \"table\": [{\"cells\": {\"fill\": {\"color\": \"#EBF0F8\"}, \"line\": {\"color\": \"white\"}}, \"header\": {\"fill\": {\"color\": \"#C8D4E3\"}, \"line\": {\"color\": \"white\"}}, \"type\": \"table\"}]}, \"layout\": {\"annotationdefaults\": {\"arrowcolor\": \"#2a3f5f\", \"arrowhead\": 0, \"arrowwidth\": 1}, \"coloraxis\": {\"colorbar\": {\"outlinewidth\": 0, \"ticks\": \"\"}}, \"colorscale\": {\"diverging\": [[0, \"#8e0152\"], [0.1, \"#c51b7d\"], [0.2, \"#de77ae\"], [0.3, \"#f1b6da\"], [0.4, \"#fde0ef\"], [0.5, \"#f7f7f7\"], [0.6, \"#e6f5d0\"], [0.7, \"#b8e186\"], [0.8, \"#7fbc41\"], [0.9, \"#4d9221\"], [1, \"#276419\"]], \"sequential\": [[0.0, \"#0d0887\"], [0.1111111111111111, \"#46039f\"], [0.2222222222222222, \"#7201a8\"], [0.3333333333333333, \"#9c179e\"], [0.4444444444444444, \"#bd3786\"], [0.5555555555555556, \"#d8576b\"], [0.6666666666666666, \"#ed7953\"], [0.7777777777777778, \"#fb9f3a\"], [0.8888888888888888, \"#fdca26\"], [1.0, \"#f0f921\"]], \"sequentialminus\": [[0.0, \"#0d0887\"], [0.1111111111111111, \"#46039f\"], [0.2222222222222222, \"#7201a8\"], [0.3333333333333333, \"#9c179e\"], [0.4444444444444444, \"#bd3786\"], [0.5555555555555556, \"#d8576b\"], [0.6666666666666666, \"#ed7953\"], [0.7777777777777778, \"#fb9f3a\"], [0.8888888888888888, \"#fdca26\"], [1.0, \"#f0f921\"]]}, \"colorway\": [\"#636efa\", \"#EF553B\", \"#00cc96\", \"#ab63fa\", \"#FFA15A\", \"#19d3f3\", \"#FF6692\", \"#B6E880\", \"#FF97FF\", \"#FECB52\"], \"font\": {\"color\": \"#2a3f5f\"}, \"geo\": {\"bgcolor\": \"white\", \"lakecolor\": \"white\", \"landcolor\": \"#E5ECF6\", \"showlakes\": true, \"showland\": true, \"subunitcolor\": \"white\"}, \"hoverlabel\": {\"align\": \"left\"}, \"hovermode\": \"closest\", \"mapbox\": {\"style\": \"light\"}, \"paper_bgcolor\": \"white\", \"plot_bgcolor\": \"#E5ECF6\", \"polar\": {\"angularaxis\": {\"gridcolor\": \"white\", \"linecolor\": \"white\", \"ticks\": \"\"}, \"bgcolor\": \"#E5ECF6\", \"radialaxis\": {\"gridcolor\": \"white\", \"linecolor\": \"white\", \"ticks\": \"\"}}, \"scene\": {\"xaxis\": {\"backgroundcolor\": \"#E5ECF6\", \"gridcolor\": \"white\", \"gridwidth\": 2, \"linecolor\": \"white\", \"showbackground\": true, \"ticks\": \"\", \"zerolinecolor\": \"white\"}, \"yaxis\": {\"backgroundcolor\": \"#E5ECF6\", \"gridcolor\": \"white\", \"gridwidth\": 2, \"linecolor\": \"white\", \"showbackground\": true, \"ticks\": \"\", \"zerolinecolor\": \"white\"}, \"zaxis\": {\"backgroundcolor\": \"#E5ECF6\", \"gridcolor\": \"white\", \"gridwidth\": 2, \"linecolor\": \"white\", \"showbackground\": true, \"ticks\": \"\", \"zerolinecolor\": \"white\"}}, \"shapedefaults\": {\"line\": {\"color\": \"#2a3f5f\"}}, \"ternary\": {\"aaxis\": {\"gridcolor\": \"white\", \"linecolor\": \"white\", \"ticks\": \"\"}, \"baxis\": {\"gridcolor\": \"white\", \"linecolor\": \"white\", \"ticks\": \"\"}, \"bgcolor\": \"#E5ECF6\", \"caxis\": {\"gridcolor\": \"white\", \"linecolor\": \"white\", \"ticks\": \"\"}}, \"title\": {\"x\": 0.05}, \"xaxis\": {\"automargin\": true, \"gridcolor\": \"white\", \"linecolor\": \"white\", \"ticks\": \"\", \"title\": {\"standoff\": 15}, \"zerolinecolor\": \"white\", \"zerolinewidth\": 2}, \"yaxis\": {\"automargin\": true, \"gridcolor\": \"white\", \"linecolor\": \"white\", \"ticks\": \"\", \"title\": {\"standoff\": 15}, \"zerolinecolor\": \"white\", \"zerolinewidth\": 2}}}},\n",
              "                        {\"responsive\": true}\n",
              "                    ).then(function(){\n",
              "                            \n",
              "var gd = document.getElementById('45a482c8-2727-48ed-a50f-3c1860c0dd53');\n",
              "var x = new MutationObserver(function (mutations, observer) {{\n",
              "        var display = window.getComputedStyle(gd).display;\n",
              "        if (!display || display === 'none') {{\n",
              "            console.log([gd, 'removed!']);\n",
              "            Plotly.purge(gd);\n",
              "            observer.disconnect();\n",
              "        }}\n",
              "}});\n",
              "\n",
              "// Listen for the removal of the full notebook cells\n",
              "var notebookContainer = gd.closest('#notebook-container');\n",
              "if (notebookContainer) {{\n",
              "    x.observe(notebookContainer, {childList: true});\n",
              "}}\n",
              "\n",
              "// Listen for the clearing of the current output cell\n",
              "var outputEl = gd.closest('.output');\n",
              "if (outputEl) {{\n",
              "    x.observe(outputEl, {childList: true});\n",
              "}}\n",
              "\n",
              "                        })\n",
              "                };\n",
              "                \n",
              "            </script>\n",
              "        </div>\n",
              "</body>\n",
              "</html>"
            ]
          },
          "metadata": {
            "tags": []
          }
        }
      ]
    },
    {
      "cell_type": "code",
      "metadata": {
        "id": "yMFN7K3rCK94",
        "colab_type": "code",
        "colab": {
          "base_uri": "https://localhost:8080/",
          "height": 359
        },
        "outputId": "5a6c8afa-22d5-41a4-8bbe-f0186374621a"
      },
      "source": [
        "plt.hist(PrcntReturn)"
      ],
      "execution_count": 49,
      "outputs": [
        {
          "output_type": "execute_result",
          "data": {
            "text/plain": [
              "(array([1., 0., 0., 1., 1., 1., 4., 3., 3., 2.]),\n",
              " array([-0.31323898, -0.26332867, -0.21341836, -0.16350804, -0.11359773,\n",
              "        -0.06368742, -0.01377711,  0.03613321,  0.08604352,  0.13595383,\n",
              "         0.18586414]),\n",
              " <a list of 10 Patch objects>)"
            ]
          },
          "metadata": {
            "tags": []
          },
          "execution_count": 49
        },
        {
          "output_type": "display_data",
          "data": {
            "image/png": "[encoded data removed]",
            "text/plain": [
              "<Figure size 432x288 with 1 Axes>"
            ]
          },
          "metadata": {
            "tags": []
          }
        }
      ]
    },
    {
      "cell_type": "code",
      "metadata": {
        "id": "0ulR1_22CK-G",
        "colab_type": "code",
        "colab": {
          "base_uri": "https://localhost:8080/",
          "height": 359
        },
        "outputId": "b87a76a8-f5c8-4adb-8179-0fcac6d5d8cc"
      },
      "source": [
        "plt.hist(AbsReturn)"
      ],
      "execution_count": 50,
      "outputs": [
        {
          "output_type": "execute_result",
          "data": {
            "text/plain": [
              "(array([1., 1., 0., 1., 1., 3., 3., 2., 2., 2.]),\n",
              " array([-1588.83666992, -1305.73601074, -1022.63535156,  -739.53469238,\n",
              "         -456.4340332 ,  -173.33337402,   109.76728516,   392.86794434,\n",
              "          675.96860352,   959.0692627 ,  1242.16992188]),\n",
              " <a list of 10 Patch objects>)"
            ]
          },
          "metadata": {
            "tags": []
          },
          "execution_count": 50
        },
        {
          "output_type": "display_data",
          "data": {
            "image/png": "[encoded data removed]",
            "text/plain": [
              "<Figure size 432x288 with 1 Axes>"
            ]
          },
          "metadata": {
            "tags": []
          }
        }
      ]
    },
    {
      "cell_type": "code",
      "metadata": {
        "id": "rj01SCVYCK-S",
        "colab_type": "code",
        "colab": {}
      },
      "source": [
        "# just ignor maybe later\n",
        "# Overview on trades\n",
        "import matplotlib.pyplot as plt\n",
        "from matplotlib import mlab\n",
        "from matplotlib import style\n",
        "pd.core.common.is_list_like = pd.api.types.is_list_like\n",
        "import scipy\n",
        "from scipy.stats import norm\n",
        "#get all trades\n",
        "# rank from low to high\n",
        "\n",
        "mean = np.mean(AbsReturn)\n",
        "std_dev = np.std(AbsReturn)\n",
        "AbsReturn.hist(bins=40, normed=True, histtype='stepfilled', alpha=0.5)\n",
        "x = np.linspace(mean - 3*std_dev, mean + 3*std_dev, 100)\n",
        "plt.plot(x,scipy.stats.norm.pdf(x, mean, std_dev), \"r\" )\n",
        "plt.show()\n",
        "\n",
        "#VaR Computation \n",
        "VaR_90 = norm.ppf(1-0.9, mean, std_dev)\n",
        "VaR_95 = norm.ppf(1-0.95, mean, std_dev)\n",
        "VaR_99 = norm.ppf(1-0.99, mean, std_dev)\n",
        "\n",
        "print('VaR 90% Confidence Level:   ', VaR_90)\n",
        "print('VaR 95% Confidence Level:   ', VaR_95)\n",
        "print('VaR 99% Confidence Level:   ', VaR_99)"
      ],
      "execution_count": null,
      "outputs": []
    },
    {
      "cell_type": "code",
      "metadata": {
        "colab_type": "code",
        "id": "UQJSEJdr1Z0f",
        "colab": {}
      },
      "source": [
        "#19/07/2020:\n",
        "# Plot Graph\n",
        "Close_graph = pd.DataFrame(Close)#, columns='Close') \n",
        "Close_graph['SMA1'] = Close_graph['Close'].rolling(best_sma1,min_periods=1).mean() \n",
        "Close_graph['SMA2'] = Close_graph['Close'].rolling(best_sma2,min_periods=1).mean() \n",
        "Close_graph['Position'] = np.where(Close_graph['SMA1']> Close_graph['SMA2'],1,-1)\n",
        "Close_graph.head()# plot(figsize = (25,12))\n"
      ],
      "execution_count": null,
      "outputs": []
    },
    {
      "cell_type": "code",
      "metadata": {
        "colab_type": "code",
        "id": "9n0ZmxzmRFMr",
        "colab": {}
      },
      "source": [
        "Close_graph[['Close','SMA1','SMA2','Position']].plot(figsize = (25,12),secondary_y = 'Position')"
      ],
      "execution_count": null,
      "outputs": []
    },
    {
      "cell_type": "markdown",
      "metadata": {
        "id": "q73GPoqiCK-v",
        "colab_type": "text"
      },
      "source": [
        "# Consistency Check"
      ]
    },
    {
      "cell_type": "code",
      "metadata": {
        "id": "SzqVYFxTCK-x",
        "colab_type": "code",
        "colab": {},
        "cellView": "form"
      },
      "source": [
        "#26/07/2020 # from what i could see on https://de.finance.yahoo.com/quote/BTC-EUR?p=BTC-EUR, september 2014 is the starting date of bit coin\n",
        " \n",
        "\n",
        "#@title Dataframe setup  { form-width: \"30px\" }\n",
        "#the date in a nice date format\n",
        "start_date_data1 = '2014-10-01' #@param {type:\"date\"}  \n",
        "start1 = dt.datetime.strptime(start_date_data1, '%Y-%m-%d') \n",
        "stop1 = dt.datetime.now()\n",
        "\n",
        "#the symbols you gave me \n",
        "symbols = ['BTC-EUR','ETH-EUR', 'LTC-EUR' , 'XRP-EUR', 'BCH-EUR','MIOTA-EUR' ]\n",
        "\n",
        "#create a dictionary with all the stocks Q: do you prefer to work with lists of dictionaries ? \n",
        "dict_of_stock1 = { s: web.DataReader(s, \"yahoo\", start1, stop1) for s in (symbols) }"
      ],
      "execution_count": null,
      "outputs": []
    },
    {
      "cell_type": "code",
      "metadata": {
        "id": "SIZzjHMwCK-6",
        "colab_type": "code",
        "colab": {}
      },
      "source": [
        "#@title SMA main: different rolling window sizes { form-width: \"30px\" }\n",
        "\n",
        "#Only getting close since it is all we are using \n",
        "Close1=dict_of_stock1['BTC-EUR']['Close']\n",
        "Close1=Close1.groupby(Close1.index).first() #removes the duplicate indexes\n",
        "\n",
        "# made them from 2-6 , 7-11 just cause it is easier to see. made into strings cause im using them as col_names\n",
        "SMA1 = list(map(str, range(2, 30))) #\n",
        "SMA2 = list(map(str, range(31, 60)))\n",
        "\n",
        "# # table = [ Close.rolling(s,min_periods=1).mean() for s in (np.arange(1,10))]\n",
        "data1 = pd.DataFrame.from_dict({ s: Close1.rolling(int(s),min_periods=1).mean() for s in SMA1 + SMA2 }) \n",
        "data1.insert(0, 'Close', Close1)\n",
        "\n",
        "\n",
        "#This creates a df for the buy and sell values based on the conditions\n",
        "buy_sell_df1 = pd.DataFrame.from_dict({  sma1 + '_' + sma2: conditions_fun (data1, sma1, sma2 , choices= [data1['Close'], -data1['Close']])  for sma1, sma2  in product(SMA1, SMA2) })\n",
        "buy_sell_df1.insert(0, 'Close', Close1)\n",
        "\n",
        "# other solution, currently not using it. \n",
        "# buy_sell_df.where(buy_sell_df.gt(0).cummax(), 0, inplace=True) #https://stackoverflow.com/questions/62533032/pandas-replace-col-values-before-first-postive-with-0/62533267#62533267\n",
        " \n",
        "\n",
        "#if last non-zero element is negative(buying), replace with 0\n",
        "s1 = buy_sell_df1.iloc[::-1] #inverts the dataframe \n",
        "buy_sell_df1[s1.lt(0).cumsum().eq(1) & (~s.gt(0).cummax())] = 0\n",
        "\n",
        "#if first non-zero elemnt is positive (selling), replace with 0\n",
        "s1 = buy_sell_df1.iloc[::] #normal dataframe \n",
        "buy_sell_df1[s1.gt(0).cumsum().eq(1) & (~s.lt(0).cummax())] = 0\n",
        "\n",
        "\n",
        "Profit1 = pd.DataFrame( { 'Position': buy_sell_df1.sum()[1:].index, 'Value': buy_sell_df1.sum()[1:]  } ) \n",
        "Profit1.index=pd.MultiIndex.from_tuples(Profit1.Position.str.split('_').apply(tuple))"
      ],
      "execution_count": null,
      "outputs": []
    },
    {
      "cell_type": "code",
      "metadata": {
        "id": "0oWYkhltCK_E",
        "colab_type": "code",
        "colab": {},
        "outputId": "cc64e44c-02a2-4f1f-fc0e-78f21dfa6f71"
      },
      "source": [
        "best_sma1_1, best_sma2_1 = list(map(int, Profit1['Value'].idxmax(axis=1))) \n",
        "\n",
        "print(\"Maximum Return was \", Profit1['Value'].max() )\n",
        "print(\"best short SMA pair is: \",best_sma1_1, ' ', best_sma2_1)"
      ],
      "execution_count": null,
      "outputs": [
        {
          "output_type": "stream",
          "text": [
            "Maximum Return was  1582.6842498779297\n",
            "best short SMA pair is:  4   32\n"
          ],
          "name": "stdout"
        }
      ]
    },
    {
      "cell_type": "code",
      "metadata": {
        "id": "ngoRQc7xCK_O",
        "colab_type": "code",
        "colab": {}
      },
      "source": [
        "# Counts= buy_sell_df.astype(bool).sum(axis=0).drop('Close', inplace=True)\n",
        "Counts1 = pd.DataFrame( { 'Position': buy_sell_df1.astype(bool).sum(axis=0)[1:].index, 'Value': buy_sell_df1.astype(bool).sum(axis=0)[1:]  } ) \n",
        "Counts1.index=pd.MultiIndex.from_tuples(Counts1.Position.str.split('_').apply(tuple))\n",
        "\n",
        "c1=Counts1.Value.unstack(0)\n",
        "#make the colums into integers\n",
        "c1.columns = pd.to_numeric(c1.columns, errors = 'coerce')\n",
        "c1.sort_index(axis=1, inplace= True)\n",
        "\n",
        "#make the index ordered \n",
        "c1.index= pd.to_numeric(c1.index, errors = 'coerce')\n",
        "c1.sort_index(axis=0, inplace=True)"
      ],
      "execution_count": null,
      "outputs": []
    },
    {
      "cell_type": "code",
      "metadata": {
        "id": "q1pkYS1-CK_c",
        "colab_type": "code",
        "colab": {}
      },
      "source": [
        "#DQ check\n",
        "#c1 - c"
      ],
      "execution_count": null,
      "outputs": []
    },
    {
      "cell_type": "code",
      "metadata": {
        "id": "4bRe5X5eCLAD",
        "colab_type": "code",
        "colab": {}
      },
      "source": [
        "#26/07/2020: Getting Trades\n",
        "Trades1 = buy_sell_df1['4_32'][buy_sell_df1['4_32'].ne(0)]"
      ],
      "execution_count": null,
      "outputs": []
    },
    {
      "cell_type": "code",
      "metadata": {
        "id": "PHf5iHPqCLAL",
        "colab_type": "code",
        "colab": {}
      },
      "source": [
        "AbsReturn1, PrcntReturn1 =  Get_Returns(Trades1)"
      ],
      "execution_count": null,
      "outputs": []
    },
    {
      "cell_type": "code",
      "metadata": {
        "id": "6BLNDn0dCLAT",
        "colab_type": "code",
        "colab": {},
        "outputId": "29ff94bc-ca22-4a4e-d82d-56f06640d402"
      },
      "source": [
        "np.mean(AbsReturn1), np.mean(PrcntReturn1)"
      ],
      "execution_count": null,
      "outputs": [
        {
          "output_type": "execute_result",
          "data": {
            "text/plain": [
              "(-157.1173811412993, 0.13439543344709534)"
            ]
          },
          "metadata": {
            "tags": []
          },
          "execution_count": 165
        }
      ]
    },
    {
      "cell_type": "code",
      "metadata": {
        "id": "gy0JOl4zCLAb",
        "colab_type": "code",
        "colab": {},
        "outputId": "d4b3170f-8347-4070-81dd-9c3421ea22b1"
      },
      "source": [
        "plt.hist(AbsReturn1)"
      ],
      "execution_count": null,
      "outputs": [
        {
          "output_type": "execute_result",
          "data": {
            "text/plain": [
              "(array([ 1.,  0.,  0.,  0.,  1.,  1.,  5., 28.,  4.,  2.]),\n",
              " array([-8291.41235352, -7184.0357666 , -6076.65917969, -4969.28259277,\n",
              "        -3861.90600586, -2754.52941895, -1647.15283203,  -539.77624512,\n",
              "          567.6003418 ,  1674.97692871,  2782.35351562]),\n",
              " <a list of 10 Patch objects>)"
            ]
          },
          "metadata": {
            "tags": []
          },
          "execution_count": 166
        },
        {
          "output_type": "display_data",
          "data": {
            "image/png": "[encoded data removed]",
            "text/plain": [
              "<Figure size 432x288 with 1 Axes>"
            ]
          },
          "metadata": {
            "tags": []
          }
        }
      ]
    },
    {
      "cell_type": "code",
      "metadata": {
        "id": "kaDJiCRdCLAj",
        "colab_type": "code",
        "colab": {},
        "outputId": "cb167770-f46e-42fc-d4b4-ace5d76940d3"
      },
      "source": [
        "plt.hist(PrcntReturn1)"
      ],
      "execution_count": null,
      "outputs": [
        {
          "output_type": "execute_result",
          "data": {
            "text/plain": [
              "(array([28.,  7.,  4.,  0.,  0.,  2.,  0.,  0.,  0.,  1.]),\n",
              " array([-0.20489437,  0.05084973,  0.30659384,  0.56233794,  0.81808205,\n",
              "         1.07382615,  1.32957026,  1.58531436,  1.84105847,  2.09680257,\n",
              "         2.35254668]),\n",
              " <a list of 10 Patch objects>)"
            ]
          },
          "metadata": {
            "tags": []
          },
          "execution_count": 167
        },
        {
          "output_type": "display_data",
          "data": {
            "image/png": "[encoded data removed]",
            "text/plain": [
              "<Figure size 432x288 with 1 Axes>"
            ]
          },
          "metadata": {
            "tags": []
          }
        }
      ]
    },
    {
      "cell_type": "markdown",
      "metadata": {
        "id": "_vKLqfGUCLAs",
        "colab_type": "text"
      },
      "source": [
        "# Consistency Check 2"
      ]
    },
    {
      "cell_type": "code",
      "metadata": {
        "id": "pv89I6R3CLAu",
        "colab_type": "code",
        "colab": {}
      },
      "source": [
        "#@title Dataframe setup  { form-width: \"30px\" }\n",
        "#the date in a nice date format\n",
        "start_date_data2 = '2014-10-01' #@param {type:\"date\"}  \n",
        "start2 = dt.datetime.strptime(start_date_data2, '%Y-%m-%d') \n",
        "stop2 = start \n",
        "\n",
        "#the symbols you gave me \n",
        "symbols = ['BTC-EUR','ETH-EUR', 'LTC-EUR' , 'XRP-EUR', 'BCH-EUR','MIOTA-EUR' ]\n",
        "\n",
        "#create a dictionary with all the stocks Q: do you prefer to work with lists of dictionaries ? \n",
        "dict_of_stock2 = { s: web.DataReader(s, \"yahoo\", start2, stop2) for s in (symbols) }"
      ],
      "execution_count": null,
      "outputs": []
    },
    {
      "cell_type": "code",
      "metadata": {
        "id": "xalBDpMZCLA6",
        "colab_type": "code",
        "colab": {}
      },
      "source": [
        "#@title SMA main: different rolling window sizes { form-width: \"30px\" }\n",
        "\n",
        "#Only getting close since it is all we are using \n",
        "Close2=dict_of_stock2['BTC-EUR']['Close']\n",
        "Close2=Close2.groupby(Close2.index).first() #removes the duplicate indexes\n",
        "\n",
        "# made them from 2-6 , 7-11 just cause it is easier to see. made into strings cause im using them as col_names\n",
        "SMA1 = list(map(str, range(2, 30))) #\n",
        "SMA2 = list(map(str, range(31, 60)))\n",
        "\n",
        "# # table = [ Close.rolling(s,min_periods=1).mean() for s in (np.arange(1,10))]\n",
        "data2 = pd.DataFrame.from_dict({ s: Close2.rolling(int(s),min_periods=1).mean() for s in SMA1 + SMA2 }) \n",
        "data2.insert(0, 'Close', Close2)\n",
        "\n",
        "\n",
        "#This creates a df for the buy and sell values based on the conditions\n",
        "buy_sell_df2 = pd.DataFrame.from_dict({  sma1 + '_' + sma2: conditions_fun (data2, sma1, sma2 , choices= [data2['Close'], -data2['Close']])  for sma1, sma2  in product(SMA1, SMA2) })\n",
        "buy_sell_df2.insert(0, 'Close', Close2)\n",
        "\n",
        "# other solution, currently not using it. \n",
        "# buy_sell_df.where(buy_sell_df.gt(0).cummax(), 0, inplace=True) #https://stackoverflow.com/questions/62533032/pandas-replace-col-values-before-first-postive-with-0/62533267#62533267\n",
        " \n",
        "\n",
        "#if last non-zero element is negative(buying), replace with 0\n",
        "s2 = buy_sell_df2.iloc[::-1] #inverts the dataframe \n",
        "buy_sell_df2[s2.lt(0).cumsum().eq(1) & (~s.gt(0).cummax())] = 0\n",
        "\n",
        "#if first non-zero elemnt is positive (selling), replace with 0\n",
        "s2 = buy_sell_df2.iloc[::] #normal dataframe \n",
        "buy_sell_df2[s2.gt(0).cumsum().eq(1) & (~s.lt(0).cummax())] = 0\n",
        "\n",
        "\n",
        "Profit2 = pd.DataFrame( { 'Position': buy_sell_df2.sum()[1:].index, 'Value': buy_sell_df2.sum()[1:]  } ) \n",
        "Profit2.index=pd.MultiIndex.from_tuples(Profit2.Position.str.split('_').apply(tuple))"
      ],
      "execution_count": null,
      "outputs": []
    },
    {
      "cell_type": "code",
      "metadata": {
        "id": "2WY6NQMBCLBT",
        "colab_type": "code",
        "colab": {},
        "outputId": "bcf12095-2c52-4d29-c5f1-34946328f923"
      },
      "source": [
        "best_sma1_2, best_sma2_2 = list(map(int, Profit2['Value'].idxmax(axis=1))) \n",
        "\n",
        "print(\"Maximum Return was \", Profit2['Value'].max() )\n",
        "print(\"best short SMA pair is: \",best_sma1_2, ' ', best_sma2_2)"
      ],
      "execution_count": null,
      "outputs": [
        {
          "output_type": "stream",
          "text": [
            "Maximum Return was  -5882.911117553711\n",
            "best short SMA pair is:  4   31\n"
          ],
          "name": "stdout"
        }
      ]
    },
    {
      "cell_type": "code",
      "metadata": {
        "id": "LTPCoa__CLBb",
        "colab_type": "code",
        "colab": {}
      },
      "source": [
        "#26/07/2020: Getting Trades\n",
        "Trades2 = buy_sell_df2['4_32'][buy_sell_df1['4_32'].ne(0)]\n",
        "AbsReturn2, PrcntReturn2 =  Get_Returns(Trades2)"
      ],
      "execution_count": null,
      "outputs": []
    },
    {
      "cell_type": "code",
      "metadata": {
        "id": "k6YBkyDWCLBi",
        "colab_type": "code",
        "colab": {},
        "outputId": "92976126-6c72-4889-c43e-f14d01bdf2df"
      },
      "source": [
        "np.mean(AbsReturn2), np.mean(PrcntReturn2)"
      ],
      "execution_count": null,
      "outputs": [
        {
          "output_type": "execute_result",
          "data": {
            "text/plain": [
              "(-157.1173811412993, 0.13439543344709534)"
            ]
          },
          "metadata": {
            "tags": []
          },
          "execution_count": 172
        }
      ]
    },
    {
      "cell_type": "code",
      "metadata": {
        "id": "BjIFEZrFCLBr",
        "colab_type": "code",
        "colab": {},
        "outputId": "937050dd-cb9c-4388-a09d-e41d1e3bbabd"
      },
      "source": [
        "plt.hist(AbsReturn2)"
      ],
      "execution_count": null,
      "outputs": [
        {
          "output_type": "execute_result",
          "data": {
            "text/plain": [
              "(array([ 1.,  0.,  0.,  0.,  0.,  0.,  2., 16.,  0.,  2.]),\n",
              " array([-8291.41235352, -7184.0357666 , -6076.65917969, -4969.28259277,\n",
              "        -3861.90600586, -2754.52941895, -1647.15283203,  -539.77624512,\n",
              "          567.6003418 ,  1674.97692871,  2782.35351562]),\n",
              " <a list of 10 Patch objects>)"
            ]
          },
          "metadata": {
            "tags": []
          },
          "execution_count": 173
        },
        {
          "output_type": "display_data",
          "data": {
            "image/png": "[encoded data removed]",
            "text/plain": [
              "<Figure size 432x288 with 1 Axes>"
            ]
          },
          "metadata": {
            "tags": []
          }
        }
      ]
    },
    {
      "cell_type": "code",
      "metadata": {
        "id": "29IZT6S0CLB2",
        "colab_type": "code",
        "colab": {},
        "outputId": "0b3b3165-96f4-40fe-e14e-9498146a8821"
      },
      "source": [
        "plt.hist(PrcntReturn2)"
      ],
      "execution_count": null,
      "outputs": [
        {
          "output_type": "execute_result",
          "data": {
            "text/plain": [
              "(array([12.,  3.,  4.,  0.,  0.,  1.,  0.,  0.,  0.,  1.]),\n",
              " array([-0.20489437,  0.05084973,  0.30659384,  0.56233794,  0.81808205,\n",
              "         1.07382615,  1.32957026,  1.58531436,  1.84105847,  2.09680257,\n",
              "         2.35254668]),\n",
              " <a list of 10 Patch objects>)"
            ]
          },
          "metadata": {
            "tags": []
          },
          "execution_count": 174
        },
        {
          "output_type": "display_data",
          "data": {
            "image/png": "[encoded data removed]",
            "text/plain": [
              "<Figure size 432x288 with 1 Axes>"
            ]
          },
          "metadata": {
            "tags": []
          }
        }
      ]
    },
    {
      "cell_type": "code",
      "metadata": {
        "id": "MKoR6XHACLB_",
        "colab_type": "code",
        "colab": {}
      },
      "source": [
        "\n"
      ],
      "execution_count": null,
      "outputs": []
    }
  ]
}