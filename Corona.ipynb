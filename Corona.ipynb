{
  "nbformat": 4,
  "nbformat_minor": 0,
  "metadata": {
    "colab": {
      "name": "Corona.ipynb",
      "provenance": [],
      "authorship_tag": "ABX9TyN7bAMrUd2ypb3RY/dMomZk",
      "include_colab_link": true
    },
    "kernelspec": {
      "name": "python3",
      "display_name": "Python 3"
    },
    "accelerator": "GPU"
  },
  "cells": [
    {
      "cell_type": "markdown",
      "metadata": {
        "id": "view-in-github",
        "colab_type": "text"
      },
      "source": [
        "<a href=\"https://colab.research.google.com/github/leotuni/Nicolas-stuff/blob/master/Corona.ipynb\" target=\"_parent\"><img src=\"https://colab.research.google.com/assets/colab-badge.svg\" alt=\"Open In Colab\"/></a>"
      ]
    },
    {
      "cell_type": "markdown",
      "metadata": {
        "id": "zKoEPYbe6ei3",
        "colab_type": "text"
      },
      "source": [
        "Corona data cause I'm bored \n",
        "I am importing all the data from the GITHUB REPOSITORY CSSEGISandData, which is run by John Hopkins University. "
      ]
    },
    {
      "cell_type": "code",
      "metadata": {
        "id": "JsgZcOkGPmSv",
        "colab_type": "code",
        "colab": {}
      },
      "source": [
        "!git clone https://github.com/CSSEGISandData/COVID-19.git"
      ],
      "execution_count": 0,
      "outputs": []
    },
    {
      "cell_type": "code",
      "metadata": {
        "id": "ZqLfIR4L7A6Q",
        "colab_type": "code",
        "cellView": "form",
        "colab": {}
      },
      "source": [
        "#@title Import and Option to show print more data \n",
        "import pandas as pd \n",
        "import glob\n",
        "#plotting \n",
        "import plotly.express as px\n",
        "\n",
        "\n",
        "pd.set_option('display.max_columns', 50)\n",
        "pd.set_option('display.max_rows', frame.shape[0]+1)"
      ],
      "execution_count": 0,
      "outputs": []
    },
    {
      "cell_type": "markdown",
      "metadata": {
        "id": "jfy4NhFr7R0l",
        "colab_type": "text"
      },
      "source": [
        "I import all the files and concatenate them into one dataframe (**frame**) \n",
        "\n",
        "I then: \n",
        "\n",
        "0.   they used Mainlad china and China, so replaced mainland china to china \n",
        "1.   change **Last Update** to Date format, and sort by Date\n",
        "2.   Fill the NaN of **State/Province** with the **Country/Region** values to have a full collumn\n",
        "3.   Subsett by **Last Update** and **State/Province** and drop all Duplicates\n",
        "\n",
        "The reason there is Duplicates is that many coutries didn't report new data every day, so a file from date: 1/2/2020 would have the data from Sweden of the 31/1/2020 if There is no new **Last Update**\n",
        "\n"
      ]
    },
    {
      "cell_type": "code",
      "metadata": {
        "id": "FYmgfAm_S9Wb",
        "colab_type": "code",
        "cellView": "form",
        "outputId": "bec184cd-b7fc-4177-a69b-fb5b4ab0d280",
        "colab": {
          "base_uri": "https://localhost:8080/",
          "height": 197
        }
      },
      "source": [
        "#@title Import files and Prepare data \n",
        "\n",
        "path = r'/content/COVID-19/csse_covid_19_data/csse_covid_19_daily_reports' # use your path\n",
        "all_files = glob.glob(path + \"/*.csv\") #collect all files in one\n",
        "li = []\n",
        "for filename in all_files:\n",
        "    df = pd.read_csv(filename, index_col=None, header=0)\n",
        "    df['file']=filename[-14:]\n",
        "    li.append(df)\n",
        "#Make one file and sort\n",
        "frame = pd.concat(li, axis=0, ignore_index=True, sort=False) #one dataframe \n",
        "frame['Country/Region'] = frame['Country/Region'].str.replace('Mainland China','China')\n",
        "frame['Last Update'] = pd.to_datetime(frame['Last Update'])\n",
        "frame = frame.sort_values(by=\"Last Update\")\n",
        "frame['Province/State'].fillna(frame['Country/Region'], inplace=True) #putting the Coutry in teh NaN of Province for data cleanup \n",
        "\n",
        "frame = frame.assign(day=frame['Last Update'].dt.date).\\\n",
        "          drop_duplicates(subset=(['day', 'Province/State'])).drop('day',axis=1)\n",
        "frame['Deaths'].fillna(0, inplace=True)\n",
        "frame['Recovered'].fillna(0, inplace=True)\n",
        "\n",
        "frame.head()\n"
      ],
      "execution_count": 0,
      "outputs": [
        {
          "output_type": "execute_result",
          "data": {
            "text/html": [
              "<div>\n",
              "<style scoped>\n",
              "    .dataframe tbody tr th:only-of-type {\n",
              "        vertical-align: middle;\n",
              "    }\n",
              "\n",
              "    .dataframe tbody tr th {\n",
              "        vertical-align: top;\n",
              "    }\n",
              "\n",
              "    .dataframe thead th {\n",
              "        text-align: right;\n",
              "    }\n",
              "</style>\n",
              "<table border=\"1\" class=\"dataframe\">\n",
              "  <thead>\n",
              "    <tr style=\"text-align: right;\">\n",
              "      <th></th>\n",
              "      <th>Province/State</th>\n",
              "      <th>Country/Region</th>\n",
              "      <th>Last Update</th>\n",
              "      <th>Confirmed</th>\n",
              "      <th>Deaths</th>\n",
              "      <th>Recovered</th>\n",
              "      <th>Latitude</th>\n",
              "      <th>Longitude</th>\n",
              "      <th>file</th>\n",
              "    </tr>\n",
              "  </thead>\n",
              "  <tbody>\n",
              "    <tr>\n",
              "      <th>1316</th>\n",
              "      <td>Sichuan</td>\n",
              "      <td>China</td>\n",
              "      <td>2020-01-22 17:00:00</td>\n",
              "      <td>5.0</td>\n",
              "      <td>0.0</td>\n",
              "      <td>0.0</td>\n",
              "      <td>NaN</td>\n",
              "      <td>NaN</td>\n",
              "      <td>01-22-2020.csv</td>\n",
              "    </tr>\n",
              "    <tr>\n",
              "      <th>1318</th>\n",
              "      <td>Tianjin</td>\n",
              "      <td>China</td>\n",
              "      <td>2020-01-22 17:00:00</td>\n",
              "      <td>4.0</td>\n",
              "      <td>0.0</td>\n",
              "      <td>0.0</td>\n",
              "      <td>NaN</td>\n",
              "      <td>NaN</td>\n",
              "      <td>01-22-2020.csv</td>\n",
              "    </tr>\n",
              "    <tr>\n",
              "      <th>1317</th>\n",
              "      <td>Taiwan</td>\n",
              "      <td>Taiwan</td>\n",
              "      <td>2020-01-22 17:00:00</td>\n",
              "      <td>1.0</td>\n",
              "      <td>0.0</td>\n",
              "      <td>0.0</td>\n",
              "      <td>NaN</td>\n",
              "      <td>NaN</td>\n",
              "      <td>01-22-2020.csv</td>\n",
              "    </tr>\n",
              "    <tr>\n",
              "      <th>1315</th>\n",
              "      <td>Shanxi</td>\n",
              "      <td>China</td>\n",
              "      <td>2020-01-22 17:00:00</td>\n",
              "      <td>1.0</td>\n",
              "      <td>0.0</td>\n",
              "      <td>0.0</td>\n",
              "      <td>NaN</td>\n",
              "      <td>NaN</td>\n",
              "      <td>01-22-2020.csv</td>\n",
              "    </tr>\n",
              "    <tr>\n",
              "      <th>1314</th>\n",
              "      <td>Shanghai</td>\n",
              "      <td>China</td>\n",
              "      <td>2020-01-22 17:00:00</td>\n",
              "      <td>9.0</td>\n",
              "      <td>0.0</td>\n",
              "      <td>0.0</td>\n",
              "      <td>NaN</td>\n",
              "      <td>NaN</td>\n",
              "      <td>01-22-2020.csv</td>\n",
              "    </tr>\n",
              "  </tbody>\n",
              "</table>\n",
              "</div>"
            ],
            "text/plain": [
              "     Province/State Country/Region         Last Update  Confirmed  Deaths  \\\n",
              "1316        Sichuan          China 2020-01-22 17:00:00        5.0     0.0   \n",
              "1318        Tianjin          China 2020-01-22 17:00:00        4.0     0.0   \n",
              "1317         Taiwan         Taiwan 2020-01-22 17:00:00        1.0     0.0   \n",
              "1315         Shanxi          China 2020-01-22 17:00:00        1.0     0.0   \n",
              "1314       Shanghai          China 2020-01-22 17:00:00        9.0     0.0   \n",
              "\n",
              "      Recovered  Latitude  Longitude            file  \n",
              "1316        0.0       NaN        NaN  01-22-2020.csv  \n",
              "1318        0.0       NaN        NaN  01-22-2020.csv  \n",
              "1317        0.0       NaN        NaN  01-22-2020.csv  \n",
              "1315        0.0       NaN        NaN  01-22-2020.csv  \n",
              "1314        0.0       NaN        NaN  01-22-2020.csv  "
            ]
          },
          "metadata": {
            "tags": []
          },
          "execution_count": 39
        }
      ]
    },
    {
      "cell_type": "code",
      "metadata": {
        "id": "MM6ErLwpUt6r",
        "colab_type": "code",
        "colab": {},
        "cellView": "both"
      },
      "source": [
        "#@title Data analysis\n",
        "frame['Total_deaths_by_country'] = frame.groupby([frame['Last Update'].dt.date ,frame['Country/Region']])['Deaths'].transform('sum')\n",
        "frame['Total_Cases_by_country'] = frame.groupby([frame['Last Update'].dt.date ,frame['Country/Region']])['Confirmed'].transform('sum')\n",
        "frame['Death Percentage'] = frame['Total_deaths_by_country']/ frame['Total_Cases_by_country'] *100\n",
        "frame['Death Percentage']=frame['Death Percentage'].round(2)\n",
        "filter_Europe= frame['Country/Region'].isin(['Ukraine','Italy', 'Germany', 'France', 'Spain', 'Denmark', 'Netherlands','North Ireland','Malta','Iceland','Slovakia','Lithuania','Hungary','Switzerland','Norway','Greece', 'North Macedonia', 'Romania', 'Czech Republic','Austria','UK','Sweden','Belgium','Portugal','Poland', 'Republic of Ireland', 'Finland', 'Croatia', 'Slovenia'])\n",
        "# 'Ukraine' was excluded as it fucks up the stats (too few cases still )\n",
        "# frame['Country/Region'].unique()"
      ],
      "execution_count": 0,
      "outputs": []
    },
    {
      "cell_type": "markdown",
      "metadata": {
        "id": "crSUu8JrTTkd",
        "colab_type": "text"
      },
      "source": [
        "#Plots"
      ]
    },
    {
      "cell_type": "code",
      "metadata": {
        "id": "Dtu6wM2XZ3xW",
        "colab_type": "code",
        "cellView": "form",
        "colab": {}
      },
      "source": [
        "#@title Total deaths by country \n",
        "fig = px.line(frame, x='Last Update', y='Total_deaths_by_country', color='Country/Region', title=' Total deaths by country')\n",
        "fig.show()"
      ],
      "execution_count": 0,
      "outputs": []
    },
    {
      "cell_type": "code",
      "metadata": {
        "id": "qyePPttignUT",
        "colab_type": "code",
        "cellView": "form",
        "colab": {}
      },
      "source": [
        "#@title Total cases by country \n",
        "fig = px.line(frame, x='Last Update', y='Total_Cases_by_country', color='Country/Region', title=' Total cases by country')\n",
        "fig.show()"
      ],
      "execution_count": 0,
      "outputs": []
    },
    {
      "cell_type": "markdown",
      "metadata": {
        "id": "7DeLju5wHTzz",
        "colab_type": "text"
      },
      "source": [
        "## Death Percentage vs Number of Confirmed cases \n",
        "\n",
        "*   Italy has a very high death rate compared with the otehr countries, perhaps beccuase it is further\n",
        "*   Germany stands out as a particularly low death rate\n",
        "\n",
        "\n",
        "From this plot we see that Death % incrases as the you go furthre into the crisis, possibly more people reach dying stage, or people confirmed / number of people infected becomes smaller as there are more peple with it\n"
      ]
    },
    {
      "cell_type": "code",
      "metadata": {
        "id": "MlJXDv8gFSfX",
        "colab_type": "code",
        "cellView": "form",
        "outputId": "78b7d243-7a71-41d4-a9b7-440cfc586202",
        "colab": {
          "base_uri": "https://localhost:8080/",
          "height": 542
        }
      },
      "source": [
        "#@title Death Percentage by filtercoutry\n",
        "fig = px.line(frame[filterEurope], x='Last Update', y='Death Percentage', color='Country/Region', title='Death Percentage vs Total cases ')\n",
        "fig.show()"
      ],
      "execution_count": 99,
      "outputs": [
        {
          "output_type": "display_data",
          "data": {
            "text/html": [
              "<html>\n",
              "<head><meta charset=\"utf-8\" /></head>\n",
              "<body>\n",
              "    <div>\n",
              "            <script src=\"https://cdnjs.cloudflare.com/ajax/libs/mathjax/2.7.5/MathJax.js?config=TeX-AMS-MML_SVG\"></script><script type=\"text/javascript\">if (window.MathJax) {MathJax.Hub.Config({SVG: {font: \"STIX-Web\"}});}</script>\n",
              "                <script type=\"text/javascript\">window.PlotlyConfig = {MathJaxConfig: 'local'};</script>\n",
              "        <script src=\"https://cdn.plot.ly/plotly-latest.min.js\"></script>    \n",
              "            <div id=\"ce3fda2a-ea9e-4149-ab9b-66637190a638\" class=\"plotly-graph-div\" style=\"height:525px; width:100%;\"></div>\n",
              "            <script type=\"text/javascript\">\n",
              "                \n",
              "                    window.PLOTLYENV=window.PLOTLYENV || {};\n",
              "                    \n",
              "                if (document.getElementById(\"ce3fda2a-ea9e-4149-ab9b-66637190a638\")) {\n",
              "                    Plotly.newPlot(\n",
              "                        'ce3fda2a-ea9e-4149-ab9b-66637190a638',\n",
              "                        [{\"hoverlabel\": {\"namelength\": 0}, \"hovertemplate\": \"Country/Region=France<br>Last Update=%{x}<br>Death Percentage=%{y}\", \"legendgroup\": \"Country/Region=France\", \"line\": {\"color\": \"#636efa\", \"dash\": \"solid\"}, \"mode\": \"lines\", \"name\": \"Country/Region=France\", \"showlegend\": true, \"type\": \"scatter\", \"x\": [\"2020-01-24T17:00:00\", \"2020-01-25T17:00:00\", \"2020-01-26T16:00:00\", \"2020-01-27T23:59:00\", \"2020-01-28T23:00:00\", \"2020-01-29T19:30:00\", \"2020-01-30T16:00:00\", \"2020-01-31T23:59:00\", \"2020-02-01T01:52:00\", \"2020-02-08T09:53:01\", \"2020-02-12T18:53:02\", \"2020-02-15T20:53:02\", \"2020-02-25T21:23:03\", \"2020-02-26T20:03:06\", \"2020-02-27T22:13:10\", \"2020-02-28T20:13:09\", \"2020-02-29T19:03:04\", \"2020-03-01T20:43:02\", \"2020-03-02T20:33:02\", \"2020-03-03T15:23:03\", \"2020-03-04T20:43:02\", \"2020-03-05T15:13:22\", \"2020-03-06T20:13:13\", \"2020-03-07T20:33:02\", \"2020-03-08T18:03:04\", \"2020-03-09T00:43:03\", \"2020-03-10T18:53:02\", \"2020-03-11T20:00:00\", \"2020-03-11T20:00:00\", \"2020-03-11T20:00:00\", \"2020-03-11T20:00:00\", \"2020-03-14T16:33:03\", \"2020-03-14T16:33:03\", \"2020-03-14T16:53:03\", \"2020-03-14T16:53:03\", \"2020-03-14T20:13:16\", \"2020-03-14T20:53:03\", \"2020-03-15T06:53:03\", \"2020-03-15T18:20:18\", \"2020-03-15T18:20:19\", \"2020-03-16T14:38:45\", \"2020-03-16T14:38:45\", \"2020-03-16T14:38:45\", \"2020-03-16T14:38:45\", \"2020-03-16T20:13:11\"], \"xaxis\": \"x\", \"y\": [0.0, 0.0, 0.0, 0.0, 0.0, 0.0, 0.0, 0.0, 0.0, 0.0, 0.0, 8.33, 7.14, 11.11, 5.26, 3.51, 2.0, 1.54, 1.57, 1.96, 1.4, 1.59, 1.38, 1.16, 1.69, 1.57, 1.85, 2.15, 2.15, 2.15, 2.15, 2.03, 2.03, 2.03, 2.03, 2.03, 2.03, 2.02, 2.02, 2.02, 2.23, 2.23, 2.23, 2.23, 2.23], \"yaxis\": \"y\"}, {\"hoverlabel\": {\"namelength\": 0}, \"hovertemplate\": \"Country/Region=Germany<br>Last Update=%{x}<br>Death Percentage=%{y}\", \"legendgroup\": \"Country/Region=Germany\", \"line\": {\"color\": \"#EF553B\", \"dash\": \"solid\"}, \"mode\": \"lines\", \"name\": \"Country/Region=Germany\", \"showlegend\": true, \"type\": \"scatter\", \"x\": [\"2020-01-28T23:00:00\", \"2020-01-29T19:30:00\", \"2020-01-30T16:00:00\", \"2020-01-31T23:59:00\", \"2020-02-01T18:33:00\", \"2020-02-02T18:03:05\", \"2020-02-03T20:53:02\", \"2020-02-07T16:33:03\", \"2020-02-09T06:13:11\", \"2020-02-11T19:33:03\", \"2020-02-13T15:13:11\", \"2020-02-18T17:03:03\", \"2020-02-21T23:03:13\", \"2020-02-25T21:33:02\", \"2020-02-26T23:43:03\", \"2020-02-27T23:13:04\", \"2020-02-28T00:13:18\", \"2020-02-29T14:43:03\", \"2020-03-01T23:23:02\", \"2020-03-02T20:33:02\", \"2020-03-03T20:03:06\", \"2020-03-04T19:33:03\", \"2020-03-05T17:43:03\", \"2020-03-06T17:53:03\", \"2020-03-07T17:43:05\", \"2020-03-08T21:03:03\", \"2020-03-09T18:13:11\", \"2020-03-10T18:53:02\", \"2020-03-11T19:13:17\", \"2020-03-12T09:53:06\", \"2020-03-14T22:13:11\", \"2020-03-15T18:20:18\", \"2020-03-16T20:13:11\"], \"xaxis\": \"x\", \"y\": [0.0, 0.0, 0.0, 0.0, 0.0, 0.0, 0.0, 0.0, 0.0, 0.0, 0.0, 0.0, 0.0, 0.0, 0.0, 0.0, 0.0, 0.0, 0.0, 0.0, 0.0, 0.0, 0.0, 0.0, 0.0, 0.0, 0.17, 0.14, 0.16, 0.14, 0.2, 0.19, 0.23], \"yaxis\": \"y\"}, {\"hoverlabel\": {\"namelength\": 0}, \"hovertemplate\": \"Country/Region=Italy<br>Last Update=%{x}<br>Death Percentage=%{y}\", \"legendgroup\": \"Country/Region=Italy\", \"line\": {\"color\": \"#00cc96\", \"dash\": \"solid\"}, \"mode\": \"lines\", \"name\": \"Country/Region=Italy\", \"showlegend\": true, \"type\": \"scatter\", \"x\": [\"2020-01-31T08:15:00\", \"2020-02-07T17:53:02\", \"2020-02-21T23:33:06\", \"2020-02-22T23:43:02\", \"2020-02-23T23:43:02\", \"2020-02-24T23:43:01\", \"2020-02-25T18:55:32\", \"2020-02-26T23:43:03\", \"2020-02-27T23:23:02\", \"2020-02-28T20:13:09\", \"2020-02-29T18:03:05\", \"2020-03-01T23:23:02\", \"2020-03-02T20:23:16\", \"2020-03-03T20:03:06\", \"2020-03-04T19:23:03\", \"2020-03-05T17:43:03\", \"2020-03-06T17:33:03\", \"2020-03-07T17:33:03\", \"2020-03-08T18:03:04\", \"2020-03-09T18:13:11\", \"2020-03-10T17:53:02\", \"2020-03-11T20:00:00\", \"2020-03-14T20:13:16\", \"2020-03-16T17:33:03\"], \"xaxis\": \"x\", \"y\": [0.0, 0.0, 5.0, 3.23, 1.94, 3.06, 3.11, 2.65, 2.6, 2.36, 2.57, 2.01, 2.55, 3.16, 3.46, 3.84, 4.25, 3.96, 4.96, 5.05, 6.22, 7.17, 7.31, 7.71], \"yaxis\": \"y\"}, {\"hoverlabel\": {\"namelength\": 0}, \"hovertemplate\": \"Country/Region=UK<br>Last Update=%{x}<br>Death Percentage=%{y}\", \"legendgroup\": \"Country/Region=UK\", \"line\": {\"color\": \"#ab63fa\", \"dash\": \"solid\"}, \"mode\": \"lines\", \"name\": \"Country/Region=UK\", \"showlegend\": true, \"type\": \"scatter\", \"x\": [\"2020-01-31T23:59:00\", \"2020-02-01T01:52:00\", \"2020-02-07T18:33:02\", \"2020-02-10T19:03:02\", \"2020-02-12T19:03:06\", \"2020-02-16T16:23:06\", \"2020-02-24T08:33:02\", \"2020-02-27T13:23:02\", \"2020-02-28T20:13:09\", \"2020-02-29T18:03:05\", \"2020-03-01T23:23:02\", \"2020-03-02T20:33:02\", \"2020-03-03T15:13:26\", \"2020-03-04T19:33:03\", \"2020-03-05T18:03:03\", \"2020-03-06T15:33:03\", \"2020-03-07T17:43:05\", \"2020-03-08T22:03:10\", \"2020-03-09T18:33:03\", \"2020-03-10T23:53:02\"], \"xaxis\": \"x\", \"y\": [0.0, 0.0, 0.0, 0.0, 0.0, 0.0, 0.0, 0.0, 0.0, 0.0, 0.0, 0.0, 0.0, 0.0, 0.87, 1.23, 0.97, 1.1, 1.25, 1.57], \"yaxis\": \"y\"}, {\"hoverlabel\": {\"namelength\": 0}, \"hovertemplate\": \"Country/Region=Sweden<br>Last Update=%{x}<br>Death Percentage=%{y}\", \"legendgroup\": \"Country/Region=Sweden\", \"line\": {\"color\": \"#FFA15A\", \"dash\": \"solid\"}, \"mode\": \"lines\", \"name\": \"Country/Region=Sweden\", \"showlegend\": true, \"type\": \"scatter\", \"x\": [\"2020-01-31T23:59:00\", \"2020-02-01T02:13:00\", \"2020-02-26T18:53:02\", \"2020-02-27T20:33:02\", \"2020-02-29T14:43:03\", \"2020-03-01T23:23:02\", \"2020-03-02T20:53:02\", \"2020-03-03T15:13:26\", \"2020-03-04T12:33:03\", \"2020-03-05T18:03:03\", \"2020-03-06T13:03:12\", \"2020-03-07T17:53:03\", \"2020-03-08T14:03:12\", \"2020-03-09T18:33:03\", \"2020-03-10T23:53:02\", \"2020-03-11T19:33:02\", \"2020-03-12T21:39:09\", \"2020-03-14T22:13:11\", \"2020-03-15T18:20:18\", \"2020-03-16T14:38:45\"], \"xaxis\": \"x\", \"y\": [0.0, 0.0, 0.0, 0.0, 0.0, 0.0, 0.0, 0.0, 0.0, 0.0, 0.0, 0.0, 0.0, 0.0, 0.0, 0.2, 0.17, 0.21, 0.29, 0.54], \"yaxis\": \"y\"}, {\"hoverlabel\": {\"namelength\": 0}, \"hovertemplate\": \"Country/Region=Spain<br>Last Update=%{x}<br>Death Percentage=%{y}\", \"legendgroup\": \"Country/Region=Spain\", \"line\": {\"color\": \"#19d3f3\", \"dash\": \"solid\"}, \"mode\": \"lines\", \"name\": \"Country/Region=Spain\", \"showlegend\": true, \"type\": \"scatter\", \"x\": [\"2020-02-01T02:13:00\", \"2020-02-09T20:33:03\", \"2020-02-15T17:23:04\", \"2020-02-25T21:33:02\", \"2020-02-26T20:43:02\", \"2020-02-27T13:23:02\", \"2020-02-28T15:33:03\", \"2020-02-29T19:13:08\", \"2020-03-01T23:33:03\", \"2020-03-02T14:43:05\", \"2020-03-03T23:53:03\", \"2020-03-04T20:43:02\", \"2020-03-05T17:43:03\", \"2020-03-06T20:13:13\", \"2020-03-07T17:43:05\", \"2020-03-08T20:33:02\", \"2020-03-09T18:13:11\", \"2020-03-10T23:53:02\", \"2020-03-11T20:00:00\", \"2020-03-12T01:17:58\", \"2020-03-14T22:13:11\", \"2020-03-15T18:20:18\", \"2020-03-16T20:13:11\"], \"xaxis\": \"x\", \"y\": [0.0, 0.0, 0.0, 0.0, 0.0, 0.0, 0.0, 0.0, 0.0, 0.0, 0.61, 0.9, 1.16, 1.25, 2.0, 2.53, 2.61, 2.06, 2.54, 2.42, 3.05, 3.71, 3.44], \"yaxis\": \"y\"}, {\"hoverlabel\": {\"namelength\": 0}, \"hovertemplate\": \"Country/Region=Belgium<br>Last Update=%{x}<br>Death Percentage=%{y}\", \"legendgroup\": \"Country/Region=Belgium\", \"line\": {\"color\": \"#FF6692\", \"dash\": \"solid\"}, \"mode\": \"lines\", \"name\": \"Country/Region=Belgium\", \"showlegend\": true, \"type\": \"scatter\", \"x\": [\"2020-02-04T15:43:02\", \"2020-02-17T04:23:06\", \"2020-03-01T12:43:02\", \"2020-03-02T20:53:02\", \"2020-03-03T15:13:26\", \"2020-03-04T12:33:03\", \"2020-03-05T13:53:03\", \"2020-03-06T12:33:03\", \"2020-03-07T17:53:03\", \"2020-03-08T17:23:07\", \"2020-03-09T10:43:05\", \"2020-03-10T11:53:03\", \"2020-03-11T18:52:03\", \"2020-03-14T11:53:29\", \"2020-03-15T18:20:18\", \"2020-03-16T14:38:45\"], \"xaxis\": \"x\", \"y\": [0.0, 0.0, 0.0, 0.0, 0.0, 0.0, 0.0, 0.0, 0.0, 0.0, 0.0, 0.0, 0.96, 0.58, 0.45, 0.47], \"yaxis\": \"y\"}, {\"hoverlabel\": {\"namelength\": 0}, \"hovertemplate\": \"Country/Region=Austria<br>Last Update=%{x}<br>Death Percentage=%{y}\", \"legendgroup\": \"Country/Region=Austria\", \"line\": {\"color\": \"#B6E880\", \"dash\": \"solid\"}, \"mode\": \"lines\", \"name\": \"Country/Region=Austria\", \"showlegend\": true, \"type\": \"scatter\", \"x\": [\"2020-02-25T18:55:32\", \"2020-02-26T00:13:06\", \"2020-02-27T14:03:03\", \"2020-02-29T14:43:03\", \"2020-03-01T23:33:03\", \"2020-03-02T21:23:04\", \"2020-03-03T15:13:26\", \"2020-03-04T19:33:03\", \"2020-03-05T17:53:02\", \"2020-03-06T16:33:04\", \"2020-03-07T17:53:03\", \"2020-03-08T09:13:14\", \"2020-03-09T18:33:03\", \"2020-03-10T16:13:16\", \"2020-03-11T20:00:00\", \"2020-03-12T11:13:29\", \"2020-03-14T16:13:55\", \"2020-03-15T18:20:18\", \"2020-03-16T15:13:09\"], \"xaxis\": \"x\", \"y\": [0.0, 0.0, 0.0, 0.0, 0.0, 0.0, 0.0, 0.0, 0.0, 0.0, 0.0, 0.0, 0.0, 0.0, 0.2, 0.33, 0.15, 0.12, 0.29], \"yaxis\": \"y\"}, {\"hoverlabel\": {\"namelength\": 0}, \"hovertemplate\": \"Country/Region=Switzerland<br>Last Update=%{x}<br>Death Percentage=%{y}\", \"legendgroup\": \"Country/Region=Switzerland\", \"line\": {\"color\": \"#FF97FF\", \"dash\": \"solid\"}, \"mode\": \"lines\", \"name\": \"Country/Region=Switzerland\", \"showlegend\": true, \"type\": \"scatter\", \"x\": [\"2020-02-25T19:13:21\", \"2020-02-27T23:03:11\", \"2020-02-29T18:03:05\", \"2020-03-01T23:23:02\", \"2020-03-02T22:33:09\", \"2020-03-03T16:43:02\", \"2020-03-04T19:33:03\", \"2020-03-05T17:43:03\", \"2020-03-06T15:23:19\", \"2020-03-07T17:43:05\", \"2020-03-08T17:23:07\", \"2020-03-09T11:33:10\", \"2020-03-10T23:53:02\", \"2020-03-11T20:00:00\", \"2020-03-14T11:53:29\", \"2020-03-15T18:20:18\"], \"xaxis\": \"x\", \"y\": [0.0, 0.0, 0.0, 0.0, 0.0, 0.0, 0.0, 0.88, 0.47, 0.37, 0.59, 0.53, 0.61, 0.97, 0.96, 0.64], \"yaxis\": \"y\"}, {\"hoverlabel\": {\"namelength\": 0}, \"hovertemplate\": \"Country/Region=Norway<br>Last Update=%{x}<br>Death Percentage=%{y}\", \"legendgroup\": \"Country/Region=Norway\", \"line\": {\"color\": \"#FECB52\", \"dash\": \"solid\"}, \"mode\": \"lines\", \"name\": \"Country/Region=Norway\", \"showlegend\": true, \"type\": \"scatter\", \"x\": [\"2020-02-26T20:23:12\", \"2020-02-27T16:23:03\", \"2020-02-28T21:03:02\", \"2020-02-29T23:13:06\", \"2020-03-01T20:43:02\", \"2020-03-02T20:53:02\", \"2020-03-03T14:33:03\", \"2020-03-04T19:33:03\", \"2020-03-05T17:43:03\", \"2020-03-06T16:33:04\", \"2020-03-07T17:53:03\", \"2020-03-08T21:03:03\", \"2020-03-09T18:33:03\", \"2020-03-10T23:53:02\", \"2020-03-11T19:33:02\", \"2020-03-12T13:13:31\", \"2020-03-14T22:13:11\", \"2020-03-15T18:20:18\", \"2020-03-16T21:13:12\"], \"xaxis\": \"x\", \"y\": [0.0, 0.0, 0.0, 0.0, 0.0, 0.0, 0.0, 0.0, 0.0, 0.0, 0.0, 0.0, 0.0, 0.0, 0.0, 0.0, 0.28, 0.25, 0.23], \"yaxis\": \"y\"}, {\"hoverlabel\": {\"namelength\": 0}, \"hovertemplate\": \"Country/Region=Denmark<br>Last Update=%{x}<br>Death Percentage=%{y}\", \"legendgroup\": \"Country/Region=Denmark\", \"line\": {\"color\": \"#636efa\", \"dash\": \"solid\"}, \"mode\": \"lines\", \"name\": \"Country/Region=Denmark\", \"showlegend\": true, \"type\": \"scatter\", \"x\": [\"2020-02-27T16:23:03\", \"2020-02-29T18:03:05\", \"2020-03-01T23:33:03\", \"2020-03-03T15:13:26\", \"2020-03-04T00:03:15\", \"2020-03-06T13:03:12\", \"2020-03-08T14:53:11\", \"2020-03-09T18:13:11\", \"2020-03-10T17:33:34\", \"2020-03-11T20:00:00\", \"2020-03-11T20:00:00\", \"2020-03-12T09:53:06\", \"2020-03-14T16:33:03\", \"2020-03-14T22:13:32\", \"2020-03-15T18:20:19\", \"2020-03-15T18:20:19\", \"2020-03-16T14:38:45\", \"2020-03-16T18:33:03\"], \"xaxis\": \"x\", \"y\": [0.0, 0.0, 0.0, 0.0, 0.0, 0.0, 0.0, 0.0, 0.0, 0.0, 0.0, 0.0, 0.12, 0.12, 0.23, 0.23, 0.32, 0.32], \"yaxis\": \"y\"}, {\"hoverlabel\": {\"namelength\": 0}, \"hovertemplate\": \"Country/Region=Czech Republic<br>Last Update=%{x}<br>Death Percentage=%{y}\", \"legendgroup\": \"Country/Region=Czech Republic\", \"line\": {\"color\": \"#EF553B\", \"dash\": \"solid\"}, \"mode\": \"lines\", \"name\": \"Country/Region=Czech Republic\", \"showlegend\": true, \"type\": \"scatter\", \"x\": [\"2020-03-01T15:53:06\", \"2020-03-02T16:33:02\", \"2020-03-03T15:13:26\", \"2020-03-04T19:33:03\", \"2020-03-05T17:53:02\", \"2020-03-06T16:33:04\", \"2020-03-07T02:03:29\", \"2020-03-08T19:53:03\", \"2020-03-10T13:33:14\"], \"xaxis\": \"x\", \"y\": [0.0, 0.0, 0.0, 0.0, 0.0, 0.0, 0.0, 0.0, 0.0], \"yaxis\": \"y\"}, {\"hoverlabel\": {\"namelength\": 0}, \"hovertemplate\": \"Country/Region=Portugal<br>Last Update=%{x}<br>Death Percentage=%{y}\", \"legendgroup\": \"Country/Region=Portugal\", \"line\": {\"color\": \"#00cc96\", \"dash\": \"solid\"}, \"mode\": \"lines\", \"name\": \"Country/Region=Portugal\", \"showlegend\": true, \"type\": \"scatter\", \"x\": [\"2020-03-02T22:43:02\", \"2020-03-03T15:33:02\", \"2020-03-04T12:43:03\", \"2020-03-05T13:53:03\", \"2020-03-06T20:33:03\", \"2020-03-07T18:33:02\", \"2020-03-08T19:53:03\", \"2020-03-10T12:53:02\", \"2020-03-11T13:33:11\", \"2020-03-14T16:14:47\", \"2020-03-15T18:20:18\", \"2020-03-16T14:38:45\"], \"xaxis\": \"x\", \"y\": [0.0, 0.0, 0.0, 0.0, 0.0, 0.0, 0.0, 0.0, 0.0, 0.0, 0.0, 0.0], \"yaxis\": \"y\"}, {\"hoverlabel\": {\"namelength\": 0}, \"hovertemplate\": \"Country/Region=Poland<br>Last Update=%{x}<br>Death Percentage=%{y}\", \"legendgroup\": \"Country/Region=Poland\", \"line\": {\"color\": \"#ab63fa\", \"dash\": \"solid\"}, \"mode\": \"lines\", \"name\": \"Country/Region=Poland\", \"showlegend\": true, \"type\": \"scatter\", \"x\": [\"2020-03-04T15:13:18\", \"2020-03-06T16:43:04\", \"2020-03-08T21:13:10\", \"2020-03-09T11:33:10\", \"2020-03-10T20:13:07\", \"2020-03-11T20:00:00\", \"2020-03-12T13:33:02\", \"2020-03-14T22:53:02\", \"2020-03-15T18:20:18\", \"2020-03-16T21:13:17\"], \"xaxis\": \"x\", \"y\": [0.0, 0.0, 0.0, 0.0, 0.0, 2.94, 2.04, 2.91, 2.52, 2.26], \"yaxis\": \"y\"}],\n",
              "                        {\"legend\": {\"tracegroupgap\": 0}, \"template\": {\"data\": {\"bar\": [{\"error_x\": {\"color\": \"#2a3f5f\"}, \"error_y\": {\"color\": \"#2a3f5f\"}, \"marker\": {\"line\": {\"color\": \"#E5ECF6\", \"width\": 0.5}}, \"type\": \"bar\"}], \"barpolar\": [{\"marker\": {\"line\": {\"color\": \"#E5ECF6\", \"width\": 0.5}}, \"type\": \"barpolar\"}], \"carpet\": [{\"aaxis\": {\"endlinecolor\": \"#2a3f5f\", \"gridcolor\": \"white\", \"linecolor\": \"white\", \"minorgridcolor\": \"white\", \"startlinecolor\": \"#2a3f5f\"}, \"baxis\": {\"endlinecolor\": \"#2a3f5f\", \"gridcolor\": \"white\", \"linecolor\": \"white\", \"minorgridcolor\": \"white\", \"startlinecolor\": \"#2a3f5f\"}, \"type\": \"carpet\"}], \"choropleth\": [{\"colorbar\": {\"outlinewidth\": 0, \"ticks\": \"\"}, \"type\": \"choropleth\"}], \"contour\": [{\"colorbar\": {\"outlinewidth\": 0, \"ticks\": \"\"}, \"colorscale\": [[0.0, \"#0d0887\"], [0.1111111111111111, \"#46039f\"], [0.2222222222222222, \"#7201a8\"], [0.3333333333333333, \"#9c179e\"], [0.4444444444444444, \"#bd3786\"], [0.5555555555555556, \"#d8576b\"], [0.6666666666666666, \"#ed7953\"], [0.7777777777777778, \"#fb9f3a\"], [0.8888888888888888, \"#fdca26\"], [1.0, \"#f0f921\"]], \"type\": \"contour\"}], \"contourcarpet\": [{\"colorbar\": {\"outlinewidth\": 0, \"ticks\": \"\"}, \"type\": \"contourcarpet\"}], \"heatmap\": [{\"colorbar\": {\"outlinewidth\": 0, \"ticks\": \"\"}, \"colorscale\": [[0.0, \"#0d0887\"], [0.1111111111111111, \"#46039f\"], [0.2222222222222222, \"#7201a8\"], [0.3333333333333333, \"#9c179e\"], [0.4444444444444444, \"#bd3786\"], [0.5555555555555556, \"#d8576b\"], [0.6666666666666666, \"#ed7953\"], [0.7777777777777778, \"#fb9f3a\"], [0.8888888888888888, \"#fdca26\"], [1.0, \"#f0f921\"]], \"type\": \"heatmap\"}], \"heatmapgl\": [{\"colorbar\": {\"outlinewidth\": 0, \"ticks\": \"\"}, \"colorscale\": [[0.0, \"#0d0887\"], [0.1111111111111111, \"#46039f\"], [0.2222222222222222, \"#7201a8\"], [0.3333333333333333, \"#9c179e\"], [0.4444444444444444, \"#bd3786\"], [0.5555555555555556, \"#d8576b\"], [0.6666666666666666, \"#ed7953\"], [0.7777777777777778, \"#fb9f3a\"], [0.8888888888888888, \"#fdca26\"], [1.0, \"#f0f921\"]], \"type\": \"heatmapgl\"}], \"histogram\": [{\"marker\": {\"colorbar\": {\"outlinewidth\": 0, \"ticks\": \"\"}}, \"type\": \"histogram\"}], \"histogram2d\": [{\"colorbar\": {\"outlinewidth\": 0, \"ticks\": \"\"}, \"colorscale\": [[0.0, \"#0d0887\"], [0.1111111111111111, \"#46039f\"], [0.2222222222222222, \"#7201a8\"], [0.3333333333333333, \"#9c179e\"], [0.4444444444444444, \"#bd3786\"], [0.5555555555555556, \"#d8576b\"], [0.6666666666666666, \"#ed7953\"], [0.7777777777777778, \"#fb9f3a\"], [0.8888888888888888, \"#fdca26\"], [1.0, \"#f0f921\"]], \"type\": \"histogram2d\"}], \"histogram2dcontour\": [{\"colorbar\": {\"outlinewidth\": 0, \"ticks\": \"\"}, \"colorscale\": [[0.0, \"#0d0887\"], [0.1111111111111111, \"#46039f\"], [0.2222222222222222, \"#7201a8\"], [0.3333333333333333, \"#9c179e\"], [0.4444444444444444, \"#bd3786\"], [0.5555555555555556, \"#d8576b\"], [0.6666666666666666, \"#ed7953\"], [0.7777777777777778, \"#fb9f3a\"], [0.8888888888888888, \"#fdca26\"], [1.0, \"#f0f921\"]], \"type\": \"histogram2dcontour\"}], \"mesh3d\": [{\"colorbar\": {\"outlinewidth\": 0, \"ticks\": \"\"}, \"type\": \"mesh3d\"}], \"parcoords\": [{\"line\": {\"colorbar\": {\"outlinewidth\": 0, \"ticks\": \"\"}}, \"type\": \"parcoords\"}], \"pie\": [{\"automargin\": true, \"type\": \"pie\"}], \"scatter\": [{\"marker\": {\"colorbar\": {\"outlinewidth\": 0, \"ticks\": \"\"}}, \"type\": \"scatter\"}], \"scatter3d\": [{\"line\": {\"colorbar\": {\"outlinewidth\": 0, \"ticks\": \"\"}}, \"marker\": {\"colorbar\": {\"outlinewidth\": 0, \"ticks\": \"\"}}, \"type\": \"scatter3d\"}], \"scattercarpet\": [{\"marker\": {\"colorbar\": {\"outlinewidth\": 0, \"ticks\": \"\"}}, \"type\": \"scattercarpet\"}], \"scattergeo\": [{\"marker\": {\"colorbar\": {\"outlinewidth\": 0, \"ticks\": \"\"}}, \"type\": \"scattergeo\"}], \"scattergl\": [{\"marker\": {\"colorbar\": {\"outlinewidth\": 0, \"ticks\": \"\"}}, \"type\": \"scattergl\"}], \"scattermapbox\": [{\"marker\": {\"colorbar\": {\"outlinewidth\": 0, \"ticks\": \"\"}}, \"type\": \"scattermapbox\"}], \"scatterpolar\": [{\"marker\": {\"colorbar\": {\"outlinewidth\": 0, \"ticks\": \"\"}}, \"type\": \"scatterpolar\"}], \"scatterpolargl\": [{\"marker\": {\"colorbar\": {\"outlinewidth\": 0, \"ticks\": \"\"}}, \"type\": \"scatterpolargl\"}], \"scatterternary\": [{\"marker\": {\"colorbar\": {\"outlinewidth\": 0, \"ticks\": \"\"}}, \"type\": \"scatterternary\"}], \"surface\": [{\"colorbar\": {\"outlinewidth\": 0, \"ticks\": \"\"}, \"colorscale\": [[0.0, \"#0d0887\"], [0.1111111111111111, \"#46039f\"], [0.2222222222222222, \"#7201a8\"], [0.3333333333333333, \"#9c179e\"], [0.4444444444444444, \"#bd3786\"], [0.5555555555555556, \"#d8576b\"], [0.6666666666666666, \"#ed7953\"], [0.7777777777777778, \"#fb9f3a\"], [0.8888888888888888, \"#fdca26\"], [1.0, \"#f0f921\"]], \"type\": \"surface\"}], \"table\": [{\"cells\": {\"fill\": {\"color\": \"#EBF0F8\"}, \"line\": {\"color\": \"white\"}}, \"header\": {\"fill\": {\"color\": \"#C8D4E3\"}, \"line\": {\"color\": \"white\"}}, \"type\": \"table\"}]}, \"layout\": {\"annotationdefaults\": {\"arrowcolor\": \"#2a3f5f\", \"arrowhead\": 0, \"arrowwidth\": 1}, \"coloraxis\": {\"colorbar\": {\"outlinewidth\": 0, \"ticks\": \"\"}}, \"colorscale\": {\"diverging\": [[0, \"#8e0152\"], [0.1, \"#c51b7d\"], [0.2, \"#de77ae\"], [0.3, \"#f1b6da\"], [0.4, \"#fde0ef\"], [0.5, \"#f7f7f7\"], [0.6, \"#e6f5d0\"], [0.7, \"#b8e186\"], [0.8, \"#7fbc41\"], [0.9, \"#4d9221\"], [1, \"#276419\"]], \"sequential\": [[0.0, \"#0d0887\"], [0.1111111111111111, \"#46039f\"], [0.2222222222222222, \"#7201a8\"], [0.3333333333333333, \"#9c179e\"], [0.4444444444444444, \"#bd3786\"], [0.5555555555555556, \"#d8576b\"], [0.6666666666666666, \"#ed7953\"], [0.7777777777777778, \"#fb9f3a\"], [0.8888888888888888, \"#fdca26\"], [1.0, \"#f0f921\"]], \"sequentialminus\": [[0.0, \"#0d0887\"], [0.1111111111111111, \"#46039f\"], [0.2222222222222222, \"#7201a8\"], [0.3333333333333333, \"#9c179e\"], [0.4444444444444444, \"#bd3786\"], [0.5555555555555556, \"#d8576b\"], [0.6666666666666666, \"#ed7953\"], [0.7777777777777778, \"#fb9f3a\"], [0.8888888888888888, \"#fdca26\"], [1.0, \"#f0f921\"]]}, \"colorway\": [\"#636efa\", \"#EF553B\", \"#00cc96\", \"#ab63fa\", \"#FFA15A\", \"#19d3f3\", \"#FF6692\", \"#B6E880\", \"#FF97FF\", \"#FECB52\"], \"font\": {\"color\": \"#2a3f5f\"}, \"geo\": {\"bgcolor\": \"white\", \"lakecolor\": \"white\", \"landcolor\": \"#E5ECF6\", \"showlakes\": true, \"showland\": true, \"subunitcolor\": \"white\"}, \"hoverlabel\": {\"align\": \"left\"}, \"hovermode\": \"closest\", \"mapbox\": {\"style\": \"light\"}, \"paper_bgcolor\": \"white\", \"plot_bgcolor\": \"#E5ECF6\", \"polar\": {\"angularaxis\": {\"gridcolor\": \"white\", \"linecolor\": \"white\", \"ticks\": \"\"}, \"bgcolor\": \"#E5ECF6\", \"radialaxis\": {\"gridcolor\": \"white\", \"linecolor\": \"white\", \"ticks\": \"\"}}, \"scene\": {\"xaxis\": {\"backgroundcolor\": \"#E5ECF6\", \"gridcolor\": \"white\", \"gridwidth\": 2, \"linecolor\": \"white\", \"showbackground\": true, \"ticks\": \"\", \"zerolinecolor\": \"white\"}, \"yaxis\": {\"backgroundcolor\": \"#E5ECF6\", \"gridcolor\": \"white\", \"gridwidth\": 2, \"linecolor\": \"white\", \"showbackground\": true, \"ticks\": \"\", \"zerolinecolor\": \"white\"}, \"zaxis\": {\"backgroundcolor\": \"#E5ECF6\", \"gridcolor\": \"white\", \"gridwidth\": 2, \"linecolor\": \"white\", \"showbackground\": true, \"ticks\": \"\", \"zerolinecolor\": \"white\"}}, \"shapedefaults\": {\"line\": {\"color\": \"#2a3f5f\"}}, \"ternary\": {\"aaxis\": {\"gridcolor\": \"white\", \"linecolor\": \"white\", \"ticks\": \"\"}, \"baxis\": {\"gridcolor\": \"white\", \"linecolor\": \"white\", \"ticks\": \"\"}, \"bgcolor\": \"#E5ECF6\", \"caxis\": {\"gridcolor\": \"white\", \"linecolor\": \"white\", \"ticks\": \"\"}}, \"title\": {\"x\": 0.05}, \"xaxis\": {\"automargin\": true, \"gridcolor\": \"white\", \"linecolor\": \"white\", \"ticks\": \"\", \"title\": {\"standoff\": 15}, \"zerolinecolor\": \"white\", \"zerolinewidth\": 2}, \"yaxis\": {\"automargin\": true, \"gridcolor\": \"white\", \"linecolor\": \"white\", \"ticks\": \"\", \"title\": {\"standoff\": 15}, \"zerolinecolor\": \"white\", \"zerolinewidth\": 2}}}, \"title\": {\"text\": \"Death Percentage vs Total cases \"}, \"xaxis\": {\"anchor\": \"y\", \"domain\": [0.0, 1.0], \"title\": {\"text\": \"Last Update\"}}, \"yaxis\": {\"anchor\": \"x\", \"domain\": [0.0, 1.0], \"title\": {\"text\": \"Death Percentage\"}}},\n",
              "                        {\"responsive\": true}\n",
              "                    ).then(function(){\n",
              "                            \n",
              "var gd = document.getElementById('ce3fda2a-ea9e-4149-ab9b-66637190a638');\n",
              "var x = new MutationObserver(function (mutations, observer) {{\n",
              "        var display = window.getComputedStyle(gd).display;\n",
              "        if (!display || display === 'none') {{\n",
              "            console.log([gd, 'removed!']);\n",
              "            Plotly.purge(gd);\n",
              "            observer.disconnect();\n",
              "        }}\n",
              "}});\n",
              "\n",
              "// Listen for the removal of the full notebook cells\n",
              "var notebookContainer = gd.closest('#notebook-container');\n",
              "if (notebookContainer) {{\n",
              "    x.observe(notebookContainer, {childList: true});\n",
              "}}\n",
              "\n",
              "// Listen for the clearing of the current output cell\n",
              "var outputEl = gd.closest('.output');\n",
              "if (outputEl) {{\n",
              "    x.observe(outputEl, {childList: true});\n",
              "}}\n",
              "\n",
              "                        })\n",
              "                };\n",
              "                \n",
              "            </script>\n",
              "        </div>\n",
              "</body>\n",
              "</html>"
            ]
          },
          "metadata": {
            "tags": []
          }
        }
      ]
    },
    {
      "cell_type": "markdown",
      "metadata": {
        "id": "fvNBmpTuW9FY",
        "colab_type": "text"
      },
      "source": [
        "Here I am using filters: \n",
        "\n",
        "\n",
        "*   Filter_Date: Gets the lates data for each country\n",
        "*   Filter_too_little_data: two versions, the first excludes countries with too high death rate, the second countries with less thatn 300 total cases, both of these are outliers that fuck up the stats\n",
        "\n"
      ]
    },
    {
      "cell_type": "code",
      "metadata": {
        "id": "QHBXBX8RJT0k",
        "colab_type": "code",
        "outputId": "a980adb0-2252-4efe-ace3-f76c9f07aae0",
        "colab": {
          "base_uri": "https://localhost:8080/",
          "height": 542
        },
        "cellView": "form"
      },
      "source": [
        "#@title Europe death % color map { form-width: \"10px\" }\n",
        "#get the last date for which data is available for each country \n",
        "frame['Latest update']= frame.groupby([frame['Country/Region']])['Last Update'].transform('max')\n",
        "\n",
        "filter_Date= frame['Latest update']==frame['Last Update']\n",
        "filter_too_little_data = ~frame['Country/Region'].isin(['Algeria','Ecuador','Guatemala','Guyana','Sudan', 'Ukraine'])\n",
        "filter_too_little_data = frame['Total_Cases_by_country']> 300\n",
        "\n",
        "\n",
        "fig = px.choropleth(data_frame=frame[filter_Europe & filter_Date & filter_too_little_data ], locations='Country/Region', locationmode='country names',  scope=\"europe\", color='Death Percentage', hover_name='Country/Region', hover_data=['Total_deaths_by_country', 'Total_Cases_by_country' ], title='Im Bored at home')\n",
        "fig.show()\n",
        "\n"
      ],
      "execution_count": 114,
      "outputs": [
        {
          "output_type": "display_data",
          "data": {
            "text/html": [
              "<html>\n",
              "<head><meta charset=\"utf-8\" /></head>\n",
              "<body>\n",
              "    <div>\n",
              "            <script src=\"https://cdnjs.cloudflare.com/ajax/libs/mathjax/2.7.5/MathJax.js?config=TeX-AMS-MML_SVG\"></script><script type=\"text/javascript\">if (window.MathJax) {MathJax.Hub.Config({SVG: {font: \"STIX-Web\"}});}</script>\n",
              "                <script type=\"text/javascript\">window.PlotlyConfig = {MathJaxConfig: 'local'};</script>\n",
              "        <script src=\"https://cdn.plot.ly/plotly-latest.min.js\"></script>    \n",
              "            <div id=\"7b21dcd7-8ca2-4dab-91f9-1bc8e2a7a098\" class=\"plotly-graph-div\" style=\"height:525px; width:100%;\"></div>\n",
              "            <script type=\"text/javascript\">\n",
              "                \n",
              "                    window.PLOTLYENV=window.PLOTLYENV || {};\n",
              "                    \n",
              "                if (document.getElementById(\"7b21dcd7-8ca2-4dab-91f9-1bc8e2a7a098\")) {\n",
              "                    Plotly.newPlot(\n",
              "                        '7b21dcd7-8ca2-4dab-91f9-1bc8e2a7a098',\n",
              "                        [{\"coloraxis\": \"coloraxis\", \"customdata\": [[6.0, 382.0], [14.0, 2200.0], [4.0, 331.0], [0.0, 331.0], [6.0, 1103.0], [5.0, 1058.0], [24.0, 1414.0], [3.0, 1018.0], [2158.0, 27980.0], [3.0, 932.0], [342.0, 9942.0], [17.0, 7272.0], [148.0, 6645.0], [3.0, 1333.0]], \"geo\": \"geo\", \"hoverlabel\": {\"namelength\": 0}, \"hovertemplate\": \"<b>%{hovertext}</b><br><br>Total_deaths_by_country=%{customdata[0]}<br>Total_Cases_by_country=%{customdata[1]}<br>Country/Region=%{location}<br>Death Percentage=%{z}\", \"hovertext\": [\"UK\", \"Switzerland\", \"Greece\", \"Portugal\", \"Sweden\", \"Belgium\", \"Netherlands\", \"Austria\", \"Italy\", \"Denmark\", \"Spain\", \"Germany\", \"France\", \"Norway\"], \"locationmode\": \"country names\", \"locations\": [\"UK\", \"Switzerland\", \"Greece\", \"Portugal\", \"Sweden\", \"Belgium\", \"Netherlands\", \"Austria\", \"Italy\", \"Denmark\", \"Spain\", \"Germany\", \"France\", \"Norway\"], \"name\": \"\", \"type\": \"choropleth\", \"z\": [1.57, 0.64, 1.21, 0.0, 0.54, 0.47, 1.7, 0.29, 7.71, 0.32, 3.44, 0.23, 2.23, 0.23]}],\n",
              "                        {\"coloraxis\": {\"colorbar\": {\"title\": {\"text\": \"Death Percentage\"}}, \"colorscale\": [[0.0, \"#0d0887\"], [0.1111111111111111, \"#46039f\"], [0.2222222222222222, \"#7201a8\"], [0.3333333333333333, \"#9c179e\"], [0.4444444444444444, \"#bd3786\"], [0.5555555555555556, \"#d8576b\"], [0.6666666666666666, \"#ed7953\"], [0.7777777777777778, \"#fb9f3a\"], [0.8888888888888888, \"#fdca26\"], [1.0, \"#f0f921\"]]}, \"geo\": {\"center\": {}, \"domain\": {\"x\": [0.0, 1.0], \"y\": [0.0, 1.0]}, \"scope\": \"europe\"}, \"legend\": {\"tracegroupgap\": 0}, \"template\": {\"data\": {\"bar\": [{\"error_x\": {\"color\": \"#2a3f5f\"}, \"error_y\": {\"color\": \"#2a3f5f\"}, \"marker\": {\"line\": {\"color\": \"#E5ECF6\", \"width\": 0.5}}, \"type\": \"bar\"}], \"barpolar\": [{\"marker\": {\"line\": {\"color\": \"#E5ECF6\", \"width\": 0.5}}, \"type\": \"barpolar\"}], \"carpet\": [{\"aaxis\": {\"endlinecolor\": \"#2a3f5f\", \"gridcolor\": \"white\", \"linecolor\": \"white\", \"minorgridcolor\": \"white\", \"startlinecolor\": \"#2a3f5f\"}, \"baxis\": {\"endlinecolor\": \"#2a3f5f\", \"gridcolor\": \"white\", \"linecolor\": \"white\", \"minorgridcolor\": \"white\", \"startlinecolor\": \"#2a3f5f\"}, \"type\": \"carpet\"}], \"choropleth\": [{\"colorbar\": {\"outlinewidth\": 0, \"ticks\": \"\"}, \"type\": \"choropleth\"}], \"contour\": [{\"colorbar\": {\"outlinewidth\": 0, \"ticks\": \"\"}, \"colorscale\": [[0.0, \"#0d0887\"], [0.1111111111111111, \"#46039f\"], [0.2222222222222222, \"#7201a8\"], [0.3333333333333333, \"#9c179e\"], [0.4444444444444444, \"#bd3786\"], [0.5555555555555556, \"#d8576b\"], [0.6666666666666666, \"#ed7953\"], [0.7777777777777778, \"#fb9f3a\"], [0.8888888888888888, \"#fdca26\"], [1.0, \"#f0f921\"]], \"type\": \"contour\"}], \"contourcarpet\": [{\"colorbar\": {\"outlinewidth\": 0, \"ticks\": \"\"}, \"type\": \"contourcarpet\"}], \"heatmap\": [{\"colorbar\": {\"outlinewidth\": 0, \"ticks\": \"\"}, \"colorscale\": [[0.0, \"#0d0887\"], [0.1111111111111111, \"#46039f\"], [0.2222222222222222, \"#7201a8\"], [0.3333333333333333, \"#9c179e\"], [0.4444444444444444, \"#bd3786\"], [0.5555555555555556, \"#d8576b\"], [0.6666666666666666, \"#ed7953\"], [0.7777777777777778, \"#fb9f3a\"], [0.8888888888888888, \"#fdca26\"], [1.0, \"#f0f921\"]], \"type\": \"heatmap\"}], \"heatmapgl\": [{\"colorbar\": {\"outlinewidth\": 0, \"ticks\": \"\"}, \"colorscale\": [[0.0, \"#0d0887\"], [0.1111111111111111, \"#46039f\"], [0.2222222222222222, \"#7201a8\"], [0.3333333333333333, \"#9c179e\"], [0.4444444444444444, \"#bd3786\"], [0.5555555555555556, \"#d8576b\"], [0.6666666666666666, \"#ed7953\"], [0.7777777777777778, \"#fb9f3a\"], [0.8888888888888888, \"#fdca26\"], [1.0, \"#f0f921\"]], \"type\": \"heatmapgl\"}], \"histogram\": [{\"marker\": {\"colorbar\": {\"outlinewidth\": 0, \"ticks\": \"\"}}, \"type\": \"histogram\"}], \"histogram2d\": [{\"colorbar\": {\"outlinewidth\": 0, \"ticks\": \"\"}, \"colorscale\": [[0.0, \"#0d0887\"], [0.1111111111111111, \"#46039f\"], [0.2222222222222222, \"#7201a8\"], [0.3333333333333333, \"#9c179e\"], [0.4444444444444444, \"#bd3786\"], [0.5555555555555556, \"#d8576b\"], [0.6666666666666666, \"#ed7953\"], [0.7777777777777778, \"#fb9f3a\"], [0.8888888888888888, \"#fdca26\"], [1.0, \"#f0f921\"]], \"type\": \"histogram2d\"}], \"histogram2dcontour\": [{\"colorbar\": {\"outlinewidth\": 0, \"ticks\": \"\"}, \"colorscale\": [[0.0, \"#0d0887\"], [0.1111111111111111, \"#46039f\"], [0.2222222222222222, \"#7201a8\"], [0.3333333333333333, \"#9c179e\"], [0.4444444444444444, \"#bd3786\"], [0.5555555555555556, \"#d8576b\"], [0.6666666666666666, \"#ed7953\"], [0.7777777777777778, \"#fb9f3a\"], [0.8888888888888888, \"#fdca26\"], [1.0, \"#f0f921\"]], \"type\": \"histogram2dcontour\"}], \"mesh3d\": [{\"colorbar\": {\"outlinewidth\": 0, \"ticks\": \"\"}, \"type\": \"mesh3d\"}], \"parcoords\": [{\"line\": {\"colorbar\": {\"outlinewidth\": 0, \"ticks\": \"\"}}, \"type\": \"parcoords\"}], \"pie\": [{\"automargin\": true, \"type\": \"pie\"}], \"scatter\": [{\"marker\": {\"colorbar\": {\"outlinewidth\": 0, \"ticks\": \"\"}}, \"type\": \"scatter\"}], \"scatter3d\": [{\"line\": {\"colorbar\": {\"outlinewidth\": 0, \"ticks\": \"\"}}, \"marker\": {\"colorbar\": {\"outlinewidth\": 0, \"ticks\": \"\"}}, \"type\": \"scatter3d\"}], \"scattercarpet\": [{\"marker\": {\"colorbar\": {\"outlinewidth\": 0, \"ticks\": \"\"}}, \"type\": \"scattercarpet\"}], \"scattergeo\": [{\"marker\": {\"colorbar\": {\"outlinewidth\": 0, \"ticks\": \"\"}}, \"type\": \"scattergeo\"}], \"scattergl\": [{\"marker\": {\"colorbar\": {\"outlinewidth\": 0, \"ticks\": \"\"}}, \"type\": \"scattergl\"}], \"scattermapbox\": [{\"marker\": {\"colorbar\": {\"outlinewidth\": 0, \"ticks\": \"\"}}, \"type\": \"scattermapbox\"}], \"scatterpolar\": [{\"marker\": {\"colorbar\": {\"outlinewidth\": 0, \"ticks\": \"\"}}, \"type\": \"scatterpolar\"}], \"scatterpolargl\": [{\"marker\": {\"colorbar\": {\"outlinewidth\": 0, \"ticks\": \"\"}}, \"type\": \"scatterpolargl\"}], \"scatterternary\": [{\"marker\": {\"colorbar\": {\"outlinewidth\": 0, \"ticks\": \"\"}}, \"type\": \"scatterternary\"}], \"surface\": [{\"colorbar\": {\"outlinewidth\": 0, \"ticks\": \"\"}, \"colorscale\": [[0.0, \"#0d0887\"], [0.1111111111111111, \"#46039f\"], [0.2222222222222222, \"#7201a8\"], [0.3333333333333333, \"#9c179e\"], [0.4444444444444444, \"#bd3786\"], [0.5555555555555556, \"#d8576b\"], [0.6666666666666666, \"#ed7953\"], [0.7777777777777778, \"#fb9f3a\"], [0.8888888888888888, \"#fdca26\"], [1.0, \"#f0f921\"]], \"type\": \"surface\"}], \"table\": [{\"cells\": {\"fill\": {\"color\": \"#EBF0F8\"}, \"line\": {\"color\": \"white\"}}, \"header\": {\"fill\": {\"color\": \"#C8D4E3\"}, \"line\": {\"color\": \"white\"}}, \"type\": \"table\"}]}, \"layout\": {\"annotationdefaults\": {\"arrowcolor\": \"#2a3f5f\", \"arrowhead\": 0, \"arrowwidth\": 1}, \"coloraxis\": {\"colorbar\": {\"outlinewidth\": 0, \"ticks\": \"\"}}, \"colorscale\": {\"diverging\": [[0, \"#8e0152\"], [0.1, \"#c51b7d\"], [0.2, \"#de77ae\"], [0.3, \"#f1b6da\"], [0.4, \"#fde0ef\"], [0.5, \"#f7f7f7\"], [0.6, \"#e6f5d0\"], [0.7, \"#b8e186\"], [0.8, \"#7fbc41\"], [0.9, \"#4d9221\"], [1, \"#276419\"]], \"sequential\": [[0.0, \"#0d0887\"], [0.1111111111111111, \"#46039f\"], [0.2222222222222222, \"#7201a8\"], [0.3333333333333333, \"#9c179e\"], [0.4444444444444444, \"#bd3786\"], [0.5555555555555556, \"#d8576b\"], [0.6666666666666666, \"#ed7953\"], [0.7777777777777778, \"#fb9f3a\"], [0.8888888888888888, \"#fdca26\"], [1.0, \"#f0f921\"]], \"sequentialminus\": [[0.0, \"#0d0887\"], [0.1111111111111111, \"#46039f\"], [0.2222222222222222, \"#7201a8\"], [0.3333333333333333, \"#9c179e\"], [0.4444444444444444, \"#bd3786\"], [0.5555555555555556, \"#d8576b\"], [0.6666666666666666, \"#ed7953\"], [0.7777777777777778, \"#fb9f3a\"], [0.8888888888888888, \"#fdca26\"], [1.0, \"#f0f921\"]]}, \"colorway\": [\"#636efa\", \"#EF553B\", \"#00cc96\", \"#ab63fa\", \"#FFA15A\", \"#19d3f3\", \"#FF6692\", \"#B6E880\", \"#FF97FF\", \"#FECB52\"], \"font\": {\"color\": \"#2a3f5f\"}, \"geo\": {\"bgcolor\": \"white\", \"lakecolor\": \"white\", \"landcolor\": \"#E5ECF6\", \"showlakes\": true, \"showland\": true, \"subunitcolor\": \"white\"}, \"hoverlabel\": {\"align\": \"left\"}, \"hovermode\": \"closest\", \"mapbox\": {\"style\": \"light\"}, \"paper_bgcolor\": \"white\", \"plot_bgcolor\": \"#E5ECF6\", \"polar\": {\"angularaxis\": {\"gridcolor\": \"white\", \"linecolor\": \"white\", \"ticks\": \"\"}, \"bgcolor\": \"#E5ECF6\", \"radialaxis\": {\"gridcolor\": \"white\", \"linecolor\": \"white\", \"ticks\": \"\"}}, \"scene\": {\"xaxis\": {\"backgroundcolor\": \"#E5ECF6\", \"gridcolor\": \"white\", \"gridwidth\": 2, \"linecolor\": \"white\", \"showbackground\": true, \"ticks\": \"\", \"zerolinecolor\": \"white\"}, \"yaxis\": {\"backgroundcolor\": \"#E5ECF6\", \"gridcolor\": \"white\", \"gridwidth\": 2, \"linecolor\": \"white\", \"showbackground\": true, \"ticks\": \"\", \"zerolinecolor\": \"white\"}, \"zaxis\": {\"backgroundcolor\": \"#E5ECF6\", \"gridcolor\": \"white\", \"gridwidth\": 2, \"linecolor\": \"white\", \"showbackground\": true, \"ticks\": \"\", \"zerolinecolor\": \"white\"}}, \"shapedefaults\": {\"line\": {\"color\": \"#2a3f5f\"}}, \"ternary\": {\"aaxis\": {\"gridcolor\": \"white\", \"linecolor\": \"white\", \"ticks\": \"\"}, \"baxis\": {\"gridcolor\": \"white\", \"linecolor\": \"white\", \"ticks\": \"\"}, \"bgcolor\": \"#E5ECF6\", \"caxis\": {\"gridcolor\": \"white\", \"linecolor\": \"white\", \"ticks\": \"\"}}, \"title\": {\"x\": 0.05}, \"xaxis\": {\"automargin\": true, \"gridcolor\": \"white\", \"linecolor\": \"white\", \"ticks\": \"\", \"title\": {\"standoff\": 15}, \"zerolinecolor\": \"white\", \"zerolinewidth\": 2}, \"yaxis\": {\"automargin\": true, \"gridcolor\": \"white\", \"linecolor\": \"white\", \"ticks\": \"\", \"title\": {\"standoff\": 15}, \"zerolinecolor\": \"white\", \"zerolinewidth\": 2}}}, \"title\": {\"text\": \"Im Bored at home\"}},\n",
              "                        {\"responsive\": true}\n",
              "                    ).then(function(){\n",
              "                            \n",
              "var gd = document.getElementById('7b21dcd7-8ca2-4dab-91f9-1bc8e2a7a098');\n",
              "var x = new MutationObserver(function (mutations, observer) {{\n",
              "        var display = window.getComputedStyle(gd).display;\n",
              "        if (!display || display === 'none') {{\n",
              "            console.log([gd, 'removed!']);\n",
              "            Plotly.purge(gd);\n",
              "            observer.disconnect();\n",
              "        }}\n",
              "}});\n",
              "\n",
              "// Listen for the removal of the full notebook cells\n",
              "var notebookContainer = gd.closest('#notebook-container');\n",
              "if (notebookContainer) {{\n",
              "    x.observe(notebookContainer, {childList: true});\n",
              "}}\n",
              "\n",
              "// Listen for the clearing of the current output cell\n",
              "var outputEl = gd.closest('.output');\n",
              "if (outputEl) {{\n",
              "    x.observe(outputEl, {childList: true});\n",
              "}}\n",
              "\n",
              "                        })\n",
              "                };\n",
              "                \n",
              "            </script>\n",
              "        </div>\n",
              "</body>\n",
              "</html>"
            ]
          },
          "metadata": {
            "tags": []
          }
        }
      ]
    },
    {
      "cell_type": "code",
      "metadata": {
        "id": "_aCiKyREUc2A",
        "colab_type": "code",
        "colab": {
          "base_uri": "https://localhost:8080/",
          "height": 542
        },
        "cellView": "form",
        "outputId": "6072359e-614a-4a5a-954c-9cc64aefca4b"
      },
      "source": [
        "#@title I am filtering out countries with less than 300 cases, cause their stats are retarded\n",
        "fig = px.choropleth(data_frame=frame[sudan_filter & filter_Date & filter_too_little_data ], locations='Country/Region', locationmode='country names',  scope=\"world\", color='Death Percentage', hover_name='Country/Region', hover_data=['Total_deaths_by_country', 'Total_Cases_by_country' ], title='Im Bored at home')\n",
        "fig.show()\n",
        "\n"
      ],
      "execution_count": 115,
      "outputs": [
        {
          "output_type": "display_data",
          "data": {
            "text/html": [
              "<html>\n",
              "<head><meta charset=\"utf-8\" /></head>\n",
              "<body>\n",
              "    <div>\n",
              "            <script src=\"https://cdnjs.cloudflare.com/ajax/libs/mathjax/2.7.5/MathJax.js?config=TeX-AMS-MML_SVG\"></script><script type=\"text/javascript\">if (window.MathJax) {MathJax.Hub.Config({SVG: {font: \"STIX-Web\"}});}</script>\n",
              "                <script type=\"text/javascript\">window.PlotlyConfig = {MathJaxConfig: 'local'};</script>\n",
              "        <script src=\"https://cdn.plot.ly/plotly-latest.min.js\"></script>    \n",
              "            <div id=\"811d6b55-5aff-4e96-8ac5-44d605e61b7a\" class=\"plotly-graph-div\" style=\"height:525px; width:100%;\"></div>\n",
              "            <script type=\"text/javascript\">\n",
              "                \n",
              "                    window.PLOTLYENV=window.PLOTLYENV || {};\n",
              "                    \n",
              "                if (document.getElementById(\"811d6b55-5aff-4e96-8ac5-44d605e61b7a\")) {\n",
              "                    Plotly.newPlot(\n",
              "                        '811d6b55-5aff-4e96-8ac5-44d605e61b7a',\n",
              "                        [{\"coloraxis\": \"coloraxis\", \"customdata\": [[6.0, 696.0], [53.0, 7478.0], [54.0, 7513.0], [291.0, 8042.0], [6.0, 382.0], [7.0, 696.0], [14.0, 2200.0], [4.0, 331.0], [75.0, 8236.0], [853.0, 14991.0], [27.0, 825.0], [0.0, 566.0], [0.0, 331.0], [6.0, 1103.0], [5.0, 1058.0], [3.0, 376.0], [3.0, 376.0], [3.0, 376.0], [3.0, 376.0], [24.0, 1414.0], [3.0, 376.0], [3.0, 376.0], [3.0, 1018.0], [0.0, 439.0], [2158.0, 27980.0], [3.0, 932.0], [56.0, 1550.0], [342.0, 9942.0], [17.0, 7272.0], [148.0, 6645.0], [4.0, 413.0], [4.0, 413.0], [3.0, 1333.0], [3160.0, 73960.0], [84.0, 4471.0], [84.0, 4471.0], [84.0, 4471.0], [84.0, 4471.0], [84.0, 4471.0], [84.0, 4471.0], [84.0, 4471.0]], \"geo\": \"geo\", \"hoverlabel\": {\"namelength\": 0}, \"hovertemplate\": \"<b>%{hovertext}</b><br><br>Total_deaths_by_country=%{customdata[0]}<br>Total_Cases_by_country=%{customdata[1]}<br>Country/Region=%{location}<br>Death Percentage=%{z}\", \"hovertext\": [\"Others\", \"South Korea\", \"Republic of Korea\", \"Iran (Islamic Republic of)\", \"UK\", \"Cruise Ship\", \"Switzerland\", \"Greece\", \"Korea, South\", \"Iran\", \"Japan\", \"Malaysia\", \"Portugal\", \"Sweden\", \"Belgium\", \"Australia\", \"Australia\", \"Australia\", \"Australia\", \"Netherlands\", \"Australia\", \"Australia\", \"Austria\", \"Qatar\", \"Italy\", \"Denmark\", \"United Kingdom\", \"Spain\", \"Germany\", \"France\", \"Canada\", \"Canada\", \"Norway\", \"China\", \"US\", \"US\", \"US\", \"US\", \"US\", \"US\", \"US\"], \"locationmode\": \"country names\", \"locations\": [\"Others\", \"South Korea\", \"Republic of Korea\", \"Iran (Islamic Republic of)\", \"UK\", \"Cruise Ship\", \"Switzerland\", \"Greece\", \"Korea, South\", \"Iran\", \"Japan\", \"Malaysia\", \"Portugal\", \"Sweden\", \"Belgium\", \"Australia\", \"Australia\", \"Australia\", \"Australia\", \"Netherlands\", \"Australia\", \"Australia\", \"Austria\", \"Qatar\", \"Italy\", \"Denmark\", \"United Kingdom\", \"Spain\", \"Germany\", \"France\", \"Canada\", \"Canada\", \"Norway\", \"China\", \"US\", \"US\", \"US\", \"US\", \"US\", \"US\", \"US\"], \"name\": \"\", \"type\": \"choropleth\", \"z\": [0.86, 0.71, 0.72, 3.62, 1.57, 1.01, 0.64, 1.21, 0.91, 5.69, 3.27, 0.0, 0.0, 0.54, 0.47, 0.8, 0.8, 0.8, 0.8, 1.7, 0.8, 0.8, 0.29, 0.0, 7.71, 0.32, 3.61, 3.44, 0.23, 2.23, 0.97, 0.97, 0.23, 4.27, 1.88, 1.88, 1.88, 1.88, 1.88, 1.88, 1.88]}],\n",
              "                        {\"coloraxis\": {\"colorbar\": {\"title\": {\"text\": \"Death Percentage\"}}, \"colorscale\": [[0.0, \"#0d0887\"], [0.1111111111111111, \"#46039f\"], [0.2222222222222222, \"#7201a8\"], [0.3333333333333333, \"#9c179e\"], [0.4444444444444444, \"#bd3786\"], [0.5555555555555556, \"#d8576b\"], [0.6666666666666666, \"#ed7953\"], [0.7777777777777778, \"#fb9f3a\"], [0.8888888888888888, \"#fdca26\"], [1.0, \"#f0f921\"]]}, \"geo\": {\"center\": {}, \"domain\": {\"x\": [0.0, 1.0], \"y\": [0.0, 1.0]}, \"scope\": \"world\"}, \"legend\": {\"tracegroupgap\": 0}, \"template\": {\"data\": {\"bar\": [{\"error_x\": {\"color\": \"#2a3f5f\"}, \"error_y\": {\"color\": \"#2a3f5f\"}, \"marker\": {\"line\": {\"color\": \"#E5ECF6\", \"width\": 0.5}}, \"type\": \"bar\"}], \"barpolar\": [{\"marker\": {\"line\": {\"color\": \"#E5ECF6\", \"width\": 0.5}}, \"type\": \"barpolar\"}], \"carpet\": [{\"aaxis\": {\"endlinecolor\": \"#2a3f5f\", \"gridcolor\": \"white\", \"linecolor\": \"white\", \"minorgridcolor\": \"white\", \"startlinecolor\": \"#2a3f5f\"}, \"baxis\": {\"endlinecolor\": \"#2a3f5f\", \"gridcolor\": \"white\", \"linecolor\": \"white\", \"minorgridcolor\": \"white\", \"startlinecolor\": \"#2a3f5f\"}, \"type\": \"carpet\"}], \"choropleth\": [{\"colorbar\": {\"outlinewidth\": 0, \"ticks\": \"\"}, \"type\": \"choropleth\"}], \"contour\": [{\"colorbar\": {\"outlinewidth\": 0, \"ticks\": \"\"}, \"colorscale\": [[0.0, \"#0d0887\"], [0.1111111111111111, \"#46039f\"], [0.2222222222222222, \"#7201a8\"], [0.3333333333333333, \"#9c179e\"], [0.4444444444444444, \"#bd3786\"], [0.5555555555555556, \"#d8576b\"], [0.6666666666666666, \"#ed7953\"], [0.7777777777777778, \"#fb9f3a\"], [0.8888888888888888, \"#fdca26\"], [1.0, \"#f0f921\"]], \"type\": \"contour\"}], \"contourcarpet\": [{\"colorbar\": {\"outlinewidth\": 0, \"ticks\": \"\"}, \"type\": \"contourcarpet\"}], \"heatmap\": [{\"colorbar\": {\"outlinewidth\": 0, \"ticks\": \"\"}, \"colorscale\": [[0.0, \"#0d0887\"], [0.1111111111111111, \"#46039f\"], [0.2222222222222222, \"#7201a8\"], [0.3333333333333333, \"#9c179e\"], [0.4444444444444444, \"#bd3786\"], [0.5555555555555556, \"#d8576b\"], [0.6666666666666666, \"#ed7953\"], [0.7777777777777778, \"#fb9f3a\"], [0.8888888888888888, \"#fdca26\"], [1.0, \"#f0f921\"]], \"type\": \"heatmap\"}], \"heatmapgl\": [{\"colorbar\": {\"outlinewidth\": 0, \"ticks\": \"\"}, \"colorscale\": [[0.0, \"#0d0887\"], [0.1111111111111111, \"#46039f\"], [0.2222222222222222, \"#7201a8\"], [0.3333333333333333, \"#9c179e\"], [0.4444444444444444, \"#bd3786\"], [0.5555555555555556, \"#d8576b\"], [0.6666666666666666, \"#ed7953\"], [0.7777777777777778, \"#fb9f3a\"], [0.8888888888888888, \"#fdca26\"], [1.0, \"#f0f921\"]], \"type\": \"heatmapgl\"}], \"histogram\": [{\"marker\": {\"colorbar\": {\"outlinewidth\": 0, \"ticks\": \"\"}}, \"type\": \"histogram\"}], \"histogram2d\": [{\"colorbar\": {\"outlinewidth\": 0, \"ticks\": \"\"}, \"colorscale\": [[0.0, \"#0d0887\"], [0.1111111111111111, \"#46039f\"], [0.2222222222222222, \"#7201a8\"], [0.3333333333333333, \"#9c179e\"], [0.4444444444444444, \"#bd3786\"], [0.5555555555555556, \"#d8576b\"], [0.6666666666666666, \"#ed7953\"], [0.7777777777777778, \"#fb9f3a\"], [0.8888888888888888, \"#fdca26\"], [1.0, \"#f0f921\"]], \"type\": \"histogram2d\"}], \"histogram2dcontour\": [{\"colorbar\": {\"outlinewidth\": 0, \"ticks\": \"\"}, \"colorscale\": [[0.0, \"#0d0887\"], [0.1111111111111111, \"#46039f\"], [0.2222222222222222, \"#7201a8\"], [0.3333333333333333, \"#9c179e\"], [0.4444444444444444, \"#bd3786\"], [0.5555555555555556, \"#d8576b\"], [0.6666666666666666, \"#ed7953\"], [0.7777777777777778, \"#fb9f3a\"], [0.8888888888888888, \"#fdca26\"], [1.0, \"#f0f921\"]], \"type\": \"histogram2dcontour\"}], \"mesh3d\": [{\"colorbar\": {\"outlinewidth\": 0, \"ticks\": \"\"}, \"type\": \"mesh3d\"}], \"parcoords\": [{\"line\": {\"colorbar\": {\"outlinewidth\": 0, \"ticks\": \"\"}}, \"type\": \"parcoords\"}], \"pie\": [{\"automargin\": true, \"type\": \"pie\"}], \"scatter\": [{\"marker\": {\"colorbar\": {\"outlinewidth\": 0, \"ticks\": \"\"}}, \"type\": \"scatter\"}], \"scatter3d\": [{\"line\": {\"colorbar\": {\"outlinewidth\": 0, \"ticks\": \"\"}}, \"marker\": {\"colorbar\": {\"outlinewidth\": 0, \"ticks\": \"\"}}, \"type\": \"scatter3d\"}], \"scattercarpet\": [{\"marker\": {\"colorbar\": {\"outlinewidth\": 0, \"ticks\": \"\"}}, \"type\": \"scattercarpet\"}], \"scattergeo\": [{\"marker\": {\"colorbar\": {\"outlinewidth\": 0, \"ticks\": \"\"}}, \"type\": \"scattergeo\"}], \"scattergl\": [{\"marker\": {\"colorbar\": {\"outlinewidth\": 0, \"ticks\": \"\"}}, \"type\": \"scattergl\"}], \"scattermapbox\": [{\"marker\": {\"colorbar\": {\"outlinewidth\": 0, \"ticks\": \"\"}}, \"type\": \"scattermapbox\"}], \"scatterpolar\": [{\"marker\": {\"colorbar\": {\"outlinewidth\": 0, \"ticks\": \"\"}}, \"type\": \"scatterpolar\"}], \"scatterpolargl\": [{\"marker\": {\"colorbar\": {\"outlinewidth\": 0, \"ticks\": \"\"}}, \"type\": \"scatterpolargl\"}], \"scatterternary\": [{\"marker\": {\"colorbar\": {\"outlinewidth\": 0, \"ticks\": \"\"}}, \"type\": \"scatterternary\"}], \"surface\": [{\"colorbar\": {\"outlinewidth\": 0, \"ticks\": \"\"}, \"colorscale\": [[0.0, \"#0d0887\"], [0.1111111111111111, \"#46039f\"], [0.2222222222222222, \"#7201a8\"], [0.3333333333333333, \"#9c179e\"], [0.4444444444444444, \"#bd3786\"], [0.5555555555555556, \"#d8576b\"], [0.6666666666666666, \"#ed7953\"], [0.7777777777777778, \"#fb9f3a\"], [0.8888888888888888, \"#fdca26\"], [1.0, \"#f0f921\"]], \"type\": \"surface\"}], \"table\": [{\"cells\": {\"fill\": {\"color\": \"#EBF0F8\"}, \"line\": {\"color\": \"white\"}}, \"header\": {\"fill\": {\"color\": \"#C8D4E3\"}, \"line\": {\"color\": \"white\"}}, \"type\": \"table\"}]}, \"layout\": {\"annotationdefaults\": {\"arrowcolor\": \"#2a3f5f\", \"arrowhead\": 0, \"arrowwidth\": 1}, \"coloraxis\": {\"colorbar\": {\"outlinewidth\": 0, \"ticks\": \"\"}}, \"colorscale\": {\"diverging\": [[0, \"#8e0152\"], [0.1, \"#c51b7d\"], [0.2, \"#de77ae\"], [0.3, \"#f1b6da\"], [0.4, \"#fde0ef\"], [0.5, \"#f7f7f7\"], [0.6, \"#e6f5d0\"], [0.7, \"#b8e186\"], [0.8, \"#7fbc41\"], [0.9, \"#4d9221\"], [1, \"#276419\"]], \"sequential\": [[0.0, \"#0d0887\"], [0.1111111111111111, \"#46039f\"], [0.2222222222222222, \"#7201a8\"], [0.3333333333333333, \"#9c179e\"], [0.4444444444444444, \"#bd3786\"], [0.5555555555555556, \"#d8576b\"], [0.6666666666666666, \"#ed7953\"], [0.7777777777777778, \"#fb9f3a\"], [0.8888888888888888, \"#fdca26\"], [1.0, \"#f0f921\"]], \"sequentialminus\": [[0.0, \"#0d0887\"], [0.1111111111111111, \"#46039f\"], [0.2222222222222222, \"#7201a8\"], [0.3333333333333333, \"#9c179e\"], [0.4444444444444444, \"#bd3786\"], [0.5555555555555556, \"#d8576b\"], [0.6666666666666666, \"#ed7953\"], [0.7777777777777778, \"#fb9f3a\"], [0.8888888888888888, \"#fdca26\"], [1.0, \"#f0f921\"]]}, \"colorway\": [\"#636efa\", \"#EF553B\", \"#00cc96\", \"#ab63fa\", \"#FFA15A\", \"#19d3f3\", \"#FF6692\", \"#B6E880\", \"#FF97FF\", \"#FECB52\"], \"font\": {\"color\": \"#2a3f5f\"}, \"geo\": {\"bgcolor\": \"white\", \"lakecolor\": \"white\", \"landcolor\": \"#E5ECF6\", \"showlakes\": true, \"showland\": true, \"subunitcolor\": \"white\"}, \"hoverlabel\": {\"align\": \"left\"}, \"hovermode\": \"closest\", \"mapbox\": {\"style\": \"light\"}, \"paper_bgcolor\": \"white\", \"plot_bgcolor\": \"#E5ECF6\", \"polar\": {\"angularaxis\": {\"gridcolor\": \"white\", \"linecolor\": \"white\", \"ticks\": \"\"}, \"bgcolor\": \"#E5ECF6\", \"radialaxis\": {\"gridcolor\": \"white\", \"linecolor\": \"white\", \"ticks\": \"\"}}, \"scene\": {\"xaxis\": {\"backgroundcolor\": \"#E5ECF6\", \"gridcolor\": \"white\", \"gridwidth\": 2, \"linecolor\": \"white\", \"showbackground\": true, \"ticks\": \"\", \"zerolinecolor\": \"white\"}, \"yaxis\": {\"backgroundcolor\": \"#E5ECF6\", \"gridcolor\": \"white\", \"gridwidth\": 2, \"linecolor\": \"white\", \"showbackground\": true, \"ticks\": \"\", \"zerolinecolor\": \"white\"}, \"zaxis\": {\"backgroundcolor\": \"#E5ECF6\", \"gridcolor\": \"white\", \"gridwidth\": 2, \"linecolor\": \"white\", \"showbackground\": true, \"ticks\": \"\", \"zerolinecolor\": \"white\"}}, \"shapedefaults\": {\"line\": {\"color\": \"#2a3f5f\"}}, \"ternary\": {\"aaxis\": {\"gridcolor\": \"white\", \"linecolor\": \"white\", \"ticks\": \"\"}, \"baxis\": {\"gridcolor\": \"white\", \"linecolor\": \"white\", \"ticks\": \"\"}, \"bgcolor\": \"#E5ECF6\", \"caxis\": {\"gridcolor\": \"white\", \"linecolor\": \"white\", \"ticks\": \"\"}}, \"title\": {\"x\": 0.05}, \"xaxis\": {\"automargin\": true, \"gridcolor\": \"white\", \"linecolor\": \"white\", \"ticks\": \"\", \"title\": {\"standoff\": 15}, \"zerolinecolor\": \"white\", \"zerolinewidth\": 2}, \"yaxis\": {\"automargin\": true, \"gridcolor\": \"white\", \"linecolor\": \"white\", \"ticks\": \"\", \"title\": {\"standoff\": 15}, \"zerolinecolor\": \"white\", \"zerolinewidth\": 2}}}, \"title\": {\"text\": \"Im Bored at home\"}},\n",
              "                        {\"responsive\": true}\n",
              "                    ).then(function(){\n",
              "                            \n",
              "var gd = document.getElementById('811d6b55-5aff-4e96-8ac5-44d605e61b7a');\n",
              "var x = new MutationObserver(function (mutations, observer) {{\n",
              "        var display = window.getComputedStyle(gd).display;\n",
              "        if (!display || display === 'none') {{\n",
              "            console.log([gd, 'removed!']);\n",
              "            Plotly.purge(gd);\n",
              "            observer.disconnect();\n",
              "        }}\n",
              "}});\n",
              "\n",
              "// Listen for the removal of the full notebook cells\n",
              "var notebookContainer = gd.closest('#notebook-container');\n",
              "if (notebookContainer) {{\n",
              "    x.observe(notebookContainer, {childList: true});\n",
              "}}\n",
              "\n",
              "// Listen for the clearing of the current output cell\n",
              "var outputEl = gd.closest('.output');\n",
              "if (outputEl) {{\n",
              "    x.observe(outputEl, {childList: true});\n",
              "}}\n",
              "\n",
              "                        })\n",
              "                };\n",
              "                \n",
              "            </script>\n",
              "        </div>\n",
              "</body>\n",
              "</html>"
            ]
          },
          "metadata": {
            "tags": []
          }
        }
      ]
    }
  ]
}