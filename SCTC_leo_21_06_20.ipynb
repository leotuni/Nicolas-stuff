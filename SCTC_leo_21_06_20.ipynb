{
  "nbformat": 4,
  "nbformat_minor": 0,
  "metadata": {
    "colab": {
      "name": "SCTC_leo_21_06_20.ipynb",
      "provenance": [],
      "authorship_tag": "ABX9TyOWVq3I7viQZB68dU/6ZSe4",
      "include_colab_link": true
    },
    "kernelspec": {
      "name": "python3",
      "display_name": "Python 3"
    }
  },
  "cells": [
    {
      "cell_type": "markdown",
      "metadata": {
        "id": "view-in-github",
        "colab_type": "text"
      },
      "source": [
        "<a href=\"https://colab.research.google.com/github/leotuni/Nicolas-stuff/blob/master/SCTC_leo_21_06_20.ipynb\" target=\"_parent\"><img src=\"https://colab.research.google.com/assets/colab-badge.svg\" alt=\"Open In Colab\"/></a>"
      ]
    },
    {
      "cell_type": "markdown",
      "metadata": {
        "id": "uVue7cBfyz2j",
        "colab_type": "text"
      },
      "source": [
        "#Error that needs solving : Data integrity\n",
        "\n",
        "When importing with Yfinance or WebDatareader, we are getting slightly different datasets. (you need to reset runtime after running yfinance as the pdr ovveride fucks with stuff) "
      ]
    },
    {
      "cell_type": "code",
      "metadata": {
        "id": "1z5zub_Bt2ha",
        "colab_type": "code",
        "colab": {},
        "cellView": "form"
      },
      "source": [
        "#@title for webDatreader\n",
        "import pandas_datareader.data as web\n",
        "import datetime as dt\n",
        "start = dt.datetime.strptime('2018-3-22', '%Y-%m-%d')\n",
        "stop = dt.datetime.strptime('2018-3-30', '%Y-%m-%d')\n",
        "webdatadf= web.DataReader(\"BTC-EUR\", \"yahoo\", start, stop) \n",
        "print (webdatadf)\n",
        "\n"
      ],
      "execution_count": null,
      "outputs": []
    },
    {
      "cell_type": "code",
      "metadata": {
        "id": "4QvzLZJ9u5Xx",
        "colab_type": "code",
        "colab": {},
        "cellView": "form"
      },
      "source": [
        "#@title for yahoo finance\n",
        "!pip install -q yfinance\n",
        "import yfinance as fyf \n",
        "from pandas_datareader import data as pdr \n",
        "\n",
        "fyf.pdr_override()\n",
        "print (pdr.get_data_yahoo(\"BTC-EUR\", start, stop))\n",
        "\n",
        "\n"
      ],
      "execution_count": null,
      "outputs": []
    },
    {
      "cell_type": "markdown",
      "metadata": {
        "id": "bADiCNyu4n1A",
        "colab_type": "text"
      },
      "source": [
        "#Error that needs solving: Integer underflow\n",
        "#update: solved with new code (shift()) not sure if shift will create problems with the Nan now present at the end of the list.\n",
        "\n",
        "```python\n",
        "for i in range(len(data)):\n",
        "        #if they intersect:\n",
        "        if data.iloc[i, 1] > data.iloc[i, 2] and data.iloc[i-1, 1] < data.iloc[i-1,2]: \n",
        "            #Buy\n",
        "            buy_price = data.iloc[i, 0]\n",
        "            \n",
        "            \n",
        "        elif data.iloc[i, 1] < data.iloc[i, 2] and data.iloc[i-1, 1] > data.iloc[i-1,2]:\n",
        "\n",
        "```\n",
        "\n",
        "\n",
        "\n",
        "**data.iloc[i-1, 1]** results in -1 at position 0, meaning we are using the difference with the last element in the list. "
      ]
    },
    {
      "cell_type": "markdown",
      "metadata": {
        "id": "aCPrFtjCzM-v",
        "colab_type": "text"
      },
      "source": [
        "#Begin \n"
      ]
    },
    {
      "cell_type": "code",
      "metadata": {
        "id": "zMphvc70KMYQ",
        "colab_type": "code",
        "colab": {
          "base_uri": "https://localhost:8080/",
          "height": 71
        },
        "cellView": "form",
        "outputId": "8bde066c-6523-4aa3-94d9-973dd8672096"
      },
      "source": [
        "#@title imports \n",
        "\n",
        "import datetime as dt\n",
        "import matplotlib.pyplot as plt\n",
        "from matplotlib import style\n",
        "import pandas as pd\n",
        "import pandas_datareader.data as web\n",
        "from scipy.stats import norm\n",
        "import numpy as np \n",
        "import plotly.express as px\n",
        "\n",
        "\n",
        "from itertools import product #ill move this to the top after\n",
        "\n"
      ],
      "execution_count": 1,
      "outputs": [
        {
          "output_type": "stream",
          "text": [
            "/usr/local/lib/python3.6/dist-packages/pandas_datareader/compat/__init__.py:7: FutureWarning: pandas.util.testing is deprecated. Use the functions in the public API at pandas.testing instead.\n",
            "  from pandas.util.testing import assert_frame_equal\n"
          ],
          "name": "stderr"
        }
      ]
    },
    {
      "cell_type": "markdown",
      "metadata": {
        "id": "yccQ6x1GKwRo",
        "colab_type": "text"
      },
      "source": [
        "## To read nicolas (after we cancel this section it) : \n",
        "\n",
        "The section \"datframe setup\", is a rewritten version of the section below of your code. I have saved the datfraems in a dictioanry, but we can use a list if you prefer. I dont think there is any need to save data, or download it, as it loads pretty fast. \n",
        "\n",
        "```python\n",
        "# Soemer Torchia Crypto Trading (STCT)\n",
        "# Create a object to be able to easily download the latest data\n",
        "class Crypto_Asset:\n",
        "\n",
        "    # Initializer / Instance Attributes\n",
        "    def __init__(self, name):\n",
        "        self.name = name\n",
        "        \n",
        "    # obtain Data\n",
        "    def get_data(self):\n",
        "        path = \"/content/sample_data\"\n",
        "        file_path = path + \"/cryptoDF-\" + self.name + \".p\"\n",
        "        fyf.pdr_override()\n",
        "        t_0 = datetime.date.today()\n",
        "        #y_10 = t_0 - datetime.timedelta(days = 3652) # starting  10 years ago # see comment below\n",
        "        y_10 = datetime.date(2018,2,1) # starting after the peak in Jan 2018\n",
        "        # Check if pickle of past data already exists, in case it does only download missing data\n",
        "        if os.path.isfile(file_path) == True: \n",
        "            cryptoDF = pickle.load( open( file_path, \"rb\" ) )\n",
        "            #check if data is still up to date\n",
        "            if cryptoDF.last_valid_index() != t_0:\n",
        "                # if not, start downloading one day after the latest day in the cryptoDF, avoid doubling\n",
        "                new_start_t = cryptoDF.last_valid_index() + datetime.timedelta(days = 1) \n",
        "                cryptoDF1 = pdr.get_data_yahoo( self.name, start= new_start_t) \n",
        "                cryptoDF.append(cryptoDF1) # append to bottom\n",
        "        else:\n",
        "            cryptoDF = pdr.get_data_yahoo( self.name, start= y_10)\n",
        "            #cryptoDF['Returns'] = np.log(cryptoDF['Close'] / cryptoDF['Close'].shift(1)) # we might need this line for a different strategy\n",
        "            #cryptoDF.dropna(inplace = True)\n",
        "            pickle.dump( cryptoDF, open( file_path, \"wb\" ) )\n",
        "\n",
        "        return cryptoDF  \n",
        "\n",
        "symbols = ['BTC-EUR','ETH-EUR', 'LTC-EUR' , 'XRP-EUR', 'BCH-EUR','MIOTA-EUR' ]\n",
        "btc = Crypto_Asset(symbols[0])\n",
        "etc = Crypto_Asset(symbols[1])\n",
        "ltc = Crypto_Asset(symbols[2])\n",
        "xpr = Crypto_Asset(symbols[3])\n",
        "bch = Crypto_Asset(symbols[4])\n",
        "```"
      ]
    },
    {
      "cell_type": "markdown",
      "metadata": {
        "id": "8W5YN0SDNKBh",
        "colab_type": "text"
      },
      "source": [
        "#Nicola's notes\n",
        "##How far back should the data go? \n",
        "\n",
        "On the one hand you could argue the more the better,\n",
        "on the other one might say that after the peak in the beginning of 2018 market behaviour has changed. \n",
        "Then some might say since the recent crash things are different ( i don t know if it is worth checking moments of the return time series, or average volumnes etc..."
      ]
    },
    {
      "cell_type": "code",
      "metadata": {
        "id": "LJqsV8CSKY4F",
        "colab_type": "code",
        "colab": {},
        "cellView": "form"
      },
      "source": [
        "#@title Dataframe setup  { form-width: \"30px\" }\n",
        "#the date in a nice date format\n",
        "start_date_data = '2018-03-22' #@param {type:\"date\"} \n",
        "start = dt.datetime.strptime(start_date_data, '%Y-%m-%d') \n",
        "stop = dt.datetime.now()\n",
        "\n",
        "#the symbols you gave me \n",
        "symbols = ['BTC-EUR','ETH-EUR', 'LTC-EUR' , 'XRP-EUR', 'BCH-EUR','MIOTA-EUR' ]\n",
        "style.use('ggplot') #this is a cool style\n",
        "\n",
        "#create a dictionary with all the stocks Q: do you prefer to work with lists of dictionaries ? \n",
        "dict_of_stock = { s: web.DataReader(s, \"yahoo\", start, stop) for s in (symbols) }\n",
        "#or in list format:\n",
        "# list_of_stock = [ web.DataReader(s, \"yahoo\", start, stop) for s in (symbols) ]\n",
        "\n",
        "\n",
        "# Q: there are no missing values, so what is the drop nan for ? - ok i think you are dopping because of the SMA right ? \n",
        "# [df.isnull().sum() for df in dict_of_stock.values()] #evaluates no null values"
      ],
      "execution_count": 4,
      "outputs": []
    },
    {
      "cell_type": "markdown",
      "metadata": {
        "id": "sUd3FzLYYN73",
        "colab_type": "text"
      },
      "source": [
        "# Simple Moving Average (SMA)  \n",
        "\n",
        "\n",
        "\n",
        "1.   Calculates the values for the shorter SMA\n",
        "2.   Calculates the values for the longer SMA.\n",
        "3.   The calculation of the SMA values for two different rolling window sizes\n",
        "4.   The derivation of the positions\n",
        "\n",
        "The trading rules are:\n",
        "\n",
        "*   Go long (= +1) when the shorter SMA is above the longer SMA.\n",
        "*   Go short (= -1) when the shorter SMA is below the longer SMA.Optimization\n",
        "\n",
        "\n",
        "A natural question that arises is if the chosen parameters SMA1=42 and SMA2=252 are the “right” ones. In general, investors prefer higher returns to lower returns ceteris paribus. Therefore, one might be inclined to search for those parameters that maximize the return over the relevant period. To this end, a brute force approach can be used that simply repeats the whole vectorized backtesting procedure for different parameter combinations, records the results, and does a ranking afterward. This is what the following code does:\n",
        "\n",
        "1.   Specifies the parameter values for SMA1.\n",
        "2.   Specifies the parameter values for SMA2.\n",
        "3.   Combines all values for SMA1 with those for SMA2.\n",
        "4.   Records the vectorized backtesting results in a DataFrame object.\n",
        "\n",
        "The following code gives an overview of the results and shows the seven best-performing parameter combinations of all those backtested. The ranking is implemented according to the outperformance of the algorithmic trading strategy compared to the benchmark investment. The performance of the benchmark investment varies since the choice of the SMA2 parameter influences the length of the time interval and data set on which the vectorized backtest is implemented:\n",
        "\n",
        "According to the brute force–based optimization, SMA1=40 and SMA2=190 are the optimal parameters, leading to an outperformance of some 230 percentage points. However, this result is heavily dependent on the data set used and is prone to overfitting.\n",
        "\n",
        "A more rigorous approach would be to implement the optimization on one data set, the in-sample or training data set, and test it on another one, the out-of-sample or testing data set.\n",
        "\n",
        "I would follow his advice but use the intersection of the SMAs for buying and selling"
      ]
    },
    {
      "cell_type": "markdown",
      "metadata": {
        "id": "gm1D_OY_1vAY",
        "colab_type": "text"
      },
      "source": [
        "#For NIcolas, leo's notes Buy high Sell Low\n",
        "\n",
        "I have rewritten the sectioin buy high sell low. Let me know if it makes sense. \n",
        "\n",
        "I have added a min_period to the rolling mean: it allows to not throw away data and have messy datasets, but since the period is smaller we have some overlap betwene datasets. We could also backfill. \n",
        "\n",
        "\n",
        "I have separated the conditions into a list. I then create a column['price']: \n",
        "*   it is positive when we are buying, \n",
        "*   0 when we do nothing, \n",
        "*   and negative when we are selling.\n",
        "\n",
        "This stores all the data (i think? **can you confirm**). \n",
        "\n",
        "This linke of code: \n",
        "*   data['price'][:data.index.get_loc(data['price'].gt(0).idxmax())]\n",
        "\n",
        "Makes sure that in case the first value is negative, it is replaced with a 0 "
      ]
    },
    {
      "cell_type": "code",
      "metadata": {
        "id": "WgzWH-hTQgRg",
        "colab_type": "code",
        "colab": {
          "base_uri": "https://localhost:8080/",
          "height": 235
        },
        "cellView": "both",
        "outputId": "cc9418c4-9713-4a56-b880-67659b23a8b9"
      },
      "source": [
        "#@title  Buy Low and Sell High { form-width: \"30px\" }\n",
        "\n",
        "sma1 = range(2, 60)  # maybe in steps of two days also fine\n",
        "sma2 = range(60,180)\n",
        "\n",
        "data=dict_of_stock['BTC-EUR']\n",
        "\n",
        "for SMA1, SMA2 in product(sma1, sma2):\n",
        "  #do the SMA \n",
        "  data['SMA1'] = data['Close'].rolling(SMA1,min_periods=1).mean() #made it with min periods cause it maintans the data better\n",
        "  data['SMA2'] = data['Close'].rolling(SMA2,min_periods=1).mean()\n",
        "  #these are the conditioins for to buy/sell\n",
        "  conditions = [\n",
        "  ((data['SMA1'] > data['SMA2']) & (data[\"SMA1\"].shift(-1) < data[\"SMA2\"].shift(-1))),\n",
        "  ((data['SMA1'] < data['SMA2']) & (data[\"SMA1\"].shift(-1) > data[\"SMA2\"].shift(-1))),\n",
        "  ]\n",
        "  #The choices of what  you get back \n",
        "  choices = [data['Close'], -data['Close']]\n",
        "  data['price'] = np.select(conditions, choices, default=0) #default value we do nothing\n",
        "  \n",
        "  #make sure that the first value is + (buy) (doesn't work yet cause of the multiple dates issues, but else this is the code: can just solve it by dropping non unique values, but not sure if they are important.)\n",
        "  # data['price'][:data.index.get_loc(data['price'].gt(0).idxmax())] #gt means greater than \n",
        "\n",
        "\n",
        "\n",
        "\n",
        "data.head()\n"
      ],
      "execution_count": 13,
      "outputs": [
        {
          "output_type": "execute_result",
          "data": {
            "text/html": [
              "<div>\n",
              "<style scoped>\n",
              "    .dataframe tbody tr th:only-of-type {\n",
              "        vertical-align: middle;\n",
              "    }\n",
              "\n",
              "    .dataframe tbody tr th {\n",
              "        vertical-align: top;\n",
              "    }\n",
              "\n",
              "    .dataframe thead th {\n",
              "        text-align: right;\n",
              "    }\n",
              "</style>\n",
              "<table border=\"1\" class=\"dataframe\">\n",
              "  <thead>\n",
              "    <tr style=\"text-align: right;\">\n",
              "      <th></th>\n",
              "      <th>High</th>\n",
              "      <th>Low</th>\n",
              "      <th>Open</th>\n",
              "      <th>Close</th>\n",
              "      <th>Volume</th>\n",
              "      <th>Adj Close</th>\n",
              "      <th>SMA1</th>\n",
              "      <th>SMA2</th>\n",
              "      <th>price</th>\n",
              "    </tr>\n",
              "    <tr>\n",
              "      <th>Date</th>\n",
              "      <th></th>\n",
              "      <th></th>\n",
              "      <th></th>\n",
              "      <th></th>\n",
              "      <th></th>\n",
              "      <th></th>\n",
              "      <th></th>\n",
              "      <th></th>\n",
              "      <th></th>\n",
              "    </tr>\n",
              "  </thead>\n",
              "  <tbody>\n",
              "    <tr>\n",
              "      <th>2019-01-11</th>\n",
              "      <td>3239.570801</td>\n",
              "      <td>3169.443604</td>\n",
              "      <td>3192.723145</td>\n",
              "      <td>3215.769775</td>\n",
              "      <td>4.830339e+09</td>\n",
              "      <td>3215.769775</td>\n",
              "      <td>3215.769775</td>\n",
              "      <td>3215.769775</td>\n",
              "      <td>0.0</td>\n",
              "    </tr>\n",
              "    <tr>\n",
              "      <th>2019-01-12</th>\n",
              "      <td>3225.897461</td>\n",
              "      <td>3186.506836</td>\n",
              "      <td>3215.427734</td>\n",
              "      <td>3192.196777</td>\n",
              "      <td>4.165968e+09</td>\n",
              "      <td>3192.196777</td>\n",
              "      <td>3203.983276</td>\n",
              "      <td>3203.983276</td>\n",
              "      <td>0.0</td>\n",
              "    </tr>\n",
              "    <tr>\n",
              "      <th>2019-01-13</th>\n",
              "      <td>3203.931396</td>\n",
              "      <td>3093.601318</td>\n",
              "      <td>3190.075684</td>\n",
              "      <td>3100.221680</td>\n",
              "      <td>4.084792e+09</td>\n",
              "      <td>3100.221680</td>\n",
              "      <td>3169.396077</td>\n",
              "      <td>3169.396077</td>\n",
              "      <td>0.0</td>\n",
              "    </tr>\n",
              "    <tr>\n",
              "      <th>2019-01-14</th>\n",
              "      <td>3249.573486</td>\n",
              "      <td>3098.569580</td>\n",
              "      <td>3104.109619</td>\n",
              "      <td>3230.380371</td>\n",
              "      <td>4.926029e+09</td>\n",
              "      <td>3230.380371</td>\n",
              "      <td>3184.642151</td>\n",
              "      <td>3184.642151</td>\n",
              "      <td>0.0</td>\n",
              "    </tr>\n",
              "    <tr>\n",
              "      <th>2019-01-15</th>\n",
              "      <td>3241.083252</td>\n",
              "      <td>3171.643799</td>\n",
              "      <td>3228.391113</td>\n",
              "      <td>3180.917969</td>\n",
              "      <td>4.851262e+09</td>\n",
              "      <td>3180.917969</td>\n",
              "      <td>3183.897314</td>\n",
              "      <td>3183.897314</td>\n",
              "      <td>0.0</td>\n",
              "    </tr>\n",
              "  </tbody>\n",
              "</table>\n",
              "</div>"
            ],
            "text/plain": [
              "                   High          Low  ...         SMA2  price\n",
              "Date                                  ...                    \n",
              "2019-01-11  3239.570801  3169.443604  ...  3215.769775    0.0\n",
              "2019-01-12  3225.897461  3186.506836  ...  3203.983276    0.0\n",
              "2019-01-13  3203.931396  3093.601318  ...  3169.396077    0.0\n",
              "2019-01-14  3249.573486  3098.569580  ...  3184.642151    0.0\n",
              "2019-01-15  3241.083252  3171.643799  ...  3183.897314    0.0\n",
              "\n",
              "[5 rows x 9 columns]"
            ]
          },
          "metadata": {
            "tags": []
          },
          "execution_count": 13
        }
      ]
    },
    {
      "cell_type": "markdown",
      "metadata": {
        "id": "m40W6PG11FE2",
        "colab_type": "text"
      },
      "source": [
        "# Continuation\n",
        "\n",
        "At this point need to evaluate EARNINGS, Return: \n",
        "Earning = sum of all values\n",
        "Returns  = Earning / sum positive values Prices "
      ]
    }
  ]
}