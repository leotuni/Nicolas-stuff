{
  "nbformat": 4,
  "nbformat_minor": 0,
  "metadata": {
    "colab": {
      "name": "Pulse_notebook.ipynb",
      "provenance": [],
      "authorship_tag": "ABX9TyOPT981c6D1/fJzlyYdlCyf",
      "include_colab_link": true
    },
    "kernelspec": {
      "name": "python3",
      "display_name": "Python 3"
    }
  },
  "cells": [
    {
      "cell_type": "markdown",
      "metadata": {
        "id": "view-in-github",
        "colab_type": "text"
      },
      "source": [
        "<a href=\"https://colab.research.google.com/github/leotuni/Nicolas-stuff/blob/master/Pulse_notebook.ipynb\" target=\"_parent\"><img src=\"https://colab.research.google.com/assets/colab-badge.svg\" alt=\"Open In Colab\"/></a>"
      ]
    },
    {
      "cell_type": "markdown",
      "metadata": {
        "id": "VqgW2WLAKmvK",
        "colab_type": "text"
      },
      "source": [
        "# PULSE measurment Notebook "
      ]
    },
    {
      "cell_type": "markdown",
      "metadata": {
        "id": "bGThs2yeXAV7",
        "colab_type": "text"
      },
      "source": [
        "The Paper from Ilaria: [Passive radiofrequency x-ray dosimeter tag based on flexible radiation-sensitive oxide field-effect transistor](https://advances.sciencemag.org/content/4/6/eaat1825#aff-1)\n",
        "\n",
        "Supporting material of the Paper: \n",
        "[Link](https://advances.sciencemag.org/content/advances/suppl/2018/06/25/4.6.eaat1825.DC1/aat1825_SM.pdf) "
      ]
    },
    {
      "cell_type": "markdown",
      "metadata": {
        "id": "AFlqHTb1dlrI",
        "colab_type": "text"
      },
      "source": [
        "# CODE "
      ]
    },
    {
      "cell_type": "markdown",
      "metadata": {
        "id": "ILYtKXVlb744",
        "colab_type": "text"
      },
      "source": [
        "## CODE: imports and functions for value extraction"
      ]
    },
    {
      "cell_type": "markdown",
      "metadata": {
        "id": "OMt5sWuRWwUe",
        "colab_type": "text"
      },
      "source": [
        "I have organized the notebook with all imports/class/fucntions at the top. In the main the funcitons are just callled. "
      ]
    },
    {
      "cell_type": "code",
      "metadata": {
        "id": "TCyfxKf99MX1",
        "colab_type": "code",
        "cellView": "form",
        "colab": {}
      },
      "source": [
        "#@title Library imports and Mount Drive \n",
        "\n",
        "import pandas as pd \n",
        "import os #to change directory\n",
        "import glob #for file list \n",
        "import re\n",
        "import numpy as np\n",
        "from scipy.stats import linregress\n",
        "\n",
        "#plotting\n",
        "import plotly.express as px\n",
        "from plotly.subplots import make_subplots\n",
        "import plotly.graph_objects as go\n",
        "import matplotlib.pyplot as plt\n",
        "\n",
        "\n",
        "\n",
        "from google.colab import drive\n",
        "drive.mount('/content/drive')"
      ],
      "execution_count": null,
      "outputs": []
    },
    {
      "cell_type": "code",
      "metadata": {
        "id": "lGB9R7AtHqFA",
        "colab_type": "code",
        "cellView": "form",
        "colab": {}
      },
      "source": [
        "#@title Class: clean { form-width: \"20px\" }\n",
        "\n",
        "\"Class clean is used to Import the data and return it in a cleaner format\"\n",
        "\n",
        "class Clean:\n",
        "  def __init__(self, file_list):\n",
        "    '''\n",
        "    Pass it a filelist, It creates a self.file_list for reference,\n",
        "    and a self.clean: a list of dataframes imported and formatted. \n",
        "    \n",
        "    \n",
        "    '''\n",
        "    \n",
        "    self.file_list = file_list\n",
        "    self.clean=list(self.import_clean(file_) for file_ in self.file_list)\n",
        "    \n",
        "  def import_clean(self, file_): \n",
        "    '''\n",
        "    Imports the dataframe - removes the last column time (duplicate) - makes column values numeric - \n",
        "    '''\n",
        "\n",
        "    #begin cleaing file\n",
        "    df=pd.read_csv(file_, sep='\\t', header=None)\n",
        "\n",
        "\n",
        "    \"Filter\"\n",
        "    df.drop(df.columns[len(df.columns)-1], axis=1, inplace=True) #drop the last column since it is = to col2 (time)\n",
        "\n",
        "    #filter out all non headers \n",
        "    df = df.apply(pd.to_numeric, errors='coerce').fillna(df) #change floats from str to floats\n",
        "    numeric=~pd.Series([isinstance(key, str) for key in df[0]]) #creates the mask of values to headers to remove headers\n",
        "\n",
        "    #sample and iteration \n",
        "    iterations= self.extract_from_header(df, col=1, marker='=', to_remove='iMeasureCycle=')\n",
        "    sample= self.extract_from_header(df, col=2, marker='=', to_remove='iMux=')\n",
        "    time= self.extract_from_header(df, col=3, marker='=', to_remove='time=')\n",
        "\n",
        "    # col= #location of column names \n",
        "    df.rename(columns=df.iloc[1], inplace=True)#rename columns after the 2nd row\n",
        "\n",
        "    #Add the new columns\n",
        "    df['iterations']=iterations #add the iteration \n",
        "    df['sample']=sample\n",
        "    df['time']=time\n",
        "\n",
        "    df=df.loc[numeric] #remove all headers\n",
        "    df.reset_index(drop=True,inplace=True) #reset the idex\n",
        "    df = df.apply(pd.to_numeric, errors='coerce') #make everything numbers now that htey are\n",
        "\n",
        "    return df\n",
        "  \n",
        "  def extract_from_header(self, df_, col, marker='=', to_remove='iMeasureCycle='): \n",
        "\n",
        "    '''\n",
        "    Extracts the information from the headers for example: \n",
        "    for iMux  \n",
        "    returns the row projected to the length of the dataframe.\n",
        "    '''\n",
        "\n",
        "    var=df_[col].where(df_[col].str.contains(marker).fillna(False)).ffill() #iteration based on the iMeasureCycle value \n",
        "    var=[float(key.replace(to_remove,'')) for key in var] #get the interger for it\n",
        "    return var\n",
        "    \n",
        "\n"
      ],
      "execution_count": 17,
      "outputs": []
    },
    {
      "cell_type": "code",
      "metadata": {
        "id": "d3IwTqwCdhRy",
        "colab_type": "code",
        "cellView": "form",
        "colab": {}
      },
      "source": [
        "#@title Fun: Vth, mob_sat, Onoff, subthreshold_swing, Vth_mob_extraction_vs_iteration { form-width: \"30px\" }\n",
        "\n",
        "def Vth_sat(a, b):\n",
        "  '''\n",
        "  Pass it VG, sqrt(ID) \n",
        "  Calculate the Vth using the intercept of x method. \n",
        "  Takes 2 lines and returns the x intercept \n",
        "  '''\n",
        "  res=linregress(a, b)\n",
        "  slope, intercept =res[0], res[1]\n",
        "\n",
        "  return (-intercept/slope)\n",
        "\n",
        "\n",
        "def mob_sat(VG, ID, C, W=320e-4, L=20e-4):\n",
        "  '''\n",
        "  Pass it (VG, ID)\n",
        "  Satmob--> u =m_sat^2 * (2L/W)*1/C\n",
        "\n",
        "  It linregression (VG, np.sqrt(ID))\n",
        "  '''\n",
        "\n",
        "  res=linregress(VG, np.sqrt(abs(ID)))\n",
        "  msat, intercept =res[0], res[1]\n",
        "  \n",
        "  us=(msat**2)*(2*L/W)/C\n",
        "  return us\n",
        "\n",
        "def on_off(a,b, limit=1e-14): \n",
        "  '''\n",
        "  Pass it (max(absID), min(absID))\n",
        "  The limit represents a dection limit of the machine '''\n",
        "  if a==0: \n",
        "    a=limit\n",
        "  if b==0: \n",
        "    b=limit \n",
        "  return (a/b)\n",
        "\n",
        "def subthreshold_swing (VG, ID):\n",
        "  '''\n",
        "  Pass it (VG, ID)\n",
        "  computes dlogIDdVG\n",
        "  returns 1/dlogIDdVG\n",
        "  '''\n",
        "  dVG=np.diff(VG)\n",
        "  dlogID=np.diff(np.log(abs(ID)))\n",
        "  mask = dVG!=0 #removes diff=0, cause a/0 is undefined\n",
        "  dlogIDdVG= dlogID[mask]/dVG[mask]\n",
        "\n",
        "  return (1/max(dlogIDdVG))\n",
        "    \n",
        "\n",
        "def Vth_mob_extraction_vs_iteration(df_, ID_lim=0.002, C=3.3e-8, W=320e-4, L=20e-4):\n",
        "  '''\n",
        "  For a SINGLE dataframe, for each iteration it extacts: \n",
        "  Vth_sat \n",
        "  Mob_sat\n",
        "  time\n",
        "  iteration\n",
        "  and returns them as a dataframe. \n",
        "  \n",
        "  ID_lim is used to identify the linear region for VTh, mob linear fit. C=capacitance.\n",
        "\n",
        "\n",
        "  '''\n",
        "  Vth, Mob_sat, iteration, time = ([] for i in range(4))\n",
        "  for key, grp in df_.groupby(['iterations']):\n",
        "\n",
        "     #append atime and iteration\n",
        "    time.append(grp['time'].iloc[0])\n",
        "    iteration.append(grp['iterations'].iloc[0])\n",
        "\n",
        "     #limit dataframe to linear region for Vth, Mob extraction \n",
        "    mask_ID_lim = (np.sqrt(abs(grp['IDrain(A)']))>ID_lim)\n",
        "    grp=grp[mask_ID_lim]\n",
        "\n",
        "     #Vth extraction\n",
        "    Vth.append( Vth_sat(grp['#VGate(V)'], np.sqrt(grp['IDrain(A)']))) #uses SQRT \n",
        "     #mob extactinon\n",
        "    Mob_sat.append( mob_sat(grp['#VGate(V)'], (grp['IDrain(A)']), C, W, L)) # don't uses SQRT \n",
        "   #make a dataframe and return it \n",
        "  return (pd.DataFrame({'iteration':iteration, 'time(s)': time, 'Vth_sat': Vth, 'Mob_sat':Mob_sat  }))\n",
        "\n",
        "\n"
      ],
      "execution_count": 18,
      "outputs": []
    },
    {
      "cell_type": "code",
      "metadata": {
        "id": "7T6pl1wuGl75",
        "colab_type": "code",
        "cellView": "form",
        "colab": {}
      },
      "source": [
        "#@title Fun PLOT: Vth-Mob vs time { form-width: \"30px\" }\n",
        "\n",
        "def Plot_Pulse_param (df_):\n",
        "  '''\n",
        "  pass it only the first iteration\n",
        "  plots VG-VD-absID vs time ID is given its own axis.\n",
        "\n",
        "  The plotting DOESN'T chage the dataframe, so mistakes in Vth are plotted. \n",
        "  '''\n",
        "  fig = make_subplots(specs=[[{\"secondary_y\": True}]])\n",
        "    # Vth vs time\n",
        "  fig.add_trace(\n",
        "        go.Scatter(x=df_[\"time(s)\"], y=df_[\"Vth_sat\"], name='Vth_sat',\n",
        "                   hovertext=df_['iteration'] ,\n",
        "                   hovertemplate =\n",
        "                   '<b>Vth_sat<b>: %{y:.2f} [V]'   +\n",
        "                   '<br><b>time</b>: %{x: .1f} [s]<br>'+\n",
        "                   '<b>Iter<b>: %{hovertext}'),\n",
        "                 secondary_y=False \n",
        "    )\n",
        "\n",
        "   #Mob vs time\n",
        "  fig.add_trace(\n",
        "        go.Scatter(x=df_[\"time(s)\"], y=df_[\"Mob_sat\"], name='Mob_sat',\n",
        "                   hovertext=df_['iteration'] ,\n",
        "                   hovertemplate =\n",
        "                   '<b>Mob_sat<b>: %{y:.2f} [cm^2*Vsomthing]'   +\n",
        "                   '<br><b>time</b>: %{x: .1f} [s]<br>'+\n",
        "                   '<b>Iter<b>: %{hovertext}'),\n",
        "        secondary_y=True\n",
        "    )\n",
        "  \n",
        "  #  # Add figure title\n",
        "  fig.update_layout( title_text=\"Mob and Vth vs Time\", titlefont=dict(size=30), title_x=0.5)\n",
        "\n",
        "   # Set x,y-axis title\n",
        "  fig.update_xaxes(title_text=\"Time[s]\", titlefont=dict(size=20))\n",
        "  fig.update_yaxes( title_text=\"Vth[V]\", secondary_y=False, titlefont=dict(size=20))\n",
        "  fig.update_yaxes( title_text=\"Mob[units]\", secondary_y=True, titlefont=dict(size=20))\n",
        "  fig.update_layout(\n",
        "      autosize=False,\n",
        "      width=800,\n",
        "      height=600,\n",
        "      margin=dict(\n",
        "          l=50,\n",
        "          r=50,\n",
        "          b=100,\n",
        "          t=100,\n",
        "          pad=4\n",
        "      ),\n",
        "      #paper_bgcolor=\"LightSteelBlue\",\n",
        "  )\n",
        "\n",
        "  fig.show()"
      ],
      "execution_count": 19,
      "outputs": []
    },
    {
      "cell_type": "markdown",
      "metadata": {
        "id": "Xg2H_nwJEw-M",
        "colab_type": "text"
      },
      "source": [
        "## CODE: supporting material "
      ]
    },
    {
      "cell_type": "code",
      "metadata": {
        "id": "xCjXCGYUDDX-",
        "colab_type": "code",
        "cellView": "form",
        "colab": {}
      },
      "source": [
        "#@title Supporting material PLOT: Pulse param { form-width: \"30px\" }\n",
        "\n",
        "def Plot_Pulse_param (df_):\n",
        "  '''\n",
        "  pass it only the first iteration\n",
        "  plots VG-VD-absID vs time ID is given its own axis.\n",
        "  '''\n",
        "  fig = make_subplots(specs=[[{\"secondary_y\": True}]])\n",
        "    # VG vs time\n",
        "  fig.add_trace(\n",
        "        go.Scatter(x=df_[\"time(s)\"], y=df_[\"#VGate(V)\"], name='VG', mode='markers' , marker_color='black'),\n",
        "        secondary_y=False\n",
        "    )\n",
        "    #  VD vs time\n",
        "  fig.add_trace(\n",
        "        go.Scatter(x=df_[\"time(s)\"], y=df_[\"VDrain(V)\"], name='VD', mode='markers', marker_symbol='square', marker_color='blue'),\n",
        "        secondary_y=False\n",
        "    )\n",
        "    # ID vs time\n",
        "  fig.add_trace(\n",
        "        go.Scatter(x=df_[\"time(s)\"], y=abs(df_[\"IDrain(A)\"]), name='absID', mode='markers', marker_symbol='star', marker_color='red'),\n",
        "        secondary_y=True\n",
        "    )\n",
        "  \n",
        "   # Add figure title\n",
        "  fig.update_layout( title_text=\"PULSE param - VG/VD/absID vs Time\", titlefont=dict(size=30), title_x=0.5)\n",
        "\n",
        "   # Set x,y-axis title\n",
        "  fig.update_xaxes(title_text=\"Time[s]\", titlefont=dict(size=20))\n",
        "  fig.update_yaxes( title_text=\"VG[V]\", secondary_y=False, titlefont=dict(size=20))\n",
        "  fig.update_yaxes( title_text=\"absID[A]\", secondary_y=True, titlefont=dict(size=20))\n",
        "  fig.update_layout(\n",
        "      autosize=False,\n",
        "      width=600,\n",
        "      height=600,\n",
        "      margin=dict(\n",
        "          l=50,\n",
        "          r=50,\n",
        "          b=100,\n",
        "          t=100,\n",
        "          pad=4\n",
        "      ),\n",
        "      #paper_bgcolor=\"LightSteelBlue\",\n",
        "  )\n",
        "\n",
        "  fig.show()\n"
      ],
      "execution_count": 20,
      "outputs": []
    },
    {
      "cell_type": "code",
      "metadata": {
        "id": "dY3P3qF0LfQd",
        "colab_type": "code",
        "cellView": "form",
        "colab": {}
      },
      "source": [
        "#@title Supporitng material PLOT: Vths extraction { form-width: \"30px\" }\n",
        "\n",
        "def Plot_Pulse_VTh_extraction(df_, ID_lim=0.002):\n",
        "  '''\n",
        "  Pass it df_ 1 iteration. \n",
        "  ID_lim drain min value to be considered linear region\n",
        "\n",
        "  Plots ID vs VG - the linear fit - Vth point.\n",
        "\n",
        "  '''\n",
        "   #mask of linear region\n",
        "  mask_ID_lim = (np.sqrt(abs(df_['IDrain(A)']))>ID_lim)\n",
        "   #linear regression part \n",
        "  res=linregress(df_[mask_ID_lim][\"#VGate(V)\"], np.sqrt(abs(df_[mask_ID_lim][\"IDrain(A)\"])))\n",
        "  slope, intercept =res[0], res[1]\n",
        "  x_grid = np.linspace(0,np.max(df_[mask_ID_lim][\"#VGate(V)\"]),20) #grid to plot slope, intercept\n",
        "\n",
        "  #make figure\n",
        "  fig = make_subplots(specs=[[{\"secondary_y\": True}]])\n",
        "   # ID vs VG \n",
        "  fig.add_trace(\n",
        "        go.Scatter(x=df_[\"#VGate(V)\"], y=np.sqrt(abs(df_[\"IDrain(A)\"])), name='sqrt(absID)', mode='markers'),\n",
        "        secondary_y=False\n",
        "    )\n",
        "    # Fit \n",
        "  fig.add_trace(\n",
        "        go.Scatter(x=x_grid, y=x_grid*slope+intercept, name='Fit for sqrt(abdID)>0.002'),\n",
        "        secondary_y=False\n",
        "    )\n",
        "    # Annotation of Vth point\n",
        "  fig.add_annotation(\n",
        "          x=-intercept/slope,\n",
        "          y=0,\n",
        "          xref=\"x\",\n",
        "          yref=\"y\",\n",
        "          text=f\"Vth = {-intercept/slope} \",\n",
        "          showarrow=True,\n",
        "          secondary_y=True,\n",
        "          font=dict(\n",
        "              family=\"Courier New, monospace\",\n",
        "              size=16,\n",
        "              color=\"#ffffff\"\n",
        "              ),\n",
        "          align=\"center\",\n",
        "          arrowhead=2,\n",
        "          arrowsize=1,\n",
        "          arrowwidth=2,\n",
        "          arrowcolor=\"#636363\",\n",
        "          ax=20,\n",
        "          ay=-30,\n",
        "          bordercolor=\"#c7c7c7\",\n",
        "          borderwidth=2,\n",
        "          borderpad=4,\n",
        "          bgcolor=\"#ff7f0e\",\n",
        "        \n",
        "          )\n",
        "  fig.update_layout( title_text=\"Vth extraction from Pulse\", titlefont=dict(size=30), title_x=0.5)\n",
        "\n",
        "  # Set x,y-axis title\n",
        "  fig.update_xaxes(title_text=\"VG [V]\", titlefont=dict(size=20))\n",
        "  fig.update_yaxes( title_text=\"sqrt(absID) [A]\", secondary_y=False, titlefont=dict(size=20))\n",
        "  # fig.update_yaxes( title_text=\"Time[s]\", secondary_y=True, titlefont=dict(size=20))\n",
        "\n",
        "\n",
        "  fig.show()\n"
      ],
      "execution_count": 21,
      "outputs": []
    },
    {
      "cell_type": "markdown",
      "metadata": {
        "id": "mgXs0fjcy91O",
        "colab_type": "text"
      },
      "source": [
        "#MAIN"
      ]
    },
    {
      "cell_type": "markdown",
      "metadata": {
        "id": "OpMbUftzh-iT",
        "colab_type": "text"
      },
      "source": [
        "## Importing the Data\n"
      ]
    },
    {
      "cell_type": "markdown",
      "metadata": {
        "id": "n8JM_O4siOzX",
        "colab_type": "text"
      },
      "source": [
        "All the \"PULSE\" measurments are stored in a single folder with the data and \\_params_.\n",
        "The directory indicates the Folder location in Google Drive. \n",
        "filter_out: '\\_params_' gets rids of all '\\_params_' files the list of files to import.\n",
        "\n",
        "Out: \n",
        "\n",
        "*  Pulse.Clean stores a list of properely formatted dataframes \n",
        "\n",
        "*  Pulse.file_list stores the lsit of filenames for the dataframes. \n"
      ]
    },
    {
      "cell_type": "code",
      "metadata": {
        "id": "To7q0y34hIeA",
        "colab_type": "code",
        "cellView": "form",
        "colab": {
          "base_uri": "https://localhost:8080/",
          "height": 35
        },
        "outputId": "8da95a6b-3611-427f-a9b8-ff651bd6b4b1"
      },
      "source": [
        "#@title Data_imports and Dataframe creation { form-width: \"30px\" }\n",
        "#@markdown Create list of files and filter out files by part of filename (in my case \\_params_\\)\n",
        "\n",
        "\"Create filelist\"\n",
        "#Change directory (Filepath in the /something/ format not \\something\\format)\n",
        "directory='/content/drive/My Drive/Pulse_colab_14_07_20/PULSE_EXAMPLE_DATA' #@param {type:\"string\"} #location files\n",
        "os.chdir (directory)\n",
        "#filelist\n",
        "files=glob.glob('*.dat') #list all files that end in .dat\n",
        "\n",
        "# \"Filter\"\n",
        "filter_out='_params_'#@param {type:\"string\"} #Getting parameter to FILTER OUT!\n",
        "FILES=[x for x in files if not re.findall(filter_out, x)] #https://stackoverflow.com/questions/12709062/python-lambda-with-if-but-without-else\n",
        "\n",
        "\n",
        "Pulse=Clean(file_list=FILES)\n",
        "Pulse.file_list"
      ],
      "execution_count": 22,
      "outputs": [
        {
          "output_type": "execute_result",
          "data": {
            "text/plain": [
              "['C2_EXAMPLE_RAD_PULSE.dat']"
            ]
          },
          "metadata": {
            "tags": []
          },
          "execution_count": 22
        }
      ]
    },
    {
      "cell_type": "markdown",
      "metadata": {
        "id": "6_Pkhgb7K1es",
        "colab_type": "text"
      },
      "source": [
        "#Check Pulse Values"
      ]
    },
    {
      "cell_type": "markdown",
      "metadata": {
        "id": "8HgMLTOv0bWM",
        "colab_type": "text"
      },
      "source": [
        "The pulse measurment is done under the User tab. \n",
        "\n",
        "\n",
        "For the various tab you can note:\n",
        "* cbDoUser = True - meaning the measurment was done from User. \n",
        "* cbLeaveChannelOpen = True - Allows transitor to discharge and stabilize Vth\n",
        "* tbMinIRange = 100e-9 -this shoudl be lowered to get better leakage measurment \n",
        "\n",
        "* NumberOfMeasurementCycles= 2000 this can be high so that measurment continues until you press \"interupt measurment\". \n",
        "* CycleDelay= 5 time between each cycle.\n",
        "\n",
        "\n",
        "In the user tab, you shoudl check for: \n",
        "\n",
        "* V2= 10 V2 is VDS\n",
        "* DV1List\t= 0;2;4;6;8. - these are the values it will measure, i dont know why but it is taking small steps between them. (ask Tobias) \n",
        "* IniDelay = 100 time before it starts measurment.\n",
        "* ApertureTime\t= 0.2 - in [ms], very short time to not disturb sensor.\n",
        "* DeltaT = 1 [ms] total open time (1/0.2=5 points per DV1List values) \n",
        "* VRangeCh1 =\t20.0 It sets to 2 sometimes, it needs to be higher than max(DV1List)\n",
        "* VRangeCh2 =\t20.0 it needs to be higher than V2\n",
        "* ComplianceCh1/2\t= 1e-3 this protects the machine and sample from damage. If you see your current/VG drop it has gone over compliance - this is probably due to shorting with the tips or a broken TFT. \n",
        "\n"
      ]
    },
    {
      "cell_type": "code",
      "metadata": {
        "id": "YjWPCGxN16LS",
        "colab_type": "code",
        "cellView": "form",
        "colab": {
          "base_uri": "https://localhost:8080/",
          "height": 1000
        },
        "outputId": "8173a5a2-78d0-4860-bc44-1e54d0237133"
      },
      "source": [
        "#@title create param_df and show various/user tab { form-width: \"30px\" }\n",
        "param_df=pd.read_csv('C2_EXAMPLE_RAD_PULSE_params_.dat', sep=':', names=['Empty','Tab','Param','Value'], header=None).drop('Empty', axis=1)\n",
        "param_df[param_df['Tab'].isin(['various', 'user'])]\n",
        "\n"
      ],
      "execution_count": 23,
      "outputs": [
        {
          "output_type": "execute_result",
          "data": {
            "text/html": [
              "<div>\n",
              "<style scoped>\n",
              "    .dataframe tbody tr th:only-of-type {\n",
              "        vertical-align: middle;\n",
              "    }\n",
              "\n",
              "    .dataframe tbody tr th {\n",
              "        vertical-align: top;\n",
              "    }\n",
              "\n",
              "    .dataframe thead th {\n",
              "        text-align: right;\n",
              "    }\n",
              "</style>\n",
              "<table border=\"1\" class=\"dataframe\">\n",
              "  <thead>\n",
              "    <tr style=\"text-align: right;\">\n",
              "      <th></th>\n",
              "      <th>Tab</th>\n",
              "      <th>Param</th>\n",
              "      <th>Value</th>\n",
              "    </tr>\n",
              "  </thead>\n",
              "  <tbody>\n",
              "    <tr>\n",
              "      <th>2</th>\n",
              "      <td>various</td>\n",
              "      <td>cbSingleMeasure</td>\n",
              "      <td>True</td>\n",
              "    </tr>\n",
              "    <tr>\n",
              "      <th>3</th>\n",
              "      <td>various</td>\n",
              "      <td>cbDoScan</td>\n",
              "      <td>False</td>\n",
              "    </tr>\n",
              "    <tr>\n",
              "      <th>4</th>\n",
              "      <td>various</td>\n",
              "      <td>cbDoOsci</td>\n",
              "      <td>False</td>\n",
              "    </tr>\n",
              "    <tr>\n",
              "      <th>5</th>\n",
              "      <td>various</td>\n",
              "      <td>cbDoUser</td>\n",
              "      <td>True</td>\n",
              "    </tr>\n",
              "    <tr>\n",
              "      <th>6</th>\n",
              "      <td>various</td>\n",
              "      <td>cbDo4P</td>\n",
              "      <td>False</td>\n",
              "    </tr>\n",
              "    <tr>\n",
              "      <th>7</th>\n",
              "      <td>various</td>\n",
              "      <td>cbLeaveChannelOpen</td>\n",
              "      <td>True</td>\n",
              "    </tr>\n",
              "    <tr>\n",
              "      <th>8</th>\n",
              "      <td>various</td>\n",
              "      <td>cbOverflowCheck</td>\n",
              "      <td>False</td>\n",
              "    </tr>\n",
              "    <tr>\n",
              "      <th>9</th>\n",
              "      <td>various</td>\n",
              "      <td>cbCh1Floating</td>\n",
              "      <td>True</td>\n",
              "    </tr>\n",
              "    <tr>\n",
              "      <th>10</th>\n",
              "      <td>various</td>\n",
              "      <td>cbCh2Floating</td>\n",
              "      <td>True</td>\n",
              "    </tr>\n",
              "    <tr>\n",
              "      <th>11</th>\n",
              "      <td>various</td>\n",
              "      <td>tbMinIRange</td>\n",
              "      <td>100e-9</td>\n",
              "    </tr>\n",
              "    <tr>\n",
              "      <th>12</th>\n",
              "      <td>various</td>\n",
              "      <td>PlotRefresh</td>\n",
              "      <td>4</td>\n",
              "    </tr>\n",
              "    <tr>\n",
              "      <th>13</th>\n",
              "      <td>various</td>\n",
              "      <td>PlotPoints</td>\n",
              "      <td>400</td>\n",
              "    </tr>\n",
              "    <tr>\n",
              "      <th>14</th>\n",
              "      <td>various</td>\n",
              "      <td>NumberOfMeasurementCycles</td>\n",
              "      <td>2000</td>\n",
              "    </tr>\n",
              "    <tr>\n",
              "      <th>15</th>\n",
              "      <td>various</td>\n",
              "      <td>CycleDelay</td>\n",
              "      <td>5</td>\n",
              "    </tr>\n",
              "    <tr>\n",
              "      <th>16</th>\n",
              "      <td>various</td>\n",
              "      <td>VGwait</td>\n",
              "      <td>0.0</td>\n",
              "    </tr>\n",
              "    <tr>\n",
              "      <th>17</th>\n",
              "      <td>various</td>\n",
              "      <td>VDwait</td>\n",
              "      <td>0.0</td>\n",
              "    </tr>\n",
              "    <tr>\n",
              "      <th>54</th>\n",
              "      <td>user</td>\n",
              "      <td>V1</td>\n",
              "      <td>0</td>\n",
              "    </tr>\n",
              "    <tr>\n",
              "      <th>55</th>\n",
              "      <td>user</td>\n",
              "      <td>V2</td>\n",
              "      <td>10</td>\n",
              "    </tr>\n",
              "    <tr>\n",
              "      <th>56</th>\n",
              "      <td>user</td>\n",
              "      <td>DV1List</td>\n",
              "      <td>0;2;4;6;8</td>\n",
              "    </tr>\n",
              "    <tr>\n",
              "      <th>57</th>\n",
              "      <td>user</td>\n",
              "      <td>Factor</td>\n",
              "      <td>1.0</td>\n",
              "    </tr>\n",
              "    <tr>\n",
              "      <th>58</th>\n",
              "      <td>user</td>\n",
              "      <td>IniDelay</td>\n",
              "      <td>100</td>\n",
              "    </tr>\n",
              "    <tr>\n",
              "      <th>59</th>\n",
              "      <td>user</td>\n",
              "      <td>ApertureTime</td>\n",
              "      <td>0.2</td>\n",
              "    </tr>\n",
              "    <tr>\n",
              "      <th>60</th>\n",
              "      <td>user</td>\n",
              "      <td>DeltaT</td>\n",
              "      <td>1</td>\n",
              "    </tr>\n",
              "    <tr>\n",
              "      <th>61</th>\n",
              "      <td>user</td>\n",
              "      <td>NPulse</td>\n",
              "      <td>1</td>\n",
              "    </tr>\n",
              "    <tr>\n",
              "      <th>62</th>\n",
              "      <td>user</td>\n",
              "      <td>tFinalRec</td>\n",
              "      <td>0</td>\n",
              "    </tr>\n",
              "    <tr>\n",
              "      <th>63</th>\n",
              "      <td>user</td>\n",
              "      <td>IRangeCh1</td>\n",
              "      <td>1e-6</td>\n",
              "    </tr>\n",
              "    <tr>\n",
              "      <th>64</th>\n",
              "      <td>user</td>\n",
              "      <td>IRangeCh2</td>\n",
              "      <td>1e-3</td>\n",
              "    </tr>\n",
              "    <tr>\n",
              "      <th>65</th>\n",
              "      <td>user</td>\n",
              "      <td>VRangeCh1</td>\n",
              "      <td>20.0</td>\n",
              "    </tr>\n",
              "    <tr>\n",
              "      <th>66</th>\n",
              "      <td>user</td>\n",
              "      <td>VRangeCh2</td>\n",
              "      <td>20.0</td>\n",
              "    </tr>\n",
              "    <tr>\n",
              "      <th>67</th>\n",
              "      <td>user</td>\n",
              "      <td>CurrentCh1</td>\n",
              "      <td>False</td>\n",
              "    </tr>\n",
              "    <tr>\n",
              "      <th>68</th>\n",
              "      <td>user</td>\n",
              "      <td>CurrentCh2</td>\n",
              "      <td>False</td>\n",
              "    </tr>\n",
              "    <tr>\n",
              "      <th>69</th>\n",
              "      <td>user</td>\n",
              "      <td>ComplianceCh1</td>\n",
              "      <td>1e-3</td>\n",
              "    </tr>\n",
              "    <tr>\n",
              "      <th>70</th>\n",
              "      <td>user</td>\n",
              "      <td>ComplianceCh2</td>\n",
              "      <td>1e-3</td>\n",
              "    </tr>\n",
              "    <tr>\n",
              "      <th>71</th>\n",
              "      <td>user</td>\n",
              "      <td>SaveOnlyFirstPulseData</td>\n",
              "      <td>False</td>\n",
              "    </tr>\n",
              "  </tbody>\n",
              "</table>\n",
              "</div>"
            ],
            "text/plain": [
              "        Tab                      Param      Value\n",
              "2   various            cbSingleMeasure       True\n",
              "3   various                   cbDoScan      False\n",
              "4   various                   cbDoOsci      False\n",
              "5   various                   cbDoUser       True\n",
              "6   various                     cbDo4P      False\n",
              "7   various         cbLeaveChannelOpen       True\n",
              "8   various            cbOverflowCheck      False\n",
              "9   various              cbCh1Floating       True\n",
              "10  various              cbCh2Floating       True\n",
              "11  various                tbMinIRange     100e-9\n",
              "12  various                PlotRefresh          4\n",
              "13  various                 PlotPoints        400\n",
              "14  various  NumberOfMeasurementCycles       2000\n",
              "15  various                 CycleDelay          5\n",
              "16  various                     VGwait        0.0\n",
              "17  various                     VDwait        0.0\n",
              "54     user                         V1          0\n",
              "55     user                         V2         10\n",
              "56     user                    DV1List  0;2;4;6;8\n",
              "57     user                     Factor        1.0\n",
              "58     user                   IniDelay        100\n",
              "59     user               ApertureTime        0.2\n",
              "60     user                     DeltaT          1\n",
              "61     user                     NPulse          1\n",
              "62     user                  tFinalRec          0\n",
              "63     user                  IRangeCh1       1e-6\n",
              "64     user                  IRangeCh2       1e-3\n",
              "65     user                  VRangeCh1       20.0\n",
              "66     user                  VRangeCh2       20.0\n",
              "67     user                 CurrentCh1      False\n",
              "68     user                 CurrentCh2      False\n",
              "69     user              ComplianceCh1       1e-3\n",
              "70     user              ComplianceCh2       1e-3\n",
              "71     user     SaveOnlyFirstPulseData      False"
            ]
          },
          "metadata": {
            "tags": []
          },
          "execution_count": 23
        }
      ]
    },
    {
      "cell_type": "code",
      "metadata": {
        "id": "LFUwt2IJAikQ",
        "colab_type": "code",
        "cellView": "form",
        "colab": {
          "base_uri": "https://localhost:8080/",
          "height": 468
        },
        "outputId": "1e4275c8-a1e8-4a26-96c0-6d259b8a096f"
      },
      "source": [
        "#@title Visualize important parameters { form-width: \"30px\" }\n",
        "important_param_Pulse = ['cbDoUser','cbLeaveChannelOpen','tbMinIRange','NumberOfMeasurementCycles','CycleDelay','V2','DV1List','IniDelay','ApertureTime','DeltaT','VRangeCh1','VRangeCh2','ComplianceCh1','ComplianceCh2' ]\n",
        "param_df[(param_df['Param'].isin(important_param_Pulse)) & (param_df['Tab'].isin(['various', 'user'])) ] \n"
      ],
      "execution_count": 24,
      "outputs": [
        {
          "output_type": "execute_result",
          "data": {
            "text/html": [
              "<div>\n",
              "<style scoped>\n",
              "    .dataframe tbody tr th:only-of-type {\n",
              "        vertical-align: middle;\n",
              "    }\n",
              "\n",
              "    .dataframe tbody tr th {\n",
              "        vertical-align: top;\n",
              "    }\n",
              "\n",
              "    .dataframe thead th {\n",
              "        text-align: right;\n",
              "    }\n",
              "</style>\n",
              "<table border=\"1\" class=\"dataframe\">\n",
              "  <thead>\n",
              "    <tr style=\"text-align: right;\">\n",
              "      <th></th>\n",
              "      <th>Tab</th>\n",
              "      <th>Param</th>\n",
              "      <th>Value</th>\n",
              "    </tr>\n",
              "  </thead>\n",
              "  <tbody>\n",
              "    <tr>\n",
              "      <th>5</th>\n",
              "      <td>various</td>\n",
              "      <td>cbDoUser</td>\n",
              "      <td>True</td>\n",
              "    </tr>\n",
              "    <tr>\n",
              "      <th>7</th>\n",
              "      <td>various</td>\n",
              "      <td>cbLeaveChannelOpen</td>\n",
              "      <td>True</td>\n",
              "    </tr>\n",
              "    <tr>\n",
              "      <th>11</th>\n",
              "      <td>various</td>\n",
              "      <td>tbMinIRange</td>\n",
              "      <td>100e-9</td>\n",
              "    </tr>\n",
              "    <tr>\n",
              "      <th>14</th>\n",
              "      <td>various</td>\n",
              "      <td>NumberOfMeasurementCycles</td>\n",
              "      <td>2000</td>\n",
              "    </tr>\n",
              "    <tr>\n",
              "      <th>15</th>\n",
              "      <td>various</td>\n",
              "      <td>CycleDelay</td>\n",
              "      <td>5</td>\n",
              "    </tr>\n",
              "    <tr>\n",
              "      <th>55</th>\n",
              "      <td>user</td>\n",
              "      <td>V2</td>\n",
              "      <td>10</td>\n",
              "    </tr>\n",
              "    <tr>\n",
              "      <th>56</th>\n",
              "      <td>user</td>\n",
              "      <td>DV1List</td>\n",
              "      <td>0;2;4;6;8</td>\n",
              "    </tr>\n",
              "    <tr>\n",
              "      <th>58</th>\n",
              "      <td>user</td>\n",
              "      <td>IniDelay</td>\n",
              "      <td>100</td>\n",
              "    </tr>\n",
              "    <tr>\n",
              "      <th>59</th>\n",
              "      <td>user</td>\n",
              "      <td>ApertureTime</td>\n",
              "      <td>0.2</td>\n",
              "    </tr>\n",
              "    <tr>\n",
              "      <th>60</th>\n",
              "      <td>user</td>\n",
              "      <td>DeltaT</td>\n",
              "      <td>1</td>\n",
              "    </tr>\n",
              "    <tr>\n",
              "      <th>65</th>\n",
              "      <td>user</td>\n",
              "      <td>VRangeCh1</td>\n",
              "      <td>20.0</td>\n",
              "    </tr>\n",
              "    <tr>\n",
              "      <th>66</th>\n",
              "      <td>user</td>\n",
              "      <td>VRangeCh2</td>\n",
              "      <td>20.0</td>\n",
              "    </tr>\n",
              "    <tr>\n",
              "      <th>69</th>\n",
              "      <td>user</td>\n",
              "      <td>ComplianceCh1</td>\n",
              "      <td>1e-3</td>\n",
              "    </tr>\n",
              "    <tr>\n",
              "      <th>70</th>\n",
              "      <td>user</td>\n",
              "      <td>ComplianceCh2</td>\n",
              "      <td>1e-3</td>\n",
              "    </tr>\n",
              "  </tbody>\n",
              "</table>\n",
              "</div>"
            ],
            "text/plain": [
              "        Tab                      Param      Value\n",
              "5   various                   cbDoUser       True\n",
              "7   various         cbLeaveChannelOpen       True\n",
              "11  various                tbMinIRange     100e-9\n",
              "14  various  NumberOfMeasurementCycles       2000\n",
              "15  various                 CycleDelay          5\n",
              "55     user                         V2         10\n",
              "56     user                    DV1List  0;2;4;6;8\n",
              "58     user                   IniDelay        100\n",
              "59     user               ApertureTime        0.2\n",
              "60     user                     DeltaT          1\n",
              "65     user                  VRangeCh1       20.0\n",
              "66     user                  VRangeCh2       20.0\n",
              "69     user              ComplianceCh1       1e-3\n",
              "70     user              ComplianceCh2       1e-3"
            ]
          },
          "metadata": {
            "tags": []
          },
          "execution_count": 24
        }
      ]
    },
    {
      "cell_type": "markdown",
      "metadata": {
        "id": "JB6O-MRRba_F",
        "colab_type": "text"
      },
      "source": [
        "## Visualization of scan parameters "
      ]
    },
    {
      "cell_type": "markdown",
      "metadata": {
        "id": "F7NTtNWECqeC",
        "colab_type": "text"
      },
      "source": [
        "Here is the visuallization of the scan parameters. \n",
        "\n",
        "Comparing to the FIG2A in the paper: \n",
        "\n",
        "*  In the paper VG increases in steps, collecting multiple points at the same VG value. In my setup it incraeases with every point but 2\n",
        "* In the paper maxVG=5, for me MaxVG=8 \n",
        "\n",
        "\n",
        "\n",
        "\n",
        "---\n",
        "\n",
        "\n",
        "Paper: Pulse characteristics aquistion: Gate voltage and drain current as a function of time\n",
        "\n",
        "![Pulse characteristics aquistion: Gate voltage and drain current as a function of time](https://drive.google.com/uc?export=view&id=1uQC4zNGIE53Osy43_uGMd2u1yjvuZtfS)\n"
      ]
    },
    {
      "cell_type": "code",
      "metadata": {
        "id": "b7wf-_x1FAoW",
        "colab_type": "code",
        "cellView": "form",
        "colab": {
          "base_uri": "https://localhost:8080/",
          "height": 617
        },
        "outputId": "bea5f6ab-b1e7-46cf-c2ec-3912f319bd72"
      },
      "source": [
        "#@title Supporting material: Pulse param - VG/VD/absID as a function fo time { form-width: \"30px\" }\n",
        "\n",
        "df=Pulse.clean[0] #choosing df to be this particular dataframe cause it works out well. obviously change df with pulse.clean[whatever]when using it \n",
        "Plot_Pulse_param(df[df['iterations'].isin([1])]) #isin([1]) takes the first iteration\n",
        "\n"
      ],
      "execution_count": 25,
      "outputs": [
        {
          "output_type": "display_data",
          "data": {
            "text/html": [
              "<html>\n",
              "<head><meta charset=\"utf-8\" /></head>\n",
              "<body>\n",
              "    <div>\n",
              "            <script src=\"https://cdnjs.cloudflare.com/ajax/libs/mathjax/2.7.5/MathJax.js?config=TeX-AMS-MML_SVG\"></script><script type=\"text/javascript\">if (window.MathJax) {MathJax.Hub.Config({SVG: {font: \"STIX-Web\"}});}</script>\n",
              "                <script type=\"text/javascript\">window.PlotlyConfig = {MathJaxConfig: 'local'};</script>\n",
              "        <script src=\"https://cdn.plot.ly/plotly-latest.min.js\"></script>    \n",
              "            <div id=\"3dbb79e0-5ccc-4c92-981b-896c999a7925\" class=\"plotly-graph-div\" style=\"height:600px; width:600px;\"></div>\n",
              "            <script type=\"text/javascript\">\n",
              "                \n",
              "                    window.PLOTLYENV=window.PLOTLYENV || {};\n",
              "                    \n",
              "                if (document.getElementById(\"3dbb79e0-5ccc-4c92-981b-896c999a7925\")) {\n",
              "                    Plotly.newPlot(\n",
              "                        '3dbb79e0-5ccc-4c92-981b-896c999a7925',\n",
              "                        [{\"marker\": {\"color\": \"black\"}, \"mode\": \"markers\", \"name\": \"VG\", \"type\": \"scatter\", \"x\": [0.0, 0.0002, 0.0004, 0.0006, 0.0008, 0.001, 0.0012, 0.0014, 0.0016, 0.0018, 0.002, 0.0022, 0.0024, 0.0026, 0.0028, 0.003, 0.0032, 0.0034, 0.0036, 0.0038, 0.004, 0.0042, 0.0044, 0.0046, 0.0048], \"xaxis\": \"x\", \"y\": [1e-05, -2e-05, -2e-05, 0.0, -2e-05, 0.38824000000000003, 0.9129700000000001, 1.4533, 1.9381599999999999, 2.00178, 2.3895299999999997, 2.9127099999999997, 3.45258, 3.9375400000000003, 4.0018400000000005, 4.38901, 4.9123, 5.4534400000000005, 5.93848, 6.00169, 6.3903300000000005, 6.914110000000001, 7.455260000000001, 7.93925, 8.00177], \"yaxis\": \"y\"}, {\"marker\": {\"color\": \"blue\", \"symbol\": \"square\"}, \"mode\": \"markers\", \"name\": \"VD\", \"type\": \"scatter\", \"x\": [0.0, 0.0002, 0.0004, 0.0006, 0.0008, 0.001, 0.0012, 0.0014, 0.0016, 0.0018, 0.002, 0.0022, 0.0024, 0.0026, 0.0028, 0.003, 0.0032, 0.0034, 0.0036, 0.0038, 0.004, 0.0042, 0.0044, 0.0046, 0.0048], \"xaxis\": \"x\", \"y\": [9.99998, 9.99998, 10.000010000000001, 10.0, 9.99998, 10.0, 9.99997, 9.99997, 9.99997, 10.000010000000001, 9.99996, 9.99995, 9.999939999999999, 9.99996, 9.99998, 9.99991, 9.99991, 9.9999, 9.99992, 9.999989999999999, 9.99985, 9.999839999999999, 9.99985, 9.999889999999999, 10.0], \"yaxis\": \"y\"}, {\"marker\": {\"color\": \"red\", \"symbol\": \"star\"}, \"mode\": \"markers\", \"name\": \"absID\", \"type\": \"scatter\", \"x\": [0.0, 0.0002, 0.0004, 0.0006, 0.0008, 0.001, 0.0012, 0.0014, 0.0016, 0.0018, 0.002, 0.0022, 0.0024, 0.0026, 0.0028, 0.003, 0.0032, 0.0034, 0.0036, 0.0038, 0.004, 0.0042, 0.0044, 0.0046, 0.0048], \"xaxis\": \"x\", \"y\": [3.4e-08, 3e-08, 2.7e-08, 2.6e-08, 3.1e-08, 1.3e-07, 9.35e-07, 2.668e-06, 5.1069999999999996e-06, 5.435e-06, 8.151e-06, 1.2861e-05, 1.8931e-05, 2.5489e-05, 2.6362e-05, 3.2432e-05, 4.1862e-05, 5.2962e-05, 6.413899999999999e-05, 6.563100000000001e-05, 7.5418e-05, 8.9986e-05, 0.000106449, 0.000122453, 0.00012461], \"yaxis\": \"y2\"}],\n",
              "                        {\"autosize\": false, \"height\": 600, \"margin\": {\"b\": 100, \"l\": 50, \"pad\": 4, \"r\": 50, \"t\": 100}, \"template\": {\"data\": {\"bar\": [{\"error_x\": {\"color\": \"#2a3f5f\"}, \"error_y\": {\"color\": \"#2a3f5f\"}, \"marker\": {\"line\": {\"color\": \"#E5ECF6\", \"width\": 0.5}}, \"type\": \"bar\"}], \"barpolar\": [{\"marker\": {\"line\": {\"color\": \"#E5ECF6\", \"width\": 0.5}}, \"type\": \"barpolar\"}], \"carpet\": [{\"aaxis\": {\"endlinecolor\": \"#2a3f5f\", \"gridcolor\": \"white\", \"linecolor\": \"white\", \"minorgridcolor\": \"white\", \"startlinecolor\": \"#2a3f5f\"}, \"baxis\": {\"endlinecolor\": \"#2a3f5f\", \"gridcolor\": \"white\", \"linecolor\": \"white\", \"minorgridcolor\": \"white\", \"startlinecolor\": \"#2a3f5f\"}, \"type\": \"carpet\"}], \"choropleth\": [{\"colorbar\": {\"outlinewidth\": 0, \"ticks\": \"\"}, \"type\": \"choropleth\"}], \"contour\": [{\"colorbar\": {\"outlinewidth\": 0, \"ticks\": \"\"}, \"colorscale\": [[0.0, \"#0d0887\"], [0.1111111111111111, \"#46039f\"], [0.2222222222222222, \"#7201a8\"], [0.3333333333333333, \"#9c179e\"], [0.4444444444444444, \"#bd3786\"], [0.5555555555555556, \"#d8576b\"], [0.6666666666666666, \"#ed7953\"], [0.7777777777777778, \"#fb9f3a\"], [0.8888888888888888, \"#fdca26\"], [1.0, \"#f0f921\"]], \"type\": \"contour\"}], \"contourcarpet\": [{\"colorbar\": {\"outlinewidth\": 0, \"ticks\": \"\"}, \"type\": \"contourcarpet\"}], \"heatmap\": [{\"colorbar\": {\"outlinewidth\": 0, \"ticks\": \"\"}, \"colorscale\": [[0.0, \"#0d0887\"], [0.1111111111111111, \"#46039f\"], [0.2222222222222222, \"#7201a8\"], [0.3333333333333333, \"#9c179e\"], [0.4444444444444444, \"#bd3786\"], [0.5555555555555556, \"#d8576b\"], [0.6666666666666666, \"#ed7953\"], [0.7777777777777778, \"#fb9f3a\"], [0.8888888888888888, \"#fdca26\"], [1.0, \"#f0f921\"]], \"type\": \"heatmap\"}], \"heatmapgl\": [{\"colorbar\": {\"outlinewidth\": 0, \"ticks\": \"\"}, \"colorscale\": [[0.0, \"#0d0887\"], [0.1111111111111111, \"#46039f\"], [0.2222222222222222, \"#7201a8\"], [0.3333333333333333, \"#9c179e\"], [0.4444444444444444, \"#bd3786\"], [0.5555555555555556, \"#d8576b\"], [0.6666666666666666, \"#ed7953\"], [0.7777777777777778, \"#fb9f3a\"], [0.8888888888888888, \"#fdca26\"], [1.0, \"#f0f921\"]], \"type\": \"heatmapgl\"}], \"histogram\": [{\"marker\": {\"colorbar\": {\"outlinewidth\": 0, \"ticks\": \"\"}}, \"type\": \"histogram\"}], \"histogram2d\": [{\"colorbar\": {\"outlinewidth\": 0, \"ticks\": \"\"}, \"colorscale\": [[0.0, \"#0d0887\"], [0.1111111111111111, \"#46039f\"], [0.2222222222222222, \"#7201a8\"], [0.3333333333333333, \"#9c179e\"], [0.4444444444444444, \"#bd3786\"], [0.5555555555555556, \"#d8576b\"], [0.6666666666666666, \"#ed7953\"], [0.7777777777777778, \"#fb9f3a\"], [0.8888888888888888, \"#fdca26\"], [1.0, \"#f0f921\"]], \"type\": \"histogram2d\"}], \"histogram2dcontour\": [{\"colorbar\": {\"outlinewidth\": 0, \"ticks\": \"\"}, \"colorscale\": [[0.0, \"#0d0887\"], [0.1111111111111111, \"#46039f\"], [0.2222222222222222, \"#7201a8\"], [0.3333333333333333, \"#9c179e\"], [0.4444444444444444, \"#bd3786\"], [0.5555555555555556, \"#d8576b\"], [0.6666666666666666, \"#ed7953\"], [0.7777777777777778, \"#fb9f3a\"], [0.8888888888888888, \"#fdca26\"], [1.0, \"#f0f921\"]], \"type\": \"histogram2dcontour\"}], \"mesh3d\": [{\"colorbar\": {\"outlinewidth\": 0, \"ticks\": \"\"}, \"type\": \"mesh3d\"}], \"parcoords\": [{\"line\": {\"colorbar\": {\"outlinewidth\": 0, \"ticks\": \"\"}}, \"type\": \"parcoords\"}], \"pie\": [{\"automargin\": true, \"type\": \"pie\"}], \"scatter\": [{\"marker\": {\"colorbar\": {\"outlinewidth\": 0, \"ticks\": \"\"}}, \"type\": \"scatter\"}], \"scatter3d\": [{\"line\": {\"colorbar\": {\"outlinewidth\": 0, \"ticks\": \"\"}}, \"marker\": {\"colorbar\": {\"outlinewidth\": 0, \"ticks\": \"\"}}, \"type\": \"scatter3d\"}], \"scattercarpet\": [{\"marker\": {\"colorbar\": {\"outlinewidth\": 0, \"ticks\": \"\"}}, \"type\": \"scattercarpet\"}], \"scattergeo\": [{\"marker\": {\"colorbar\": {\"outlinewidth\": 0, \"ticks\": \"\"}}, \"type\": \"scattergeo\"}], \"scattergl\": [{\"marker\": {\"colorbar\": {\"outlinewidth\": 0, \"ticks\": \"\"}}, \"type\": \"scattergl\"}], \"scattermapbox\": [{\"marker\": {\"colorbar\": {\"outlinewidth\": 0, \"ticks\": \"\"}}, \"type\": \"scattermapbox\"}], \"scatterpolar\": [{\"marker\": {\"colorbar\": {\"outlinewidth\": 0, \"ticks\": \"\"}}, \"type\": \"scatterpolar\"}], \"scatterpolargl\": [{\"marker\": {\"colorbar\": {\"outlinewidth\": 0, \"ticks\": \"\"}}, \"type\": \"scatterpolargl\"}], \"scatterternary\": [{\"marker\": {\"colorbar\": {\"outlinewidth\": 0, \"ticks\": \"\"}}, \"type\": \"scatterternary\"}], \"surface\": [{\"colorbar\": {\"outlinewidth\": 0, \"ticks\": \"\"}, \"colorscale\": [[0.0, \"#0d0887\"], [0.1111111111111111, \"#46039f\"], [0.2222222222222222, \"#7201a8\"], [0.3333333333333333, \"#9c179e\"], [0.4444444444444444, \"#bd3786\"], [0.5555555555555556, \"#d8576b\"], [0.6666666666666666, \"#ed7953\"], [0.7777777777777778, \"#fb9f3a\"], [0.8888888888888888, \"#fdca26\"], [1.0, \"#f0f921\"]], \"type\": \"surface\"}], \"table\": [{\"cells\": {\"fill\": {\"color\": \"#EBF0F8\"}, \"line\": {\"color\": \"white\"}}, \"header\": {\"fill\": {\"color\": \"#C8D4E3\"}, \"line\": {\"color\": \"white\"}}, \"type\": \"table\"}]}, \"layout\": {\"annotationdefaults\": {\"arrowcolor\": \"#2a3f5f\", \"arrowhead\": 0, \"arrowwidth\": 1}, \"coloraxis\": {\"colorbar\": {\"outlinewidth\": 0, \"ticks\": \"\"}}, \"colorscale\": {\"diverging\": [[0, \"#8e0152\"], [0.1, \"#c51b7d\"], [0.2, \"#de77ae\"], [0.3, \"#f1b6da\"], [0.4, \"#fde0ef\"], [0.5, \"#f7f7f7\"], [0.6, \"#e6f5d0\"], [0.7, \"#b8e186\"], [0.8, \"#7fbc41\"], [0.9, \"#4d9221\"], [1, \"#276419\"]], \"sequential\": [[0.0, \"#0d0887\"], [0.1111111111111111, \"#46039f\"], [0.2222222222222222, \"#7201a8\"], [0.3333333333333333, \"#9c179e\"], [0.4444444444444444, \"#bd3786\"], [0.5555555555555556, \"#d8576b\"], [0.6666666666666666, \"#ed7953\"], [0.7777777777777778, \"#fb9f3a\"], [0.8888888888888888, \"#fdca26\"], [1.0, \"#f0f921\"]], \"sequentialminus\": [[0.0, \"#0d0887\"], [0.1111111111111111, \"#46039f\"], [0.2222222222222222, \"#7201a8\"], [0.3333333333333333, \"#9c179e\"], [0.4444444444444444, \"#bd3786\"], [0.5555555555555556, \"#d8576b\"], [0.6666666666666666, \"#ed7953\"], [0.7777777777777778, \"#fb9f3a\"], [0.8888888888888888, \"#fdca26\"], [1.0, \"#f0f921\"]]}, \"colorway\": [\"#636efa\", \"#EF553B\", \"#00cc96\", \"#ab63fa\", \"#FFA15A\", \"#19d3f3\", \"#FF6692\", \"#B6E880\", \"#FF97FF\", \"#FECB52\"], \"font\": {\"color\": \"#2a3f5f\"}, \"geo\": {\"bgcolor\": \"white\", \"lakecolor\": \"white\", \"landcolor\": \"#E5ECF6\", \"showlakes\": true, \"showland\": true, \"subunitcolor\": \"white\"}, \"hoverlabel\": {\"align\": \"left\"}, \"hovermode\": \"closest\", \"mapbox\": {\"style\": \"light\"}, \"paper_bgcolor\": \"white\", \"plot_bgcolor\": \"#E5ECF6\", \"polar\": {\"angularaxis\": {\"gridcolor\": \"white\", \"linecolor\": \"white\", \"ticks\": \"\"}, \"bgcolor\": \"#E5ECF6\", \"radialaxis\": {\"gridcolor\": \"white\", \"linecolor\": \"white\", \"ticks\": \"\"}}, \"scene\": {\"xaxis\": {\"backgroundcolor\": \"#E5ECF6\", \"gridcolor\": \"white\", \"gridwidth\": 2, \"linecolor\": \"white\", \"showbackground\": true, \"ticks\": \"\", \"zerolinecolor\": \"white\"}, \"yaxis\": {\"backgroundcolor\": \"#E5ECF6\", \"gridcolor\": \"white\", \"gridwidth\": 2, \"linecolor\": \"white\", \"showbackground\": true, \"ticks\": \"\", \"zerolinecolor\": \"white\"}, \"zaxis\": {\"backgroundcolor\": \"#E5ECF6\", \"gridcolor\": \"white\", \"gridwidth\": 2, \"linecolor\": \"white\", \"showbackground\": true, \"ticks\": \"\", \"zerolinecolor\": \"white\"}}, \"shapedefaults\": {\"line\": {\"color\": \"#2a3f5f\"}}, \"ternary\": {\"aaxis\": {\"gridcolor\": \"white\", \"linecolor\": \"white\", \"ticks\": \"\"}, \"baxis\": {\"gridcolor\": \"white\", \"linecolor\": \"white\", \"ticks\": \"\"}, \"bgcolor\": \"#E5ECF6\", \"caxis\": {\"gridcolor\": \"white\", \"linecolor\": \"white\", \"ticks\": \"\"}}, \"title\": {\"x\": 0.05}, \"xaxis\": {\"automargin\": true, \"gridcolor\": \"white\", \"linecolor\": \"white\", \"ticks\": \"\", \"title\": {\"standoff\": 15}, \"zerolinecolor\": \"white\", \"zerolinewidth\": 2}, \"yaxis\": {\"automargin\": true, \"gridcolor\": \"white\", \"linecolor\": \"white\", \"ticks\": \"\", \"title\": {\"standoff\": 15}, \"zerolinecolor\": \"white\", \"zerolinewidth\": 2}}}, \"title\": {\"font\": {\"size\": 30}, \"text\": \"PULSE param - VG/VD/absID vs Time\", \"x\": 0.5}, \"width\": 600, \"xaxis\": {\"anchor\": \"y\", \"domain\": [0.0, 0.94], \"title\": {\"font\": {\"size\": 20}, \"text\": \"Time[s]\"}}, \"yaxis\": {\"anchor\": \"x\", \"domain\": [0.0, 1.0], \"title\": {\"font\": {\"size\": 20}, \"text\": \"VG[V]\"}}, \"yaxis2\": {\"anchor\": \"x\", \"overlaying\": \"y\", \"side\": \"right\", \"title\": {\"font\": {\"size\": 20}, \"text\": \"absID[A]\"}}},\n",
              "                        {\"responsive\": true}\n",
              "                    ).then(function(){\n",
              "                            \n",
              "var gd = document.getElementById('3dbb79e0-5ccc-4c92-981b-896c999a7925');\n",
              "var x = new MutationObserver(function (mutations, observer) {{\n",
              "        var display = window.getComputedStyle(gd).display;\n",
              "        if (!display || display === 'none') {{\n",
              "            console.log([gd, 'removed!']);\n",
              "            Plotly.purge(gd);\n",
              "            observer.disconnect();\n",
              "        }}\n",
              "}});\n",
              "\n",
              "// Listen for the removal of the full notebook cells\n",
              "var notebookContainer = gd.closest('#notebook-container');\n",
              "if (notebookContainer) {{\n",
              "    x.observe(notebookContainer, {childList: true});\n",
              "}}\n",
              "\n",
              "// Listen for the clearing of the current output cell\n",
              "var outputEl = gd.closest('.output');\n",
              "if (outputEl) {{\n",
              "    x.observe(outputEl, {childList: true});\n",
              "}}\n",
              "\n",
              "                        })\n",
              "                };\n",
              "                \n",
              "            </script>\n",
              "        </div>\n",
              "</body>\n",
              "</html>"
            ]
          },
          "metadata": {
            "tags": []
          }
        }
      ]
    },
    {
      "cell_type": "markdown",
      "metadata": {
        "id": "IrW3VC3CbOlk",
        "colab_type": "text"
      },
      "source": [
        "#Extraction of Values"
      ]
    },
    {
      "cell_type": "markdown",
      "metadata": {
        "id": "l1hfnhK5KwiB",
        "colab_type": "text"
      },
      "source": [
        "## Extraction of the Vth"
      ]
    },
    {
      "cell_type": "markdown",
      "metadata": {
        "id": "QAO6HqB3NW3h",
        "colab_type": "text"
      },
      "source": [
        "Vth indicates the value to overcome from the gate electrode to achieve\n",
        "an accumulation region in the interface between semiconductor and dielectric\n",
        "layer. This value can be evaluated by a linear extrapolation in the ID-VG\n",
        "plot (for low VD) or in the $ID^{0.5}$ - VG Plot (for high VD)\n",
        "\n",
        "---\n",
        "\n",
        "Since VD= 10 (high)\n",
        "\n",
        "Vth is extracted by doing:\n",
        "1. >$\\left | \\sqrt{ID} \\right |>0.002$ limit data to linear region (CRAMER RULE)\n",
        "\n",
        "2. >$linregression(VG, \\left | \\sqrt{ID} \\right |)$ get slope, y_intercept\n",
        "\n",
        "3. >$Vth[V] = -intercept/slope$ \n",
        "\n",
        "\n",
        "\n",
        "---\n",
        "\n",
        "Here is the result from FIG2B in the paper:  Transfer characteristics obtained from the fast transfer in saturation and line\n",
        "fit to obtain Vth.\n",
        "\n",
        "![Transfer characteristics obtained from the fast transfer in saturation and line\n",
        "fit to obtain Vth.](https://drive.google.com/uc?export=view&id=1qVWNnNjIw8A9nGddY-mgtLynUSFhGjt0)\n",
        "\n",
        "\n",
        "\n"
      ]
    },
    {
      "cell_type": "code",
      "metadata": {
        "id": "miQWzVEMNn9Y",
        "colab_type": "code",
        "cellView": "form",
        "colab": {
          "base_uri": "https://localhost:8080/",
          "height": 542
        },
        "outputId": "b2662de4-11c6-43a8-cdb8-09e8ee8fa1e9"
      },
      "source": [
        "#@title Supporting material: VTH extraction from pulse\n",
        "Plot_Pulse_VTh_extraction(df[df['iterations'].isin([1])])\n"
      ],
      "execution_count": 26,
      "outputs": [
        {
          "output_type": "display_data",
          "data": {
            "text/html": [
              "<html>\n",
              "<head><meta charset=\"utf-8\" /></head>\n",
              "<body>\n",
              "    <div>\n",
              "            <script src=\"https://cdnjs.cloudflare.com/ajax/libs/mathjax/2.7.5/MathJax.js?config=TeX-AMS-MML_SVG\"></script><script type=\"text/javascript\">if (window.MathJax) {MathJax.Hub.Config({SVG: {font: \"STIX-Web\"}});}</script>\n",
              "                <script type=\"text/javascript\">window.PlotlyConfig = {MathJaxConfig: 'local'};</script>\n",
              "        <script src=\"https://cdn.plot.ly/plotly-latest.min.js\"></script>    \n",
              "            <div id=\"4d86eb2b-2d6b-4874-a9ad-728371a6368c\" class=\"plotly-graph-div\" style=\"height:525px; width:100%;\"></div>\n",
              "            <script type=\"text/javascript\">\n",
              "                \n",
              "                    window.PLOTLYENV=window.PLOTLYENV || {};\n",
              "                    \n",
              "                if (document.getElementById(\"4d86eb2b-2d6b-4874-a9ad-728371a6368c\")) {\n",
              "                    Plotly.newPlot(\n",
              "                        '4d86eb2b-2d6b-4874-a9ad-728371a6368c',\n",
              "                        [{\"mode\": \"markers\", \"name\": \"sqrt(absID)\", \"type\": \"scatter\", \"x\": [1e-05, -2e-05, -2e-05, 0.0, -2e-05, 0.38824000000000003, 0.9129700000000001, 1.4533, 1.9381599999999999, 2.00178, 2.3895299999999997, 2.9127099999999997, 3.45258, 3.9375400000000003, 4.0018400000000005, 4.38901, 4.9123, 5.4534400000000005, 5.93848, 6.00169, 6.3903300000000005, 6.914110000000001, 7.455260000000001, 7.93925, 8.00177], \"xaxis\": \"x\", \"y\": [0.00018439088914585776, 0.00017320508075688773, 0.00016431676725154983, 0.000161245154965971, 0.0001760681686165901, 0.00036055512754639893, 0.0009669539802906859, 0.0016334013591276335, 0.002259867252738532, 0.0023313086453749534, 0.00285499562171293, 0.0035862236405444655, 0.00435097690180033, 0.005048663189399744, 0.00513439382984983, 0.005694910008068608, 0.0064700850071695345, 0.007277499570594285, 0.008008682788074453, 0.008101296192585481, 0.00868435374682538, 0.009486095087020792, 0.010317412466311503, 0.011065848363320365, 0.011162884931772789], \"yaxis\": \"y\"}, {\"name\": \"Fit for sqrt(abdID)>0.002\", \"type\": \"scatter\", \"x\": [0.0, 0.42114578947368425, 0.8422915789473685, 1.2634373684210527, 1.684583157894737, 2.105728947368421, 2.5268747368421054, 2.9480205263157897, 3.369166315789474, 3.7903121052631583, 4.211457894736842, 4.632603684210527, 5.053749473684211, 5.4748952631578955, 5.896041052631579, 6.317186842105264, 6.738332631578948, 7.159478421052632, 7.580624210526317, 8.00177], \"xaxis\": \"x\", \"y\": [-0.0006987224319498697, -7.86858573985044e-05, 0.0005413507171528609, 0.0011613872917042261, 0.0017814238662555914, 0.0024014604408069563, 0.003021497015358322, 0.003641533589909687, 0.0042615701644610525, 0.004881606739012418, 0.005501643313563782, 0.006121679888115149, 0.006741716462666514, 0.007361753037217879, 0.007981789611769242, 0.008601826186320612, 0.009221862760871974, 0.00984189933542334, 0.010461935909974705, 0.011081972484526071], \"yaxis\": \"y\"}],\n",
              "                        {\"annotations\": [{\"align\": \"center\", \"arrowcolor\": \"#636363\", \"arrowhead\": 2, \"arrowsize\": 1, \"arrowwidth\": 2, \"ax\": 20, \"ay\": -30, \"bgcolor\": \"#ff7f0e\", \"bordercolor\": \"#c7c7c7\", \"borderpad\": 4, \"borderwidth\": 2, \"font\": {\"color\": \"#ffffff\", \"family\": \"Courier New, monospace\", \"size\": 16}, \"showarrow\": true, \"text\": \"Vth = 0.4745913746127293 \", \"x\": 0.4745913746127293, \"xref\": \"x\", \"y\": 0, \"yref\": \"y\"}], \"template\": {\"data\": {\"bar\": [{\"error_x\": {\"color\": \"#2a3f5f\"}, \"error_y\": {\"color\": \"#2a3f5f\"}, \"marker\": {\"line\": {\"color\": \"#E5ECF6\", \"width\": 0.5}}, \"type\": \"bar\"}], \"barpolar\": [{\"marker\": {\"line\": {\"color\": \"#E5ECF6\", \"width\": 0.5}}, \"type\": \"barpolar\"}], \"carpet\": [{\"aaxis\": {\"endlinecolor\": \"#2a3f5f\", \"gridcolor\": \"white\", \"linecolor\": \"white\", \"minorgridcolor\": \"white\", \"startlinecolor\": \"#2a3f5f\"}, \"baxis\": {\"endlinecolor\": \"#2a3f5f\", \"gridcolor\": \"white\", \"linecolor\": \"white\", \"minorgridcolor\": \"white\", \"startlinecolor\": \"#2a3f5f\"}, \"type\": \"carpet\"}], \"choropleth\": [{\"colorbar\": {\"outlinewidth\": 0, \"ticks\": \"\"}, \"type\": \"choropleth\"}], \"contour\": [{\"colorbar\": {\"outlinewidth\": 0, \"ticks\": \"\"}, \"colorscale\": [[0.0, \"#0d0887\"], [0.1111111111111111, \"#46039f\"], [0.2222222222222222, \"#7201a8\"], [0.3333333333333333, \"#9c179e\"], [0.4444444444444444, \"#bd3786\"], [0.5555555555555556, \"#d8576b\"], [0.6666666666666666, \"#ed7953\"], [0.7777777777777778, \"#fb9f3a\"], [0.8888888888888888, \"#fdca26\"], [1.0, \"#f0f921\"]], \"type\": \"contour\"}], \"contourcarpet\": [{\"colorbar\": {\"outlinewidth\": 0, \"ticks\": \"\"}, \"type\": \"contourcarpet\"}], \"heatmap\": [{\"colorbar\": {\"outlinewidth\": 0, \"ticks\": \"\"}, \"colorscale\": [[0.0, \"#0d0887\"], [0.1111111111111111, \"#46039f\"], [0.2222222222222222, \"#7201a8\"], [0.3333333333333333, \"#9c179e\"], [0.4444444444444444, \"#bd3786\"], [0.5555555555555556, \"#d8576b\"], [0.6666666666666666, \"#ed7953\"], [0.7777777777777778, \"#fb9f3a\"], [0.8888888888888888, \"#fdca26\"], [1.0, \"#f0f921\"]], \"type\": \"heatmap\"}], \"heatmapgl\": [{\"colorbar\": {\"outlinewidth\": 0, \"ticks\": \"\"}, \"colorscale\": [[0.0, \"#0d0887\"], [0.1111111111111111, \"#46039f\"], [0.2222222222222222, \"#7201a8\"], [0.3333333333333333, \"#9c179e\"], [0.4444444444444444, \"#bd3786\"], [0.5555555555555556, \"#d8576b\"], [0.6666666666666666, \"#ed7953\"], [0.7777777777777778, \"#fb9f3a\"], [0.8888888888888888, \"#fdca26\"], [1.0, \"#f0f921\"]], \"type\": \"heatmapgl\"}], \"histogram\": [{\"marker\": {\"colorbar\": {\"outlinewidth\": 0, \"ticks\": \"\"}}, \"type\": \"histogram\"}], \"histogram2d\": [{\"colorbar\": {\"outlinewidth\": 0, \"ticks\": \"\"}, \"colorscale\": [[0.0, \"#0d0887\"], [0.1111111111111111, \"#46039f\"], [0.2222222222222222, \"#7201a8\"], [0.3333333333333333, \"#9c179e\"], [0.4444444444444444, \"#bd3786\"], [0.5555555555555556, \"#d8576b\"], [0.6666666666666666, \"#ed7953\"], [0.7777777777777778, \"#fb9f3a\"], [0.8888888888888888, \"#fdca26\"], [1.0, \"#f0f921\"]], \"type\": \"histogram2d\"}], \"histogram2dcontour\": [{\"colorbar\": {\"outlinewidth\": 0, \"ticks\": \"\"}, \"colorscale\": [[0.0, \"#0d0887\"], [0.1111111111111111, \"#46039f\"], [0.2222222222222222, \"#7201a8\"], [0.3333333333333333, \"#9c179e\"], [0.4444444444444444, \"#bd3786\"], [0.5555555555555556, \"#d8576b\"], [0.6666666666666666, \"#ed7953\"], [0.7777777777777778, \"#fb9f3a\"], [0.8888888888888888, \"#fdca26\"], [1.0, \"#f0f921\"]], \"type\": \"histogram2dcontour\"}], \"mesh3d\": [{\"colorbar\": {\"outlinewidth\": 0, \"ticks\": \"\"}, \"type\": \"mesh3d\"}], \"parcoords\": [{\"line\": {\"colorbar\": {\"outlinewidth\": 0, \"ticks\": \"\"}}, \"type\": \"parcoords\"}], \"pie\": [{\"automargin\": true, \"type\": \"pie\"}], \"scatter\": [{\"marker\": {\"colorbar\": {\"outlinewidth\": 0, \"ticks\": \"\"}}, \"type\": \"scatter\"}], \"scatter3d\": [{\"line\": {\"colorbar\": {\"outlinewidth\": 0, \"ticks\": \"\"}}, \"marker\": {\"colorbar\": {\"outlinewidth\": 0, \"ticks\": \"\"}}, \"type\": \"scatter3d\"}], \"scattercarpet\": [{\"marker\": {\"colorbar\": {\"outlinewidth\": 0, \"ticks\": \"\"}}, \"type\": \"scattercarpet\"}], \"scattergeo\": [{\"marker\": {\"colorbar\": {\"outlinewidth\": 0, \"ticks\": \"\"}}, \"type\": \"scattergeo\"}], \"scattergl\": [{\"marker\": {\"colorbar\": {\"outlinewidth\": 0, \"ticks\": \"\"}}, \"type\": \"scattergl\"}], \"scattermapbox\": [{\"marker\": {\"colorbar\": {\"outlinewidth\": 0, \"ticks\": \"\"}}, \"type\": \"scattermapbox\"}], \"scatterpolar\": [{\"marker\": {\"colorbar\": {\"outlinewidth\": 0, \"ticks\": \"\"}}, \"type\": \"scatterpolar\"}], \"scatterpolargl\": [{\"marker\": {\"colorbar\": {\"outlinewidth\": 0, \"ticks\": \"\"}}, \"type\": \"scatterpolargl\"}], \"scatterternary\": [{\"marker\": {\"colorbar\": {\"outlinewidth\": 0, \"ticks\": \"\"}}, \"type\": \"scatterternary\"}], \"surface\": [{\"colorbar\": {\"outlinewidth\": 0, \"ticks\": \"\"}, \"colorscale\": [[0.0, \"#0d0887\"], [0.1111111111111111, \"#46039f\"], [0.2222222222222222, \"#7201a8\"], [0.3333333333333333, \"#9c179e\"], [0.4444444444444444, \"#bd3786\"], [0.5555555555555556, \"#d8576b\"], [0.6666666666666666, \"#ed7953\"], [0.7777777777777778, \"#fb9f3a\"], [0.8888888888888888, \"#fdca26\"], [1.0, \"#f0f921\"]], \"type\": \"surface\"}], \"table\": [{\"cells\": {\"fill\": {\"color\": \"#EBF0F8\"}, \"line\": {\"color\": \"white\"}}, \"header\": {\"fill\": {\"color\": \"#C8D4E3\"}, \"line\": {\"color\": \"white\"}}, \"type\": \"table\"}]}, \"layout\": {\"annotationdefaults\": {\"arrowcolor\": \"#2a3f5f\", \"arrowhead\": 0, \"arrowwidth\": 1}, \"coloraxis\": {\"colorbar\": {\"outlinewidth\": 0, \"ticks\": \"\"}}, \"colorscale\": {\"diverging\": [[0, \"#8e0152\"], [0.1, \"#c51b7d\"], [0.2, \"#de77ae\"], [0.3, \"#f1b6da\"], [0.4, \"#fde0ef\"], [0.5, \"#f7f7f7\"], [0.6, \"#e6f5d0\"], [0.7, \"#b8e186\"], [0.8, \"#7fbc41\"], [0.9, \"#4d9221\"], [1, \"#276419\"]], \"sequential\": [[0.0, \"#0d0887\"], [0.1111111111111111, \"#46039f\"], [0.2222222222222222, \"#7201a8\"], [0.3333333333333333, \"#9c179e\"], [0.4444444444444444, \"#bd3786\"], [0.5555555555555556, \"#d8576b\"], [0.6666666666666666, \"#ed7953\"], [0.7777777777777778, \"#fb9f3a\"], [0.8888888888888888, \"#fdca26\"], [1.0, \"#f0f921\"]], \"sequentialminus\": [[0.0, \"#0d0887\"], [0.1111111111111111, \"#46039f\"], [0.2222222222222222, \"#7201a8\"], [0.3333333333333333, \"#9c179e\"], [0.4444444444444444, \"#bd3786\"], [0.5555555555555556, \"#d8576b\"], [0.6666666666666666, \"#ed7953\"], [0.7777777777777778, \"#fb9f3a\"], [0.8888888888888888, \"#fdca26\"], [1.0, \"#f0f921\"]]}, \"colorway\": [\"#636efa\", \"#EF553B\", \"#00cc96\", \"#ab63fa\", \"#FFA15A\", \"#19d3f3\", \"#FF6692\", \"#B6E880\", \"#FF97FF\", \"#FECB52\"], \"font\": {\"color\": \"#2a3f5f\"}, \"geo\": {\"bgcolor\": \"white\", \"lakecolor\": \"white\", \"landcolor\": \"#E5ECF6\", \"showlakes\": true, \"showland\": true, \"subunitcolor\": \"white\"}, \"hoverlabel\": {\"align\": \"left\"}, \"hovermode\": \"closest\", \"mapbox\": {\"style\": \"light\"}, \"paper_bgcolor\": \"white\", \"plot_bgcolor\": \"#E5ECF6\", \"polar\": {\"angularaxis\": {\"gridcolor\": \"white\", \"linecolor\": \"white\", \"ticks\": \"\"}, \"bgcolor\": \"#E5ECF6\", \"radialaxis\": {\"gridcolor\": \"white\", \"linecolor\": \"white\", \"ticks\": \"\"}}, \"scene\": {\"xaxis\": {\"backgroundcolor\": \"#E5ECF6\", \"gridcolor\": \"white\", \"gridwidth\": 2, \"linecolor\": \"white\", \"showbackground\": true, \"ticks\": \"\", \"zerolinecolor\": \"white\"}, \"yaxis\": {\"backgroundcolor\": \"#E5ECF6\", \"gridcolor\": \"white\", \"gridwidth\": 2, \"linecolor\": \"white\", \"showbackground\": true, \"ticks\": \"\", \"zerolinecolor\": \"white\"}, \"zaxis\": {\"backgroundcolor\": \"#E5ECF6\", \"gridcolor\": \"white\", \"gridwidth\": 2, \"linecolor\": \"white\", \"showbackground\": true, \"ticks\": \"\", \"zerolinecolor\": \"white\"}}, \"shapedefaults\": {\"line\": {\"color\": \"#2a3f5f\"}}, \"ternary\": {\"aaxis\": {\"gridcolor\": \"white\", \"linecolor\": \"white\", \"ticks\": \"\"}, \"baxis\": {\"gridcolor\": \"white\", \"linecolor\": \"white\", \"ticks\": \"\"}, \"bgcolor\": \"#E5ECF6\", \"caxis\": {\"gridcolor\": \"white\", \"linecolor\": \"white\", \"ticks\": \"\"}}, \"title\": {\"x\": 0.05}, \"xaxis\": {\"automargin\": true, \"gridcolor\": \"white\", \"linecolor\": \"white\", \"ticks\": \"\", \"title\": {\"standoff\": 15}, \"zerolinecolor\": \"white\", \"zerolinewidth\": 2}, \"yaxis\": {\"automargin\": true, \"gridcolor\": \"white\", \"linecolor\": \"white\", \"ticks\": \"\", \"title\": {\"standoff\": 15}, \"zerolinecolor\": \"white\", \"zerolinewidth\": 2}}}, \"title\": {\"font\": {\"size\": 30}, \"text\": \"Vth extraction from Pulse\", \"x\": 0.5}, \"xaxis\": {\"anchor\": \"y\", \"domain\": [0.0, 0.94], \"title\": {\"font\": {\"size\": 20}, \"text\": \"VG [V]\"}}, \"yaxis\": {\"anchor\": \"x\", \"domain\": [0.0, 1.0], \"title\": {\"font\": {\"size\": 20}, \"text\": \"sqrt(absID) [A]\"}}, \"yaxis2\": {\"anchor\": \"x\", \"overlaying\": \"y\", \"side\": \"right\"}},\n",
              "                        {\"responsive\": true}\n",
              "                    ).then(function(){\n",
              "                            \n",
              "var gd = document.getElementById('4d86eb2b-2d6b-4874-a9ad-728371a6368c');\n",
              "var x = new MutationObserver(function (mutations, observer) {{\n",
              "        var display = window.getComputedStyle(gd).display;\n",
              "        if (!display || display === 'none') {{\n",
              "            console.log([gd, 'removed!']);\n",
              "            Plotly.purge(gd);\n",
              "            observer.disconnect();\n",
              "        }}\n",
              "}});\n",
              "\n",
              "// Listen for the removal of the full notebook cells\n",
              "var notebookContainer = gd.closest('#notebook-container');\n",
              "if (notebookContainer) {{\n",
              "    x.observe(notebookContainer, {childList: true});\n",
              "}}\n",
              "\n",
              "// Listen for the clearing of the current output cell\n",
              "var outputEl = gd.closest('.output');\n",
              "if (outputEl) {{\n",
              "    x.observe(outputEl, {childList: true});\n",
              "}}\n",
              "\n",
              "                        })\n",
              "                };\n",
              "                \n",
              "            </script>\n",
              "        </div>\n",
              "</body>\n",
              "</html>"
            ]
          },
          "metadata": {
            "tags": []
          }
        }
      ]
    },
    {
      "cell_type": "markdown",
      "metadata": {
        "id": "I0jAjnktLRqg",
        "colab_type": "text"
      },
      "source": [
        "## Extraction of Capacitance"
      ]
    },
    {
      "cell_type": "markdown",
      "metadata": {
        "id": "mfP4GB7MQ4BX",
        "colab_type": "text"
      },
      "source": [
        "I used the plot in Fig3A of the Paper to estimate capacitance. \n",
        "\n",
        "![Capacitance extraction](https://drive.google.com/uc?export=view&id=1yRBzQTZVWtxcJ9NRr2E_t5y28NKweVba)  \n",
        "\n",
        "\n",
        "For Batch1, d=250[nm], 1/c=30;\n",
        ">  $c=33 nF/cm^{2}$\n"
      ]
    },
    {
      "cell_type": "markdown",
      "metadata": {
        "id": "RIQs-94kLUnd",
        "colab_type": "text"
      },
      "source": [
        "## Extraction of Fied effect mobility in Saturation mode"
      ]
    },
    {
      "cell_type": "markdown",
      "metadata": {
        "id": "_-Ka3ungZ8xo",
        "colab_type": "text"
      },
      "source": [
        "To extract sat_mobility i used equation: \n",
        "> $ \\mu_{sat} = \\frac{2L}{WC}(\\frac{\\delta {\\sqrt{\\left |I_{DS} \\right |}}}{\\delta{V_{GS}}})^2 = \\frac{cm^2}{V*s} $\n",
        "\n",
        "Where C is capacitance, W/L are the transitor's dimensions. \n",
        "\n",
        "\n",
        "From a bit of research, i am not sure this is the right equation. \n",
        "\n",
        "---\n",
        "\n",
        "From [wikipedia electron mobility](https://en.wikipedia.org/wiki/Electron_mobility#Electric_field_dependence_and_velocity_saturation): \n",
        "Using saturation mode\n",
        "In this technique,[20] for each fixed gate voltage VGS, the drain-source voltage VDS is increased until the current ID saturates. Next, the square root of this saturated current is plotted against the gate voltage, and the slope msat is measured. Then the mobility is\n",
        "\n",
        "> $\\mu =m_{sat}^{2}{\\frac {2L}{W}}{\\frac {1}{C_{i}}}$\n",
        "\n",
        "This matches  my equation. \n",
        "\n",
        "---\n",
        "\n",
        "From Researcgate Q:[ How_to_determine_the_value_of_effective_hole_and_electron_mobility_from_graph_of_square_root_drain_current_vs_gate_voltage](https://www.researchgate.net/post/How_to_determine_the_value_of_effective_hole_and_electron_mobility_from_graph_of_square_root_drain_current_vs_gate_voltage)\n",
        "\n",
        "\n",
        "it is very easy. You want to determine the value of mobility from the graph of square root drain current vs gate voltage - it means you want to find field-effect mobility in the  saturation region.\n",
        "1. Plot the graph of square root drain current vs gate voltage.\n",
        "2. Fit a line to the most linear region of your curve (i.e. do not include data below threshold voltage).\n",
        "3. Once you have a fit in the form y=ax + b, extract a and insert this value to the following formula:\n",
        "mobility = 2L/W x 1/Ci x (a x a)\n",
        "You can obtain this formula calculating derivative d[sqrt(Isd]/d(Vg) using the equation for Isd in the saturation region.\n",
        "4. Check your units and if everything is OK you should get your saturation region mobility in cm2/Vs.\n",
        "\n",
        "---\n",
        "\n",
        "However Ilaria in the Thesis indicates an equation with VD: \n",
        "\n",
        "Saturation mobility (µsat) Obtained with high VD:\n",
        "> $ \\mu_{sat} = \\frac{(\\frac{\\delta {\\sqrt{I_{DS}}}}{\\delta{V_{GS}}})^2} {\\frac{1}{2}C_i \\frac{W}{L}V_D} $\n",
        "\n",
        "\n",
        " (1.7)\n",
        "This mobility doesn’t require Vth and it is less sensitive to the contact\n",
        "resistance but it describes a situation where the channel is pinched-off\n",
        "and its effective length is smaller than L.\n",
        "\n",
        "---\n",
        "\n",
        "In her equation there is VD present, while in the one that i used no. This could have major differences on our mobility comparisons. \n",
        "\n"
      ]
    },
    {
      "cell_type": "code",
      "metadata": {
        "id": "spnwr7DKX9xE",
        "colab_type": "code",
        "cellView": "form",
        "colab": {
          "base_uri": "https://localhost:8080/",
          "height": 35
        },
        "outputId": "7d777309-5538-49c9-cb2c-7e2c6ddf8ee0"
      },
      "source": [
        "#@title Mobility in cm^2/(V*s)\n",
        "mob_sat(df['#VGate(V)'],df['IDrain(A)'],C=3.3e-8, W=0.016, L=0.002)"
      ],
      "execution_count": 27,
      "outputs": [
        {
          "output_type": "execute_result",
          "data": {
            "text/plain": [
              "14.062471170454263"
            ]
          },
          "metadata": {
            "tags": []
          },
          "execution_count": 27
        }
      ]
    },
    {
      "cell_type": "markdown",
      "metadata": {
        "id": "4SNy1nBoMRd7",
        "colab_type": "text"
      },
      "source": [
        "## Extraction of On/Off"
      ]
    },
    {
      "cell_type": "markdown",
      "metadata": {
        "id": "2tTWYdBneu7i",
        "colab_type": "text"
      },
      "source": [
        "On/off ratio This parameter defines the ratio between the maximum and the\n",
        "minimum value of the drain current. A large value is desirable to obtain a\n",
        "good device for successful usage as electronic switch."
      ]
    },
    {
      "cell_type": "code",
      "metadata": {
        "id": "0k7Sjpz5Y3Nl",
        "colab_type": "code",
        "cellView": "form",
        "colab": {
          "base_uri": "https://localhost:8080/",
          "height": 35
        },
        "outputId": "c7bf6982-bd41-461c-dc63-e46ab531f15f"
      },
      "source": [
        "#@title on_off extraction \n",
        "on_off( np.max(abs(df['IDrain(A)'])),np.min(abs(df['IDrain(A)'])))\n"
      ],
      "execution_count": 28,
      "outputs": [
        {
          "output_type": "execute_result",
          "data": {
            "text/plain": [
              "12496799999.999998"
            ]
          },
          "metadata": {
            "tags": []
          },
          "execution_count": 28
        }
      ]
    },
    {
      "cell_type": "markdown",
      "metadata": {
        "id": "xhgypImrMVKs",
        "colab_type": "text"
      },
      "source": [
        "##Extraction of Subthreshold Swing "
      ]
    },
    {
      "cell_type": "markdown",
      "metadata": {
        "id": "4qb9sNsnaUJW",
        "colab_type": "text"
      },
      "source": [
        "Subthreshold swing (S) S is defined as the inverse of the maximum slope of\n",
        "the transfer characteristic. It represents the necessary VG to increase ID by\n",
        "one decade\n",
        "\n",
        " > $S [V/dec] = \\frac{1}{max\\frac{\\delta \\log{I_{DS}}}{{\\delta{V_{GS}}}}}$\n",
        "\n",
        "\n",
        " \n"
      ]
    },
    {
      "cell_type": "code",
      "metadata": {
        "id": "atsrPDnaaCUE",
        "colab_type": "code",
        "cellView": "both",
        "colab": {
          "base_uri": "https://localhost:8080/",
          "height": 181
        },
        "outputId": "f84c6efb-2c59-420e-cfe2-bdb451e6babc"
      },
      "source": [
        "#@title Extraction of Subthreshold Swing { form-width: \"30px\" }\n",
        "subthreshold_swing(df['#VGate(V)'], abs(df['IDrain(A)']))"
      ],
      "execution_count": 29,
      "outputs": [
        {
          "output_type": "stream",
          "text": [
            "/usr/local/lib/python3.6/dist-packages/pandas/core/series.py:679: RuntimeWarning:\n",
            "\n",
            "divide by zero encountered in log\n",
            "\n",
            "/usr/local/lib/python3.6/dist-packages/numpy/lib/function_base.py:1269: RuntimeWarning:\n",
            "\n",
            "invalid value encountered in subtract\n",
            "\n"
          ],
          "name": "stderr"
        },
        {
          "output_type": "execute_result",
          "data": {
            "text/plain": [
              "1.2099521305629775e-06"
            ]
          },
          "metadata": {
            "tags": []
          },
          "execution_count": 29
        }
      ]
    },
    {
      "cell_type": "markdown",
      "metadata": {
        "id": "CPiCEh2QdjHa",
        "colab_type": "text"
      },
      "source": [
        "# Plots for presentation "
      ]
    },
    {
      "cell_type": "markdown",
      "metadata": {
        "id": "3u6dyOh3dluI",
        "colab_type": "text"
      },
      "source": [
        "Important Plots are VTh vs time, Mob vs time, "
      ]
    },
    {
      "cell_type": "code",
      "metadata": {
        "id": "a3TjGGYNLXX0",
        "colab_type": "code",
        "cellView": "both",
        "colab": {
          "base_uri": "https://localhost:8080/",
          "height": 198
        },
        "outputId": "7ee05e76-0e55-46f4-e343-f7d290f3de69"
      },
      "source": [
        "#@title Create the dataframe of iteration, time, mob, Vth\n",
        "df_values= Vth_mob_extraction_vs_iteration(Pulse.clean[0])\n",
        "df_values.head()"
      ],
      "execution_count": 15,
      "outputs": [
        {
          "output_type": "execute_result",
          "data": {
            "text/html": [
              "<div>\n",
              "<style scoped>\n",
              "    .dataframe tbody tr th:only-of-type {\n",
              "        vertical-align: middle;\n",
              "    }\n",
              "\n",
              "    .dataframe tbody tr th {\n",
              "        vertical-align: top;\n",
              "    }\n",
              "\n",
              "    .dataframe thead th {\n",
              "        text-align: right;\n",
              "    }\n",
              "</style>\n",
              "<table border=\"1\" class=\"dataframe\">\n",
              "  <thead>\n",
              "    <tr style=\"text-align: right;\">\n",
              "      <th></th>\n",
              "      <th>iteration</th>\n",
              "      <th>time(s)</th>\n",
              "      <th>Vth_sat</th>\n",
              "      <th>Mob_sat</th>\n",
              "    </tr>\n",
              "  </thead>\n",
              "  <tbody>\n",
              "    <tr>\n",
              "      <th>0</th>\n",
              "      <td>1.0</td>\n",
              "      <td>0.132</td>\n",
              "      <td>0.474591</td>\n",
              "      <td>8.210427</td>\n",
              "    </tr>\n",
              "    <tr>\n",
              "      <th>1</th>\n",
              "      <td>2.0</td>\n",
              "      <td>5.187</td>\n",
              "      <td>0.475033</td>\n",
              "      <td>8.211992</td>\n",
              "    </tr>\n",
              "    <tr>\n",
              "      <th>2</th>\n",
              "      <td>3.0</td>\n",
              "      <td>10.252</td>\n",
              "      <td>0.475966</td>\n",
              "      <td>8.212978</td>\n",
              "    </tr>\n",
              "    <tr>\n",
              "      <th>3</th>\n",
              "      <td>4.0</td>\n",
              "      <td>15.326</td>\n",
              "      <td>0.476044</td>\n",
              "      <td>8.213401</td>\n",
              "    </tr>\n",
              "    <tr>\n",
              "      <th>4</th>\n",
              "      <td>5.0</td>\n",
              "      <td>20.406</td>\n",
              "      <td>0.476562</td>\n",
              "      <td>8.215133</td>\n",
              "    </tr>\n",
              "  </tbody>\n",
              "</table>\n",
              "</div>"
            ],
            "text/plain": [
              "   iteration  time(s)   Vth_sat   Mob_sat\n",
              "0        1.0    0.132  0.474591  8.210427\n",
              "1        2.0    5.187  0.475033  8.211992\n",
              "2        3.0   10.252  0.475966  8.212978\n",
              "3        4.0   15.326  0.476044  8.213401\n",
              "4        5.0   20.406  0.476562  8.215133"
            ]
          },
          "metadata": {
            "tags": []
          },
          "execution_count": 15
        }
      ]
    },
    {
      "cell_type": "code",
      "metadata": {
        "id": "15QNa0ljybaa",
        "colab_type": "code",
        "cellView": "form",
        "colab": {
          "base_uri": "https://localhost:8080/",
          "height": 776
        },
        "outputId": "4659df59-838c-44a4-d1e9-33d816ea8637"
      },
      "source": [
        "#@title PLOT: Vth-Mob vs time { form-width: \"30px\" }\n",
        "#Create the plot Mob-Vth vs time\n",
        "Plot_Pulse_param(df_values)"
      ],
      "execution_count": 16,
      "outputs": [
        {
          "output_type": "error",
          "ename": "KeyError",
          "evalue": "ignored",
          "traceback": [
            "\u001b[0;31m---------------------------------------------------------------------------\u001b[0m",
            "\u001b[0;31mKeyError\u001b[0m                                  Traceback (most recent call last)",
            "\u001b[0;32m/usr/local/lib/python3.6/dist-packages/pandas/core/indexes/base.py\u001b[0m in \u001b[0;36mget_loc\u001b[0;34m(self, key, method, tolerance)\u001b[0m\n\u001b[1;32m   2645\u001b[0m             \u001b[0;32mtry\u001b[0m\u001b[0;34m:\u001b[0m\u001b[0;34m\u001b[0m\u001b[0;34m\u001b[0m\u001b[0m\n\u001b[0;32m-> 2646\u001b[0;31m                 \u001b[0;32mreturn\u001b[0m \u001b[0mself\u001b[0m\u001b[0;34m.\u001b[0m\u001b[0m_engine\u001b[0m\u001b[0;34m.\u001b[0m\u001b[0mget_loc\u001b[0m\u001b[0;34m(\u001b[0m\u001b[0mkey\u001b[0m\u001b[0;34m)\u001b[0m\u001b[0;34m\u001b[0m\u001b[0;34m\u001b[0m\u001b[0m\n\u001b[0m\u001b[1;32m   2647\u001b[0m             \u001b[0;32mexcept\u001b[0m \u001b[0mKeyError\u001b[0m\u001b[0;34m:\u001b[0m\u001b[0;34m\u001b[0m\u001b[0;34m\u001b[0m\u001b[0m\n",
            "\u001b[0;32mpandas/_libs/index.pyx\u001b[0m in \u001b[0;36mpandas._libs.index.IndexEngine.get_loc\u001b[0;34m()\u001b[0m\n",
            "\u001b[0;32mpandas/_libs/index.pyx\u001b[0m in \u001b[0;36mpandas._libs.index.IndexEngine.get_loc\u001b[0;34m()\u001b[0m\n",
            "\u001b[0;32mpandas/_libs/hashtable_class_helper.pxi\u001b[0m in \u001b[0;36mpandas._libs.hashtable.PyObjectHashTable.get_item\u001b[0;34m()\u001b[0m\n",
            "\u001b[0;32mpandas/_libs/hashtable_class_helper.pxi\u001b[0m in \u001b[0;36mpandas._libs.hashtable.PyObjectHashTable.get_item\u001b[0;34m()\u001b[0m\n",
            "\u001b[0;31mKeyError\u001b[0m: '#VGate(V)'",
            "\nDuring handling of the above exception, another exception occurred:\n",
            "\u001b[0;31mKeyError\u001b[0m                                  Traceback (most recent call last)",
            "\u001b[0;32m<ipython-input-16-7beced222f70>\u001b[0m in \u001b[0;36m<module>\u001b[0;34m()\u001b[0m\n\u001b[1;32m      1\u001b[0m \u001b[0;31m#@title PLOT: Vth-Mob vs time { form-width: \"30px\" }\u001b[0m\u001b[0;34m\u001b[0m\u001b[0;34m\u001b[0m\u001b[0;34m\u001b[0m\u001b[0m\n\u001b[1;32m      2\u001b[0m \u001b[0;31m#Create the plot Mob-Vth vs time\u001b[0m\u001b[0;34m\u001b[0m\u001b[0;34m\u001b[0m\u001b[0;34m\u001b[0m\u001b[0m\n\u001b[0;32m----> 3\u001b[0;31m \u001b[0mPlot_Pulse_param\u001b[0m\u001b[0;34m(\u001b[0m\u001b[0mdf_values\u001b[0m\u001b[0;34m)\u001b[0m\u001b[0;34m\u001b[0m\u001b[0;34m\u001b[0m\u001b[0m\n\u001b[0m",
            "\u001b[0;32m<ipython-input-5-30a743e36ba5>\u001b[0m in \u001b[0;36mPlot_Pulse_param\u001b[0;34m(df_)\u001b[0m\n\u001b[1;32m      9\u001b[0m     \u001b[0;31m# VG vs time\u001b[0m\u001b[0;34m\u001b[0m\u001b[0;34m\u001b[0m\u001b[0;34m\u001b[0m\u001b[0m\n\u001b[1;32m     10\u001b[0m   fig.add_trace(\n\u001b[0;32m---> 11\u001b[0;31m         \u001b[0mgo\u001b[0m\u001b[0;34m.\u001b[0m\u001b[0mScatter\u001b[0m\u001b[0;34m(\u001b[0m\u001b[0mx\u001b[0m\u001b[0;34m=\u001b[0m\u001b[0mdf_\u001b[0m\u001b[0;34m[\u001b[0m\u001b[0;34m\"time(s)\"\u001b[0m\u001b[0;34m]\u001b[0m\u001b[0;34m,\u001b[0m \u001b[0my\u001b[0m\u001b[0;34m=\u001b[0m\u001b[0mdf_\u001b[0m\u001b[0;34m[\u001b[0m\u001b[0;34m\"#VGate(V)\"\u001b[0m\u001b[0;34m]\u001b[0m\u001b[0;34m,\u001b[0m \u001b[0mname\u001b[0m\u001b[0;34m=\u001b[0m\u001b[0;34m'VG'\u001b[0m\u001b[0;34m,\u001b[0m \u001b[0mmode\u001b[0m\u001b[0;34m=\u001b[0m\u001b[0;34m'markers'\u001b[0m \u001b[0;34m,\u001b[0m \u001b[0mmarker_color\u001b[0m\u001b[0;34m=\u001b[0m\u001b[0;34m'black'\u001b[0m\u001b[0;34m)\u001b[0m\u001b[0;34m,\u001b[0m\u001b[0;34m\u001b[0m\u001b[0;34m\u001b[0m\u001b[0m\n\u001b[0m\u001b[1;32m     12\u001b[0m         \u001b[0msecondary_y\u001b[0m\u001b[0;34m=\u001b[0m\u001b[0;32mFalse\u001b[0m\u001b[0;34m\u001b[0m\u001b[0;34m\u001b[0m\u001b[0m\n\u001b[1;32m     13\u001b[0m     )\n",
            "\u001b[0;32m/usr/local/lib/python3.6/dist-packages/pandas/core/frame.py\u001b[0m in \u001b[0;36m__getitem__\u001b[0;34m(self, key)\u001b[0m\n\u001b[1;32m   2798\u001b[0m             \u001b[0;32mif\u001b[0m \u001b[0mself\u001b[0m\u001b[0;34m.\u001b[0m\u001b[0mcolumns\u001b[0m\u001b[0;34m.\u001b[0m\u001b[0mnlevels\u001b[0m \u001b[0;34m>\u001b[0m \u001b[0;36m1\u001b[0m\u001b[0;34m:\u001b[0m\u001b[0;34m\u001b[0m\u001b[0;34m\u001b[0m\u001b[0m\n\u001b[1;32m   2799\u001b[0m                 \u001b[0;32mreturn\u001b[0m \u001b[0mself\u001b[0m\u001b[0;34m.\u001b[0m\u001b[0m_getitem_multilevel\u001b[0m\u001b[0;34m(\u001b[0m\u001b[0mkey\u001b[0m\u001b[0;34m)\u001b[0m\u001b[0;34m\u001b[0m\u001b[0;34m\u001b[0m\u001b[0m\n\u001b[0;32m-> 2800\u001b[0;31m             \u001b[0mindexer\u001b[0m \u001b[0;34m=\u001b[0m \u001b[0mself\u001b[0m\u001b[0;34m.\u001b[0m\u001b[0mcolumns\u001b[0m\u001b[0;34m.\u001b[0m\u001b[0mget_loc\u001b[0m\u001b[0;34m(\u001b[0m\u001b[0mkey\u001b[0m\u001b[0;34m)\u001b[0m\u001b[0;34m\u001b[0m\u001b[0;34m\u001b[0m\u001b[0m\n\u001b[0m\u001b[1;32m   2801\u001b[0m             \u001b[0;32mif\u001b[0m \u001b[0mis_integer\u001b[0m\u001b[0;34m(\u001b[0m\u001b[0mindexer\u001b[0m\u001b[0;34m)\u001b[0m\u001b[0;34m:\u001b[0m\u001b[0;34m\u001b[0m\u001b[0;34m\u001b[0m\u001b[0m\n\u001b[1;32m   2802\u001b[0m                 \u001b[0mindexer\u001b[0m \u001b[0;34m=\u001b[0m \u001b[0;34m[\u001b[0m\u001b[0mindexer\u001b[0m\u001b[0;34m]\u001b[0m\u001b[0;34m\u001b[0m\u001b[0;34m\u001b[0m\u001b[0m\n",
            "\u001b[0;32m/usr/local/lib/python3.6/dist-packages/pandas/core/indexes/base.py\u001b[0m in \u001b[0;36mget_loc\u001b[0;34m(self, key, method, tolerance)\u001b[0m\n\u001b[1;32m   2646\u001b[0m                 \u001b[0;32mreturn\u001b[0m \u001b[0mself\u001b[0m\u001b[0;34m.\u001b[0m\u001b[0m_engine\u001b[0m\u001b[0;34m.\u001b[0m\u001b[0mget_loc\u001b[0m\u001b[0;34m(\u001b[0m\u001b[0mkey\u001b[0m\u001b[0;34m)\u001b[0m\u001b[0;34m\u001b[0m\u001b[0;34m\u001b[0m\u001b[0m\n\u001b[1;32m   2647\u001b[0m             \u001b[0;32mexcept\u001b[0m \u001b[0mKeyError\u001b[0m\u001b[0;34m:\u001b[0m\u001b[0;34m\u001b[0m\u001b[0;34m\u001b[0m\u001b[0m\n\u001b[0;32m-> 2648\u001b[0;31m                 \u001b[0;32mreturn\u001b[0m \u001b[0mself\u001b[0m\u001b[0;34m.\u001b[0m\u001b[0m_engine\u001b[0m\u001b[0;34m.\u001b[0m\u001b[0mget_loc\u001b[0m\u001b[0;34m(\u001b[0m\u001b[0mself\u001b[0m\u001b[0;34m.\u001b[0m\u001b[0m_maybe_cast_indexer\u001b[0m\u001b[0;34m(\u001b[0m\u001b[0mkey\u001b[0m\u001b[0;34m)\u001b[0m\u001b[0;34m)\u001b[0m\u001b[0;34m\u001b[0m\u001b[0;34m\u001b[0m\u001b[0m\n\u001b[0m\u001b[1;32m   2649\u001b[0m         \u001b[0mindexer\u001b[0m \u001b[0;34m=\u001b[0m \u001b[0mself\u001b[0m\u001b[0;34m.\u001b[0m\u001b[0mget_indexer\u001b[0m\u001b[0;34m(\u001b[0m\u001b[0;34m[\u001b[0m\u001b[0mkey\u001b[0m\u001b[0;34m]\u001b[0m\u001b[0;34m,\u001b[0m \u001b[0mmethod\u001b[0m\u001b[0;34m=\u001b[0m\u001b[0mmethod\u001b[0m\u001b[0;34m,\u001b[0m \u001b[0mtolerance\u001b[0m\u001b[0;34m=\u001b[0m\u001b[0mtolerance\u001b[0m\u001b[0;34m)\u001b[0m\u001b[0;34m\u001b[0m\u001b[0;34m\u001b[0m\u001b[0m\n\u001b[1;32m   2650\u001b[0m         \u001b[0;32mif\u001b[0m \u001b[0mindexer\u001b[0m\u001b[0;34m.\u001b[0m\u001b[0mndim\u001b[0m \u001b[0;34m>\u001b[0m \u001b[0;36m1\u001b[0m \u001b[0;32mor\u001b[0m \u001b[0mindexer\u001b[0m\u001b[0;34m.\u001b[0m\u001b[0msize\u001b[0m \u001b[0;34m>\u001b[0m \u001b[0;36m1\u001b[0m\u001b[0;34m:\u001b[0m\u001b[0;34m\u001b[0m\u001b[0;34m\u001b[0m\u001b[0m\n",
            "\u001b[0;32mpandas/_libs/index.pyx\u001b[0m in \u001b[0;36mpandas._libs.index.IndexEngine.get_loc\u001b[0;34m()\u001b[0m\n",
            "\u001b[0;32mpandas/_libs/index.pyx\u001b[0m in \u001b[0;36mpandas._libs.index.IndexEngine.get_loc\u001b[0;34m()\u001b[0m\n",
            "\u001b[0;32mpandas/_libs/hashtable_class_helper.pxi\u001b[0m in \u001b[0;36mpandas._libs.hashtable.PyObjectHashTable.get_item\u001b[0;34m()\u001b[0m\n",
            "\u001b[0;32mpandas/_libs/hashtable_class_helper.pxi\u001b[0m in \u001b[0;36mpandas._libs.hashtable.PyObjectHashTable.get_item\u001b[0;34m()\u001b[0m\n",
            "\u001b[0;31mKeyError\u001b[0m: '#VGate(V)'"
          ]
        }
      ]
    },
    {
      "cell_type": "code",
      "metadata": {
        "id": "qlm0OnwxG0wC",
        "colab_type": "code",
        "cellView": "both",
        "colab": {}
      },
      "source": [
        "\n",
        "Iter_Rad_Start = 10 #@param {type:\"integer\"}\n",
        "Iter_Rad_Stop = 8 #@param {type:\"integer\"}\n",
        "\n"
      ],
      "execution_count": null,
      "outputs": []
    },
    {
      "cell_type": "code",
      "metadata": {
        "id": "cyhVCLMiKPNk",
        "colab_type": "code",
        "colab": {},
        "cellView": "form"
      },
      "source": [
        "#@title Ilaria Graph: Vth diff vs time { form-width: \"30px\" }\n",
        "\n",
        "\n",
        "\n",
        "Rad_start=[594,611,627,643,658,674,690]\n",
        "Rad_stop= [603,618,635,651,667,681,698]\n",
        "Vth_initial=df_values['Vth_sat'].iloc[Rad_start[0]]\n",
        "Vth_0=df_values['Vth_sat'].iloc[Rad_stop[-1]]\n",
        "\n",
        "\n",
        "df=df_values\n",
        "df['Vth-norm']=(df[\"Vth_sat\"]-Vth_initial) / abs(Vth_initial-Vth_0)\n",
        "df['time(s)']=df[\"time(s)\"]-df['time(s)'].iloc[Rad_stop[-1]]\n",
        "Vth_recovered = next(x[0] for x in enumerate(df['Vth-norm'].iloc[Rad_stop[-1]:]) if x[1] > 0)\n",
        "print (Vth_recovered)\n",
        "fig = make_subplots(specs=[[{\"secondary_y\": True}]])\n",
        "\n",
        "  # Vth vs time \n",
        "fig.add_trace(\n",
        "      go.Scatter(x=df['time(s)'], y=df[\"Vth-norm\"], name='Vth normalize after 180mGy', line=dict(color='orange' ), hovertext=df['iteration']),\n",
        "      secondary_y=False\n",
        "  )\n",
        "\n",
        "\n",
        "# Set x,y-axis title\n",
        "fig.update_xaxes(title_text=\"Time[s]\", titlefont=dict(size=20))\n",
        "fig.update_yaxes( title_text=\"Normalized Vth [V]\", secondary_y=False, titlefont=dict(size=20))\n",
        "# fig.update_yaxes( title_text=\"Time[s]\", secondary_y=True, titlefont=dict(size=20))\n",
        "\n",
        "fig.update_layout(\n",
        "    width = 800,\n",
        "    height = 500,\n",
        "    title = \"fixed-ratio axes with compressed axes\",\n",
        "    xaxis = dict(\n",
        "      range=[0,3000],  # sets the range of xaxis\n",
        "        # meanwhile compresses the xaxis by decreasing its \"domain\"\n",
        "    ),\n",
        "   \n",
        ")\n",
        "\n",
        "fig.show()\n"
      ],
      "execution_count": null,
      "outputs": []
    },
    {
      "cell_type": "code",
      "metadata": {
        "id": "52tBY7trPrWZ",
        "colab_type": "code",
        "colab": {}
      },
      "source": [
        "import plotly.graph_objects as go\n",
        "fig = go.Figure()\n",
        "fig.add_trace(\n",
        "      go.Scatter(x=df_values[\"time(s)\"]-df_values['time(s)'].iloc[Rad_stop[-1]], y=df_values[\"Vth-norm\"], name='Vth normalize after 180mGy', line=dict(color='orange' )),\n",
        "      secondary_y=False\n",
        "  )\n",
        "# fig.update_layout(\n",
        "#     width = 800,\n",
        "#     height = 500,\n",
        "#     title = \"fixed-ratio axes with compressed axes\",\n",
        "#     xaxis = dict(\n",
        "#       range=[0,1000],  # sets the range of xaxis\n",
        "#       constrain=\"domain\",  # meanwhile compresses the xaxis by decreasing its \"domain\"\n",
        "#     ),\n",
        "#     yaxis = dict(\n",
        "#       scaleanchor = \"x\",\n",
        "#       scaleratio = 1,\n",
        "#     ),\n",
        "# )\n",
        "fig.show()"
      ],
      "execution_count": null,
      "outputs": []
    },
    {
      "cell_type": "code",
      "metadata": {
        "id": "ptNAjvwZQ390",
        "colab_type": "code",
        "colab": {}
      },
      "source": [
        "\n"
      ],
      "execution_count": null,
      "outputs": []
    }
  ]
}