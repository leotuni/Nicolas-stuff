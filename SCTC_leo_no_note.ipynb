{
  "nbformat": 4,
  "nbformat_minor": 0,
  "metadata": {
    "colab": {
      "name": "SCTC_leo_no_note.ipynb",
      "provenance": [],
      "authorship_tag": "ABX9TyMlr3ptG1Jmkw4M/X3WIapW",
      "include_colab_link": true
    },
    "kernelspec": {
      "name": "python3",
      "display_name": "Python 3"
    }
  },
  "cells": [
    {
      "cell_type": "markdown",
      "metadata": {
        "id": "view-in-github",
        "colab_type": "text"
      },
      "source": [
        "<a href=\"https://colab.research.google.com/github/leotuni/Nicolas-stuff/blob/master/SCTC_leo_no_note.ipynb\" target=\"_parent\"><img src=\"https://colab.research.google.com/assets/colab-badge.svg\" alt=\"Open In Colab\"/></a>"
      ]
    },
    {
      "cell_type": "code",
      "metadata": {
        "id": "NAty8NCOwLR3",
        "colab_type": "code",
        "colab": {},
        "cellView": "form"
      },
      "source": [
        "#@title imports\n",
        "import datetime as dt\n",
        "import pandas as pd\n",
        "import pandas_datareader.data as web\n",
        "import numpy as np \n",
        "from itertools import product \n",
        "\n",
        "\n",
        "#display tools \n",
        "from IPython.display import display\n",
        "pd.options.display.max_columns = None\n",
        "# style.use('ggplot') #this is a cool style\n"
      ],
      "execution_count": 7,
      "outputs": []
    },
    {
      "cell_type": "code",
      "metadata": {
        "id": "1eNJK4r2wcXU",
        "colab_type": "code",
        "colab": {},
        "cellView": "form"
      },
      "source": [
        "#@title Dataframe setup  { form-width: \"30px\" }\n",
        "#the date in a nice date format\n",
        "start_date_data = '2018-03-14' #@param {type:\"date\"} \n",
        "start = dt.datetime.strptime(start_date_data, '%Y-%m-%d') \n",
        "stop = dt.datetime.now()\n",
        "\n",
        "#the symbols you gave me \n",
        "symbols = ['BTC-EUR','ETH-EUR', 'LTC-EUR' , 'XRP-EUR', 'BCH-EUR','MIOTA-EUR' ]\n",
        "\n",
        "\n",
        "#create a dictionary with all the stocks Q: do you prefer to work with lists of dictionaries ? \n",
        "dict_of_stock = { s: web.DataReader(s, \"yahoo\", start, stop) for s in (symbols) }\n"
      ],
      "execution_count": 8,
      "outputs": []
    },
    {
      "cell_type": "code",
      "metadata": {
        "id": "WeBhRlrbwwSF",
        "colab_type": "code",
        "colab": {},
        "cellView": "form"
      },
      "source": [
        "#@title Functions SMA part { form-width: \"30px\" }\n",
        "def conditions_fun (df, col1, col2, choices= '''[df['Close'], -df['Close']]''', defa = 0): \n",
        "    ''' \n",
        "      dataframe, col2, col2, choice after condition, defa = 0\n",
        "      returns pandas series, index taken from df \n",
        "    \n",
        "    '''\n",
        "    conditions = [\n",
        "                    ((df[col1] > df[col2]) & (df[col1].shift(1) < df[col2].shift(1))),\n",
        "                    ((df[col1] < df[col2]) & (df[col1].shift(1) > df[col2].shift(1))),\n",
        "                    ]\n",
        "    return  (pd.Series(np.select(conditions, choices, default=defa), index=df.index)) #default value we do nothing\n",
        " \n",
        "\n",
        "\n"
      ],
      "execution_count": 9,
      "outputs": []
    },
    {
      "cell_type": "code",
      "metadata": {
        "id": "dc5w7pzFwnd1",
        "colab_type": "code",
        "colab": {},
        "cellView": "form"
      },
      "source": [
        "#@title SMA main { form-width: \"30px\" }\n",
        "\n",
        "#Only getting close since it is all we are using \n",
        "Close=dict_of_stock['BTC-EUR']['Close']\n",
        "Close=Close.groupby(Close.index).first() #removes the duplicate indexes\n",
        "\n",
        "# made them from 2-6 , 7-11 just cause it is easier to see. made into strings cause im using them as col_names\n",
        "SMA1 = list(map(str, range(2, 6))) #\n",
        "SMA2 = list(map(str, range(7, 11)))\n",
        "\n",
        "# # table = [ Close.rolling(s,min_periods=1).mean() for s in (np.arange(1,10))]\n",
        "data = pd.DataFrame.from_dict({ s: Close.rolling(int(s),min_periods=1).mean() for s in SMA1 + SMA2 }) \n",
        "data.insert(0, 'Close', Close)\n",
        "\n",
        "\n",
        "#This creates a df for the buy and sell values based on the conditions\n",
        "buy_sell_df = pd.DataFrame.from_dict({  sma1 + '_' + sma2: conditions_fun (data, sma1, sma2 , choices= [data['Close'], -data['Close']])  for sma1, sma2  in product(SMA1, SMA2) })\n",
        "buy_sell_df.insert(0, 'Close', Close)\n",
        "\n",
        "\n",
        "# #look at these two \n",
        "# data\n",
        "# buy_sell_df"
      ],
      "execution_count": 10,
      "outputs": []
    },
    {
      "cell_type": "code",
      "metadata": {
        "id": "BZLomFv0Bx-u",
        "colab_type": "code",
        "colab": {}
      },
      "source": [
        ""
      ],
      "execution_count": null,
      "outputs": []
    }
  ]
}